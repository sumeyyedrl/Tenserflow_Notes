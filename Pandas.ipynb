{
 "cells": [
  {
   "cell_type": "code",
   "execution_count": 49,
   "id": "bd5fe573",
   "metadata": {},
   "outputs": [],
   "source": [
    "import numpy as np\n",
    "import pandas as pd #veri biliminin excel'i"
   ]
  },
  {
   "cell_type": "markdown",
   "id": "aee29fbd",
   "metadata": {},
   "source": [
    "## Seriler"
   ]
  },
  {
   "cell_type": "code",
   "execution_count": 50,
   "id": "d3800b2e",
   "metadata": {},
   "outputs": [
    {
     "data": {
      "text/plain": [
       "Ali       50\n",
       "Zeynep    40\n",
       "Mehmet    30\n",
       "dtype: int64"
      ]
     },
     "execution_count": 50,
     "metadata": {},
     "output_type": "execute_result"
    }
   ],
   "source": [
    "sozluk = {\"Ali\" : 50 , \"Zeynep\" : 40 , \"Mehmet\" : 30}\n",
    "pd.Series(sozluk)"
   ]
  },
  {
   "cell_type": "code",
   "execution_count": 51,
   "id": "3ec61580",
   "metadata": {},
   "outputs": [
    {
     "data": {
      "text/plain": [
       "Ali       50\n",
       "Zeynep    40\n",
       "Mehmet    30\n",
       "dtype: int64"
      ]
     },
     "execution_count": 51,
     "metadata": {},
     "output_type": "execute_result"
    }
   ],
   "source": [
    "yas = [50,40,30] # numpy dizisiyle de yapılabilir\n",
    "isim = [\"Ali\",\"Zeynep\",\"Mehmet\"]\n",
    "pd.Series(yas,isim) # pd.Series(data=yas,index=isim)"
   ]
  },
  {
   "cell_type": "code",
   "execution_count": 52,
   "id": "3af201da",
   "metadata": {},
   "outputs": [
    {
     "data": {
      "text/plain": [
       "Ali       30\n",
       "Zeynep    20\n",
       "Mehmet     9\n",
       "dtype: int64"
      ]
     },
     "execution_count": 52,
     "metadata": {},
     "output_type": "execute_result"
    }
   ],
   "source": [
    "yarismaSonucu1=pd.Series([10,5,1],[\"Ali\",\"Zeynep\",\"Mehmet\"])\n",
    "yarismaSonucu2=pd.Series([20,15,8],[\"Ali\",\"Zeynep\",\"Mehmet\"])\n",
    "sonuc=yarismaSonucu1+yarismaSonucu2\n",
    "sonuc"
   ]
  },
  {
   "cell_type": "code",
   "execution_count": 53,
   "id": "4f61e140",
   "metadata": {},
   "outputs": [
    {
     "data": {
      "text/plain": [
       "Ahmet      NaN\n",
       "Ali        NaN\n",
       "Mehmet    21.0\n",
       "Zeynep    29.0\n",
       "dtype: float64"
      ]
     },
     "execution_count": 53,
     "metadata": {},
     "output_type": "execute_result"
    }
   ],
   "source": [
    "yarismaSonucu3=pd.Series([4,9,12],[\"Ahmet\",\"Zeynep\",\"Mehmet\"])\n",
    "sonuc=sonuc+yarismaSonucu3\n",
    "sonuc"
   ]
  },
  {
   "cell_type": "markdown",
   "id": "2df9c082",
   "metadata": {},
   "source": [
    "## Data Frame"
   ]
  },
  {
   "cell_type": "code",
   "execution_count": 54,
   "id": "cefd56e1",
   "metadata": {},
   "outputs": [
    {
     "data": {
      "text/html": [
       "<div>\n",
       "<style scoped>\n",
       "    .dataframe tbody tr th:only-of-type {\n",
       "        vertical-align: middle;\n",
       "    }\n",
       "\n",
       "    .dataframe tbody tr th {\n",
       "        vertical-align: top;\n",
       "    }\n",
       "\n",
       "    .dataframe thead th {\n",
       "        text-align: right;\n",
       "    }\n",
       "</style>\n",
       "<table border=\"1\" class=\"dataframe\">\n",
       "  <thead>\n",
       "    <tr style=\"text-align: right;\">\n",
       "      <th></th>\n",
       "      <th>0</th>\n",
       "      <th>1</th>\n",
       "      <th>2</th>\n",
       "    </tr>\n",
       "  </thead>\n",
       "  <tbody>\n",
       "    <tr>\n",
       "      <th>0</th>\n",
       "      <td>0.402335</td>\n",
       "      <td>-0.036583</td>\n",
       "      <td>-1.131570</td>\n",
       "    </tr>\n",
       "    <tr>\n",
       "      <th>1</th>\n",
       "      <td>-0.142838</td>\n",
       "      <td>-0.852000</td>\n",
       "      <td>-0.280879</td>\n",
       "    </tr>\n",
       "    <tr>\n",
       "      <th>2</th>\n",
       "      <td>0.890631</td>\n",
       "      <td>-0.449569</td>\n",
       "      <td>0.444594</td>\n",
       "    </tr>\n",
       "    <tr>\n",
       "      <th>3</th>\n",
       "      <td>0.416868</td>\n",
       "      <td>-0.363875</td>\n",
       "      <td>1.333533</td>\n",
       "    </tr>\n",
       "  </tbody>\n",
       "</table>\n",
       "</div>"
      ],
      "text/plain": [
       "          0         1         2\n",
       "0  0.402335 -0.036583 -1.131570\n",
       "1 -0.142838 -0.852000 -0.280879\n",
       "2  0.890631 -0.449569  0.444594\n",
       "3  0.416868 -0.363875  1.333533"
      ]
     },
     "execution_count": 54,
     "metadata": {},
     "output_type": "execute_result"
    }
   ],
   "source": [
    "veriler = np.random.randn(4,3)\n",
    "dataFrame = pd.DataFrame(veriler) # excel'e benzetir\n",
    "dataFrame"
   ]
  },
  {
   "cell_type": "code",
   "execution_count": 55,
   "id": "de44e651",
   "metadata": {},
   "outputs": [
    {
     "data": {
      "text/plain": [
       "0    0.402335\n",
       "1   -0.142838\n",
       "2    0.890631\n",
       "3    0.416868\n",
       "Name: 0, dtype: float64"
      ]
     },
     "execution_count": 55,
     "metadata": {},
     "output_type": "execute_result"
    }
   ],
   "source": [
    "dataFrame[0] # satırı getirir!!!"
   ]
  },
  {
   "cell_type": "code",
   "execution_count": 56,
   "id": "31b731d5",
   "metadata": {},
   "outputs": [
    {
     "data": {
      "text/html": [
       "<div>\n",
       "<style scoped>\n",
       "    .dataframe tbody tr th:only-of-type {\n",
       "        vertical-align: middle;\n",
       "    }\n",
       "\n",
       "    .dataframe tbody tr th {\n",
       "        vertical-align: top;\n",
       "    }\n",
       "\n",
       "    .dataframe thead th {\n",
       "        text-align: right;\n",
       "    }\n",
       "</style>\n",
       "<table border=\"1\" class=\"dataframe\">\n",
       "  <thead>\n",
       "    <tr style=\"text-align: right;\">\n",
       "      <th></th>\n",
       "      <th>Maas</th>\n",
       "      <th>Yas</th>\n",
       "      <th>Boy</th>\n",
       "    </tr>\n",
       "  </thead>\n",
       "  <tbody>\n",
       "    <tr>\n",
       "      <th>Ali</th>\n",
       "      <td>0.402335</td>\n",
       "      <td>-0.036583</td>\n",
       "      <td>-1.131570</td>\n",
       "    </tr>\n",
       "    <tr>\n",
       "      <th>Zeynep</th>\n",
       "      <td>-0.142838</td>\n",
       "      <td>-0.852000</td>\n",
       "      <td>-0.280879</td>\n",
       "    </tr>\n",
       "    <tr>\n",
       "      <th>Mehmet</th>\n",
       "      <td>0.890631</td>\n",
       "      <td>-0.449569</td>\n",
       "      <td>0.444594</td>\n",
       "    </tr>\n",
       "    <tr>\n",
       "      <th>Selim</th>\n",
       "      <td>0.416868</td>\n",
       "      <td>-0.363875</td>\n",
       "      <td>1.333533</td>\n",
       "    </tr>\n",
       "  </tbody>\n",
       "</table>\n",
       "</div>"
      ],
      "text/plain": [
       "            Maas       Yas       Boy\n",
       "Ali     0.402335 -0.036583 -1.131570\n",
       "Zeynep -0.142838 -0.852000 -0.280879\n",
       "Mehmet  0.890631 -0.449569  0.444594\n",
       "Selim   0.416868 -0.363875  1.333533"
      ]
     },
     "execution_count": 56,
     "metadata": {},
     "output_type": "execute_result"
    }
   ],
   "source": [
    "dataFrame2 = pd.DataFrame(veriler, index= [\"Ali\",\"Zeynep\",\"Mehmet\",\"Selim\"],\n",
    "                          columns = [\"Maas\",\"Yas\",\"Boy\"])\n",
    "dataFrame2"
   ]
  },
  {
   "cell_type": "code",
   "execution_count": 57,
   "id": "3689e7e5",
   "metadata": {},
   "outputs": [
    {
     "data": {
      "text/html": [
       "<div>\n",
       "<style scoped>\n",
       "    .dataframe tbody tr th:only-of-type {\n",
       "        vertical-align: middle;\n",
       "    }\n",
       "\n",
       "    .dataframe tbody tr th {\n",
       "        vertical-align: top;\n",
       "    }\n",
       "\n",
       "    .dataframe thead th {\n",
       "        text-align: right;\n",
       "    }\n",
       "</style>\n",
       "<table border=\"1\" class=\"dataframe\">\n",
       "  <thead>\n",
       "    <tr style=\"text-align: right;\">\n",
       "      <th></th>\n",
       "      <th>Yas</th>\n",
       "      <th>Boy</th>\n",
       "    </tr>\n",
       "  </thead>\n",
       "  <tbody>\n",
       "    <tr>\n",
       "      <th>Ali</th>\n",
       "      <td>-0.036583</td>\n",
       "      <td>-1.131570</td>\n",
       "    </tr>\n",
       "    <tr>\n",
       "      <th>Zeynep</th>\n",
       "      <td>-0.852000</td>\n",
       "      <td>-0.280879</td>\n",
       "    </tr>\n",
       "    <tr>\n",
       "      <th>Mehmet</th>\n",
       "      <td>-0.449569</td>\n",
       "      <td>0.444594</td>\n",
       "    </tr>\n",
       "    <tr>\n",
       "      <th>Selim</th>\n",
       "      <td>-0.363875</td>\n",
       "      <td>1.333533</td>\n",
       "    </tr>\n",
       "  </tbody>\n",
       "</table>\n",
       "</div>"
      ],
      "text/plain": [
       "             Yas       Boy\n",
       "Ali    -0.036583 -1.131570\n",
       "Zeynep -0.852000 -0.280879\n",
       "Mehmet -0.449569  0.444594\n",
       "Selim  -0.363875  1.333533"
      ]
     },
     "execution_count": 57,
     "metadata": {},
     "output_type": "execute_result"
    }
   ],
   "source": [
    "dataFrame2[[\"Yas\",\"Boy\"]]"
   ]
  },
  {
   "cell_type": "code",
   "execution_count": 58,
   "id": "e26576e6",
   "metadata": {},
   "outputs": [
    {
     "data": {
      "text/plain": [
       "Ali       0.402335\n",
       "Zeynep   -0.142838\n",
       "Mehmet    0.890631\n",
       "Selim     0.416868\n",
       "Name: Maas, dtype: float64"
      ]
     },
     "execution_count": 58,
     "metadata": {},
     "output_type": "execute_result"
    }
   ],
   "source": [
    "dataFrame2[\"Maas\"]"
   ]
  },
  {
   "cell_type": "code",
   "execution_count": 59,
   "id": "c53c04e1",
   "metadata": {},
   "outputs": [
    {
     "data": {
      "text/plain": [
       "Maas    0.402335\n",
       "Yas    -0.036583\n",
       "Boy    -1.131570\n",
       "Name: Ali, dtype: float64"
      ]
     },
     "execution_count": 59,
     "metadata": {},
     "output_type": "execute_result"
    }
   ],
   "source": [
    "dataFrame2.loc[\"Ali\"]"
   ]
  },
  {
   "cell_type": "code",
   "execution_count": 60,
   "id": "0374d94b",
   "metadata": {},
   "outputs": [
    {
     "data": {
      "text/plain": [
       "Maas    0.402335\n",
       "Yas    -0.036583\n",
       "Boy    -1.131570\n",
       "Name: Ali, dtype: float64"
      ]
     },
     "execution_count": 60,
     "metadata": {},
     "output_type": "execute_result"
    }
   ],
   "source": [
    "dataFrame2.iloc[0]"
   ]
  },
  {
   "cell_type": "code",
   "execution_count": 61,
   "id": "ff44ca7a",
   "metadata": {},
   "outputs": [
    {
     "data": {
      "text/html": [
       "<div>\n",
       "<style scoped>\n",
       "    .dataframe tbody tr th:only-of-type {\n",
       "        vertical-align: middle;\n",
       "    }\n",
       "\n",
       "    .dataframe tbody tr th {\n",
       "        vertical-align: top;\n",
       "    }\n",
       "\n",
       "    .dataframe thead th {\n",
       "        text-align: right;\n",
       "    }\n",
       "</style>\n",
       "<table border=\"1\" class=\"dataframe\">\n",
       "  <thead>\n",
       "    <tr style=\"text-align: right;\">\n",
       "      <th></th>\n",
       "      <th>Maas</th>\n",
       "      <th>Yas</th>\n",
       "      <th>Boy</th>\n",
       "      <th>Emeklilik</th>\n",
       "    </tr>\n",
       "  </thead>\n",
       "  <tbody>\n",
       "    <tr>\n",
       "      <th>Ali</th>\n",
       "      <td>0.402335</td>\n",
       "      <td>-0.036583</td>\n",
       "      <td>-1.131570</td>\n",
       "      <td>-0.073166</td>\n",
       "    </tr>\n",
       "    <tr>\n",
       "      <th>Zeynep</th>\n",
       "      <td>-0.142838</td>\n",
       "      <td>-0.852000</td>\n",
       "      <td>-0.280879</td>\n",
       "      <td>-1.704001</td>\n",
       "    </tr>\n",
       "    <tr>\n",
       "      <th>Mehmet</th>\n",
       "      <td>0.890631</td>\n",
       "      <td>-0.449569</td>\n",
       "      <td>0.444594</td>\n",
       "      <td>-0.899137</td>\n",
       "    </tr>\n",
       "    <tr>\n",
       "      <th>Selim</th>\n",
       "      <td>0.416868</td>\n",
       "      <td>-0.363875</td>\n",
       "      <td>1.333533</td>\n",
       "      <td>-0.727749</td>\n",
       "    </tr>\n",
       "  </tbody>\n",
       "</table>\n",
       "</div>"
      ],
      "text/plain": [
       "            Maas       Yas       Boy  Emeklilik\n",
       "Ali     0.402335 -0.036583 -1.131570  -0.073166\n",
       "Zeynep -0.142838 -0.852000 -0.280879  -1.704001\n",
       "Mehmet  0.890631 -0.449569  0.444594  -0.899137\n",
       "Selim   0.416868 -0.363875  1.333533  -0.727749"
      ]
     },
     "execution_count": 61,
     "metadata": {},
     "output_type": "execute_result"
    }
   ],
   "source": [
    "dataFrame2[\"Emeklilik\"]=dataFrame2[\"Yas\"]+dataFrame2[\"Yas\"]\n",
    "dataFrame2"
   ]
  },
  {
   "cell_type": "code",
   "execution_count": 62,
   "id": "d4475d9e",
   "metadata": {},
   "outputs": [
    {
     "data": {
      "text/html": [
       "<div>\n",
       "<style scoped>\n",
       "    .dataframe tbody tr th:only-of-type {\n",
       "        vertical-align: middle;\n",
       "    }\n",
       "\n",
       "    .dataframe tbody tr th {\n",
       "        vertical-align: top;\n",
       "    }\n",
       "\n",
       "    .dataframe thead th {\n",
       "        text-align: right;\n",
       "    }\n",
       "</style>\n",
       "<table border=\"1\" class=\"dataframe\">\n",
       "  <thead>\n",
       "    <tr style=\"text-align: right;\">\n",
       "      <th></th>\n",
       "      <th>Maas</th>\n",
       "      <th>Yas</th>\n",
       "      <th>Emeklilik</th>\n",
       "    </tr>\n",
       "  </thead>\n",
       "  <tbody>\n",
       "    <tr>\n",
       "      <th>Ali</th>\n",
       "      <td>0.402335</td>\n",
       "      <td>-0.036583</td>\n",
       "      <td>-0.073166</td>\n",
       "    </tr>\n",
       "    <tr>\n",
       "      <th>Zeynep</th>\n",
       "      <td>-0.142838</td>\n",
       "      <td>-0.852000</td>\n",
       "      <td>-1.704001</td>\n",
       "    </tr>\n",
       "    <tr>\n",
       "      <th>Mehmet</th>\n",
       "      <td>0.890631</td>\n",
       "      <td>-0.449569</td>\n",
       "      <td>-0.899137</td>\n",
       "    </tr>\n",
       "    <tr>\n",
       "      <th>Selim</th>\n",
       "      <td>0.416868</td>\n",
       "      <td>-0.363875</td>\n",
       "      <td>-0.727749</td>\n",
       "    </tr>\n",
       "  </tbody>\n",
       "</table>\n",
       "</div>"
      ],
      "text/plain": [
       "            Maas       Yas  Emeklilik\n",
       "Ali     0.402335 -0.036583  -0.073166\n",
       "Zeynep -0.142838 -0.852000  -1.704001\n",
       "Mehmet  0.890631 -0.449569  -0.899137\n",
       "Selim   0.416868 -0.363875  -0.727749"
      ]
     },
     "execution_count": 62,
     "metadata": {},
     "output_type": "execute_result"
    }
   ],
   "source": [
    "dataFrame2.drop(\"Boy\",axis=1) # sütunlarda arama yaptığından sadece ilk sütünde aratıyoruz"
   ]
  },
  {
   "cell_type": "code",
   "execution_count": 63,
   "id": "0431780d",
   "metadata": {},
   "outputs": [
    {
     "data": {
      "text/html": [
       "<div>\n",
       "<style scoped>\n",
       "    .dataframe tbody tr th:only-of-type {\n",
       "        vertical-align: middle;\n",
       "    }\n",
       "\n",
       "    .dataframe tbody tr th {\n",
       "        vertical-align: top;\n",
       "    }\n",
       "\n",
       "    .dataframe thead th {\n",
       "        text-align: right;\n",
       "    }\n",
       "</style>\n",
       "<table border=\"1\" class=\"dataframe\">\n",
       "  <thead>\n",
       "    <tr style=\"text-align: right;\">\n",
       "      <th></th>\n",
       "      <th>Maas</th>\n",
       "      <th>Yas</th>\n",
       "      <th>Boy</th>\n",
       "      <th>Emeklilik</th>\n",
       "    </tr>\n",
       "  </thead>\n",
       "  <tbody>\n",
       "    <tr>\n",
       "      <th>Ali</th>\n",
       "      <td>0.402335</td>\n",
       "      <td>-0.036583</td>\n",
       "      <td>-1.131570</td>\n",
       "      <td>-0.073166</td>\n",
       "    </tr>\n",
       "    <tr>\n",
       "      <th>Zeynep</th>\n",
       "      <td>-0.142838</td>\n",
       "      <td>-0.852000</td>\n",
       "      <td>-0.280879</td>\n",
       "      <td>-1.704001</td>\n",
       "    </tr>\n",
       "    <tr>\n",
       "      <th>Selim</th>\n",
       "      <td>0.416868</td>\n",
       "      <td>-0.363875</td>\n",
       "      <td>1.333533</td>\n",
       "      <td>-0.727749</td>\n",
       "    </tr>\n",
       "  </tbody>\n",
       "</table>\n",
       "</div>"
      ],
      "text/plain": [
       "            Maas       Yas       Boy  Emeklilik\n",
       "Ali     0.402335 -0.036583 -1.131570  -0.073166\n",
       "Zeynep -0.142838 -0.852000 -0.280879  -1.704001\n",
       "Selim   0.416868 -0.363875  1.333533  -0.727749"
      ]
     },
     "execution_count": 63,
     "metadata": {},
     "output_type": "execute_result"
    }
   ],
   "source": [
    "dataFrame2.drop(\"Mehmet\") #dataFrame2.drop(\"Mehmet\",axis=0)"
   ]
  },
  {
   "cell_type": "code",
   "execution_count": 64,
   "id": "79e71799",
   "metadata": {},
   "outputs": [
    {
     "data": {
      "text/html": [
       "<div>\n",
       "<style scoped>\n",
       "    .dataframe tbody tr th:only-of-type {\n",
       "        vertical-align: middle;\n",
       "    }\n",
       "\n",
       "    .dataframe tbody tr th {\n",
       "        vertical-align: top;\n",
       "    }\n",
       "\n",
       "    .dataframe thead th {\n",
       "        text-align: right;\n",
       "    }\n",
       "</style>\n",
       "<table border=\"1\" class=\"dataframe\">\n",
       "  <thead>\n",
       "    <tr style=\"text-align: right;\">\n",
       "      <th></th>\n",
       "      <th>Maas</th>\n",
       "      <th>Yas</th>\n",
       "      <th>Boy</th>\n",
       "      <th>Emeklilik</th>\n",
       "    </tr>\n",
       "  </thead>\n",
       "  <tbody>\n",
       "    <tr>\n",
       "      <th>Ali</th>\n",
       "      <td>0.402335</td>\n",
       "      <td>-0.036583</td>\n",
       "      <td>-1.131570</td>\n",
       "      <td>-0.073166</td>\n",
       "    </tr>\n",
       "    <tr>\n",
       "      <th>Zeynep</th>\n",
       "      <td>-0.142838</td>\n",
       "      <td>-0.852000</td>\n",
       "      <td>-0.280879</td>\n",
       "      <td>-1.704001</td>\n",
       "    </tr>\n",
       "    <tr>\n",
       "      <th>Mehmet</th>\n",
       "      <td>0.890631</td>\n",
       "      <td>-0.449569</td>\n",
       "      <td>0.444594</td>\n",
       "      <td>-0.899137</td>\n",
       "    </tr>\n",
       "    <tr>\n",
       "      <th>Selim</th>\n",
       "      <td>0.416868</td>\n",
       "      <td>-0.363875</td>\n",
       "      <td>1.333533</td>\n",
       "      <td>-0.727749</td>\n",
       "    </tr>\n",
       "  </tbody>\n",
       "</table>\n",
       "</div>"
      ],
      "text/plain": [
       "            Maas       Yas       Boy  Emeklilik\n",
       "Ali     0.402335 -0.036583 -1.131570  -0.073166\n",
       "Zeynep -0.142838 -0.852000 -0.280879  -1.704001\n",
       "Mehmet  0.890631 -0.449569  0.444594  -0.899137\n",
       "Selim   0.416868 -0.363875  1.333533  -0.727749"
      ]
     },
     "execution_count": 64,
     "metadata": {},
     "output_type": "execute_result"
    }
   ],
   "source": [
    "dataFrame2 #yapılan değişikliklere rağmen ana değişken değişmez"
   ]
  },
  {
   "cell_type": "code",
   "execution_count": 65,
   "id": "bcac9a78",
   "metadata": {},
   "outputs": [
    {
     "data": {
      "text/html": [
       "<div>\n",
       "<style scoped>\n",
       "    .dataframe tbody tr th:only-of-type {\n",
       "        vertical-align: middle;\n",
       "    }\n",
       "\n",
       "    .dataframe tbody tr th {\n",
       "        vertical-align: top;\n",
       "    }\n",
       "\n",
       "    .dataframe thead th {\n",
       "        text-align: right;\n",
       "    }\n",
       "</style>\n",
       "<table border=\"1\" class=\"dataframe\">\n",
       "  <thead>\n",
       "    <tr style=\"text-align: right;\">\n",
       "      <th></th>\n",
       "      <th>Maas</th>\n",
       "      <th>Yas</th>\n",
       "      <th>Emeklilik</th>\n",
       "    </tr>\n",
       "  </thead>\n",
       "  <tbody>\n",
       "    <tr>\n",
       "      <th>Ali</th>\n",
       "      <td>0.402335</td>\n",
       "      <td>-0.036583</td>\n",
       "      <td>-0.073166</td>\n",
       "    </tr>\n",
       "    <tr>\n",
       "      <th>Zeynep</th>\n",
       "      <td>-0.142838</td>\n",
       "      <td>-0.852000</td>\n",
       "      <td>-1.704001</td>\n",
       "    </tr>\n",
       "    <tr>\n",
       "      <th>Mehmet</th>\n",
       "      <td>0.890631</td>\n",
       "      <td>-0.449569</td>\n",
       "      <td>-0.899137</td>\n",
       "    </tr>\n",
       "    <tr>\n",
       "      <th>Selim</th>\n",
       "      <td>0.416868</td>\n",
       "      <td>-0.363875</td>\n",
       "      <td>-0.727749</td>\n",
       "    </tr>\n",
       "  </tbody>\n",
       "</table>\n",
       "</div>"
      ],
      "text/plain": [
       "            Maas       Yas  Emeklilik\n",
       "Ali     0.402335 -0.036583  -0.073166\n",
       "Zeynep -0.142838 -0.852000  -1.704001\n",
       "Mehmet  0.890631 -0.449569  -0.899137\n",
       "Selim   0.416868 -0.363875  -0.727749"
      ]
     },
     "execution_count": 65,
     "metadata": {},
     "output_type": "execute_result"
    }
   ],
   "source": [
    "dataFrame2.drop(\"Boy\",axis=1,inplace=True) # ana değişken değişir\n",
    "dataFrame2"
   ]
  },
  {
   "cell_type": "code",
   "execution_count": 66,
   "id": "25d9818e",
   "metadata": {},
   "outputs": [
    {
     "data": {
      "text/html": [
       "<div>\n",
       "<style scoped>\n",
       "    .dataframe tbody tr th:only-of-type {\n",
       "        vertical-align: middle;\n",
       "    }\n",
       "\n",
       "    .dataframe tbody tr th {\n",
       "        vertical-align: top;\n",
       "    }\n",
       "\n",
       "    .dataframe thead th {\n",
       "        text-align: right;\n",
       "    }\n",
       "</style>\n",
       "<table border=\"1\" class=\"dataframe\">\n",
       "  <thead>\n",
       "    <tr style=\"text-align: right;\">\n",
       "      <th></th>\n",
       "      <th>Maas</th>\n",
       "      <th>Yas</th>\n",
       "      <th>Emeklilik</th>\n",
       "    </tr>\n",
       "  </thead>\n",
       "  <tbody>\n",
       "    <tr>\n",
       "      <th>Ali</th>\n",
       "      <td>NaN</td>\n",
       "      <td>-0.036583</td>\n",
       "      <td>-0.073166</td>\n",
       "    </tr>\n",
       "    <tr>\n",
       "      <th>Zeynep</th>\n",
       "      <td>-0.142838</td>\n",
       "      <td>-0.852000</td>\n",
       "      <td>-1.704001</td>\n",
       "    </tr>\n",
       "    <tr>\n",
       "      <th>Mehmet</th>\n",
       "      <td>NaN</td>\n",
       "      <td>-0.449569</td>\n",
       "      <td>-0.899137</td>\n",
       "    </tr>\n",
       "    <tr>\n",
       "      <th>Selim</th>\n",
       "      <td>NaN</td>\n",
       "      <td>-0.363875</td>\n",
       "      <td>-0.727749</td>\n",
       "    </tr>\n",
       "  </tbody>\n",
       "</table>\n",
       "</div>"
      ],
      "text/plain": [
       "            Maas       Yas  Emeklilik\n",
       "Ali          NaN -0.036583  -0.073166\n",
       "Zeynep -0.142838 -0.852000  -1.704001\n",
       "Mehmet       NaN -0.449569  -0.899137\n",
       "Selim        NaN -0.363875  -0.727749"
      ]
     },
     "execution_count": 66,
     "metadata": {},
     "output_type": "execute_result"
    }
   ],
   "source": [
    "dataFrame2[dataFrame2<0] #NaN gösterir"
   ]
  },
  {
   "cell_type": "code",
   "execution_count": 67,
   "id": "63598305",
   "metadata": {},
   "outputs": [
    {
     "data": {
      "text/html": [
       "<div>\n",
       "<style scoped>\n",
       "    .dataframe tbody tr th:only-of-type {\n",
       "        vertical-align: middle;\n",
       "    }\n",
       "\n",
       "    .dataframe tbody tr th {\n",
       "        vertical-align: top;\n",
       "    }\n",
       "\n",
       "    .dataframe thead th {\n",
       "        text-align: right;\n",
       "    }\n",
       "</style>\n",
       "<table border=\"1\" class=\"dataframe\">\n",
       "  <thead>\n",
       "    <tr style=\"text-align: right;\">\n",
       "      <th></th>\n",
       "      <th>Maas</th>\n",
       "      <th>Yas</th>\n",
       "      <th>Emeklilik</th>\n",
       "    </tr>\n",
       "  </thead>\n",
       "  <tbody>\n",
       "    <tr>\n",
       "      <th>Ali</th>\n",
       "      <td>0.402335</td>\n",
       "      <td>-0.036583</td>\n",
       "      <td>-0.073166</td>\n",
       "    </tr>\n",
       "    <tr>\n",
       "      <th>Zeynep</th>\n",
       "      <td>-0.142838</td>\n",
       "      <td>-0.852000</td>\n",
       "      <td>-1.704001</td>\n",
       "    </tr>\n",
       "    <tr>\n",
       "      <th>Mehmet</th>\n",
       "      <td>0.890631</td>\n",
       "      <td>-0.449569</td>\n",
       "      <td>-0.899137</td>\n",
       "    </tr>\n",
       "    <tr>\n",
       "      <th>Selim</th>\n",
       "      <td>0.416868</td>\n",
       "      <td>-0.363875</td>\n",
       "      <td>-0.727749</td>\n",
       "    </tr>\n",
       "  </tbody>\n",
       "</table>\n",
       "</div>"
      ],
      "text/plain": [
       "            Maas       Yas  Emeklilik\n",
       "Ali     0.402335 -0.036583  -0.073166\n",
       "Zeynep -0.142838 -0.852000  -1.704001\n",
       "Mehmet  0.890631 -0.449569  -0.899137\n",
       "Selim   0.416868 -0.363875  -0.727749"
      ]
     },
     "execution_count": 67,
     "metadata": {},
     "output_type": "execute_result"
    }
   ],
   "source": [
    "dataFrame2[dataFrame2[\"Yas\"]<0] #Sadece sağlayan değerleri getirir"
   ]
  },
  {
   "cell_type": "markdown",
   "id": "60c3c249",
   "metadata": {},
   "source": [
    "#### index değiştirme"
   ]
  },
  {
   "cell_type": "code",
   "execution_count": 68,
   "id": "6a0ff032",
   "metadata": {},
   "outputs": [
    {
     "data": {
      "text/html": [
       "<div>\n",
       "<style scoped>\n",
       "    .dataframe tbody tr th:only-of-type {\n",
       "        vertical-align: middle;\n",
       "    }\n",
       "\n",
       "    .dataframe tbody tr th {\n",
       "        vertical-align: top;\n",
       "    }\n",
       "\n",
       "    .dataframe thead th {\n",
       "        text-align: right;\n",
       "    }\n",
       "</style>\n",
       "<table border=\"1\" class=\"dataframe\">\n",
       "  <thead>\n",
       "    <tr style=\"text-align: right;\">\n",
       "      <th></th>\n",
       "      <th>index</th>\n",
       "      <th>Maas</th>\n",
       "      <th>Yas</th>\n",
       "      <th>Emeklilik</th>\n",
       "    </tr>\n",
       "  </thead>\n",
       "  <tbody>\n",
       "    <tr>\n",
       "      <th>0</th>\n",
       "      <td>Ali</td>\n",
       "      <td>0.402335</td>\n",
       "      <td>-0.036583</td>\n",
       "      <td>-0.073166</td>\n",
       "    </tr>\n",
       "    <tr>\n",
       "      <th>1</th>\n",
       "      <td>Zeynep</td>\n",
       "      <td>-0.142838</td>\n",
       "      <td>-0.852000</td>\n",
       "      <td>-1.704001</td>\n",
       "    </tr>\n",
       "    <tr>\n",
       "      <th>2</th>\n",
       "      <td>Mehmet</td>\n",
       "      <td>0.890631</td>\n",
       "      <td>-0.449569</td>\n",
       "      <td>-0.899137</td>\n",
       "    </tr>\n",
       "    <tr>\n",
       "      <th>3</th>\n",
       "      <td>Selim</td>\n",
       "      <td>0.416868</td>\n",
       "      <td>-0.363875</td>\n",
       "      <td>-0.727749</td>\n",
       "    </tr>\n",
       "  </tbody>\n",
       "</table>\n",
       "</div>"
      ],
      "text/plain": [
       "    index      Maas       Yas  Emeklilik\n",
       "0     Ali  0.402335 -0.036583  -0.073166\n",
       "1  Zeynep -0.142838 -0.852000  -1.704001\n",
       "2  Mehmet  0.890631 -0.449569  -0.899137\n",
       "3   Selim  0.416868 -0.363875  -0.727749"
      ]
     },
     "execution_count": 68,
     "metadata": {},
     "output_type": "execute_result"
    }
   ],
   "source": [
    "dataFrame2.reset_index() # inplace=True lazımdır!!!"
   ]
  },
  {
   "cell_type": "code",
   "execution_count": 77,
   "id": "e55ce758",
   "metadata": {},
   "outputs": [
    {
     "data": {
      "text/html": [
       "<div>\n",
       "<style scoped>\n",
       "    .dataframe tbody tr th:only-of-type {\n",
       "        vertical-align: middle;\n",
       "    }\n",
       "\n",
       "    .dataframe tbody tr th {\n",
       "        vertical-align: top;\n",
       "    }\n",
       "\n",
       "    .dataframe thead th {\n",
       "        text-align: right;\n",
       "    }\n",
       "</style>\n",
       "<table border=\"1\" class=\"dataframe\">\n",
       "  <thead>\n",
       "    <tr style=\"text-align: right;\">\n",
       "      <th></th>\n",
       "      <th>Maas</th>\n",
       "      <th>Yas</th>\n",
       "      <th>Emeklilik</th>\n",
       "      <th>Yeni Indexler</th>\n",
       "    </tr>\n",
       "    <tr>\n",
       "      <th>Yeni Indexler</th>\n",
       "      <th></th>\n",
       "      <th></th>\n",
       "      <th></th>\n",
       "      <th></th>\n",
       "    </tr>\n",
       "  </thead>\n",
       "  <tbody>\n",
       "    <tr>\n",
       "      <th>A</th>\n",
       "      <td>0.402335</td>\n",
       "      <td>-0.036583</td>\n",
       "      <td>-0.073166</td>\n",
       "      <td>A</td>\n",
       "    </tr>\n",
       "    <tr>\n",
       "      <th>Z</th>\n",
       "      <td>-0.142838</td>\n",
       "      <td>-0.852000</td>\n",
       "      <td>-1.704001</td>\n",
       "      <td>Z</td>\n",
       "    </tr>\n",
       "    <tr>\n",
       "      <th>M</th>\n",
       "      <td>0.890631</td>\n",
       "      <td>-0.449569</td>\n",
       "      <td>-0.899137</td>\n",
       "      <td>M</td>\n",
       "    </tr>\n",
       "    <tr>\n",
       "      <th>S</th>\n",
       "      <td>0.416868</td>\n",
       "      <td>-0.363875</td>\n",
       "      <td>-0.727749</td>\n",
       "      <td>S</td>\n",
       "    </tr>\n",
       "  </tbody>\n",
       "</table>\n",
       "</div>"
      ],
      "text/plain": [
       "                   Maas       Yas  Emeklilik Yeni Indexler\n",
       "Yeni Indexler                                             \n",
       "A              0.402335 -0.036583  -0.073166             A\n",
       "Z             -0.142838 -0.852000  -1.704001             Z\n",
       "M              0.890631 -0.449569  -0.899137             M\n",
       "S              0.416868 -0.363875  -0.727749             S"
      ]
     },
     "execution_count": 77,
     "metadata": {},
     "output_type": "execute_result"
    }
   ],
   "source": [
    "yeniIndexler=[\"A\",\"Z\",\"M\",\"S\"]\n",
    "dataFrame2[\"Yeni Indexler\"]=yeniIndexler\n",
    "dataFrame2"
   ]
  },
  {
   "cell_type": "code",
   "execution_count": 78,
   "id": "beb02eab",
   "metadata": {},
   "outputs": [
    {
     "data": {
      "text/html": [
       "<div>\n",
       "<style scoped>\n",
       "    .dataframe tbody tr th:only-of-type {\n",
       "        vertical-align: middle;\n",
       "    }\n",
       "\n",
       "    .dataframe tbody tr th {\n",
       "        vertical-align: top;\n",
       "    }\n",
       "\n",
       "    .dataframe thead th {\n",
       "        text-align: right;\n",
       "    }\n",
       "</style>\n",
       "<table border=\"1\" class=\"dataframe\">\n",
       "  <thead>\n",
       "    <tr style=\"text-align: right;\">\n",
       "      <th></th>\n",
       "      <th>Maas</th>\n",
       "      <th>Yas</th>\n",
       "      <th>Emeklilik</th>\n",
       "    </tr>\n",
       "    <tr>\n",
       "      <th>Yeni Indexler</th>\n",
       "      <th></th>\n",
       "      <th></th>\n",
       "      <th></th>\n",
       "    </tr>\n",
       "  </thead>\n",
       "  <tbody>\n",
       "    <tr>\n",
       "      <th>A</th>\n",
       "      <td>0.402335</td>\n",
       "      <td>-0.036583</td>\n",
       "      <td>-0.073166</td>\n",
       "    </tr>\n",
       "    <tr>\n",
       "      <th>Z</th>\n",
       "      <td>-0.142838</td>\n",
       "      <td>-0.852000</td>\n",
       "      <td>-1.704001</td>\n",
       "    </tr>\n",
       "    <tr>\n",
       "      <th>M</th>\n",
       "      <td>0.890631</td>\n",
       "      <td>-0.449569</td>\n",
       "      <td>-0.899137</td>\n",
       "    </tr>\n",
       "    <tr>\n",
       "      <th>S</th>\n",
       "      <td>0.416868</td>\n",
       "      <td>-0.363875</td>\n",
       "      <td>-0.727749</td>\n",
       "    </tr>\n",
       "  </tbody>\n",
       "</table>\n",
       "</div>"
      ],
      "text/plain": [
       "                   Maas       Yas  Emeklilik\n",
       "Yeni Indexler                               \n",
       "A              0.402335 -0.036583  -0.073166\n",
       "Z             -0.142838 -0.852000  -1.704001\n",
       "M              0.890631 -0.449569  -0.899137\n",
       "S              0.416868 -0.363875  -0.727749"
      ]
     },
     "execution_count": 78,
     "metadata": {},
     "output_type": "execute_result"
    }
   ],
   "source": [
    "dataFrame2.set_index(\"Yeni Indexler\",inplace=True)\n",
    "dataFrame2"
   ]
  },
  {
   "cell_type": "markdown",
   "id": "c8cc275a",
   "metadata": {},
   "source": [
    "## Multi Index !!!!!"
   ]
  },
  {
   "cell_type": "code",
   "execution_count": 82,
   "id": "423aabec",
   "metadata": {},
   "outputs": [
    {
     "data": {
      "text/plain": [
       "[('Meyve', 'Elma'),\n",
       " ('Meyve', 'Armut'),\n",
       " ('Meyve', 'Karpuz'),\n",
       " ('Sebze', 'Domates'),\n",
       " ('Sebze', 'Salatalık')]"
      ]
     },
     "execution_count": 82,
     "metadata": {},
     "output_type": "execute_result"
    }
   ],
   "source": [
    "ilkIndexler=[\"Meyve\",\"Meyve\",\"Meyve\",\"Sebze\",\"Sebze\"]\n",
    "icIndexler = [\"Elma\",\"Armut\",\"Karpuz\",\"Domates\",\"Salatalık\"]\n",
    "birlesmisIndexler = list(zip(ilkIndexler,icIndexler))\n",
    "birlesmisIndexler"
   ]
  },
  {
   "cell_type": "code",
   "execution_count": 83,
   "id": "c827240b",
   "metadata": {},
   "outputs": [
    {
     "data": {
      "text/plain": [
       "MultiIndex([('Meyve',      'Elma'),\n",
       "            ('Meyve',     'Armut'),\n",
       "            ('Meyve',    'Karpuz'),\n",
       "            ('Sebze',   'Domates'),\n",
       "            ('Sebze', 'Salatalık')],\n",
       "           )"
      ]
     },
     "execution_count": 83,
     "metadata": {},
     "output_type": "execute_result"
    }
   ],
   "source": [
    "birlesmisIndexler = pd.MultiIndex.from_tuples(bislesmisIndexler)\n",
    "bislesmisIndexler"
   ]
  },
  {
   "cell_type": "code",
   "execution_count": 85,
   "id": "0b70309d",
   "metadata": {},
   "outputs": [],
   "source": [
    "yicekler=[[10,\"A\"],[20,\"B\"],[30,\"C\"],[40,\"D\"],[50,\"E\"]]\n",
    "yicekListe=np.array(yicekler)"
   ]
  },
  {
   "cell_type": "code",
   "execution_count": 89,
   "id": "7d0d32ab",
   "metadata": {},
   "outputs": [
    {
     "data": {
      "text/html": [
       "<div>\n",
       "<style scoped>\n",
       "    .dataframe tbody tr th:only-of-type {\n",
       "        vertical-align: middle;\n",
       "    }\n",
       "\n",
       "    .dataframe tbody tr th {\n",
       "        vertical-align: top;\n",
       "    }\n",
       "\n",
       "    .dataframe thead th {\n",
       "        text-align: right;\n",
       "    }\n",
       "</style>\n",
       "<table border=\"1\" class=\"dataframe\">\n",
       "  <thead>\n",
       "    <tr style=\"text-align: right;\">\n",
       "      <th></th>\n",
       "      <th></th>\n",
       "      <th>Kalori</th>\n",
       "      <th>Kod</th>\n",
       "    </tr>\n",
       "  </thead>\n",
       "  <tbody>\n",
       "    <tr>\n",
       "      <th rowspan=\"3\" valign=\"top\">Meyve</th>\n",
       "      <th>Elma</th>\n",
       "      <td>10</td>\n",
       "      <td>A</td>\n",
       "    </tr>\n",
       "    <tr>\n",
       "      <th>Armut</th>\n",
       "      <td>20</td>\n",
       "      <td>B</td>\n",
       "    </tr>\n",
       "    <tr>\n",
       "      <th>Karpuz</th>\n",
       "      <td>30</td>\n",
       "      <td>C</td>\n",
       "    </tr>\n",
       "    <tr>\n",
       "      <th rowspan=\"2\" valign=\"top\">Sebze</th>\n",
       "      <th>Domates</th>\n",
       "      <td>40</td>\n",
       "      <td>D</td>\n",
       "    </tr>\n",
       "    <tr>\n",
       "      <th>Salatalık</th>\n",
       "      <td>50</td>\n",
       "      <td>E</td>\n",
       "    </tr>\n",
       "  </tbody>\n",
       "</table>\n",
       "</div>"
      ],
      "text/plain": [
       "                Kalori Kod\n",
       "Meyve Elma          10   A\n",
       "      Armut         20   B\n",
       "      Karpuz        30   C\n",
       "Sebze Domates       40   D\n",
       "      Salatalık     50   E"
      ]
     },
     "execution_count": 89,
     "metadata": {},
     "output_type": "execute_result"
    }
   ],
   "source": [
    "yicekDataFrame=pd.DataFrame(yicekListe,index=bislesmisIndexler,columns=[\"Kalori\",\"Kod\"])\n",
    "yicekDataFrame"
   ]
  },
  {
   "cell_type": "code",
   "execution_count": 91,
   "id": "10819910",
   "metadata": {},
   "outputs": [
    {
     "data": {
      "text/plain": [
       "Kalori    20\n",
       "Kod        B\n",
       "Name: Armut, dtype: object"
      ]
     },
     "execution_count": 91,
     "metadata": {},
     "output_type": "execute_result"
    }
   ],
   "source": [
    "yicekDataFrame.loc[\"Meyve\"].loc[\"Armut\"] # direk armut getirilemez"
   ]
  },
  {
   "cell_type": "code",
   "execution_count": 92,
   "id": "918b703c",
   "metadata": {},
   "outputs": [
    {
     "data": {
      "text/html": [
       "<div>\n",
       "<style scoped>\n",
       "    .dataframe tbody tr th:only-of-type {\n",
       "        vertical-align: middle;\n",
       "    }\n",
       "\n",
       "    .dataframe tbody tr th {\n",
       "        vertical-align: top;\n",
       "    }\n",
       "\n",
       "    .dataframe thead th {\n",
       "        text-align: right;\n",
       "    }\n",
       "</style>\n",
       "<table border=\"1\" class=\"dataframe\">\n",
       "  <thead>\n",
       "    <tr style=\"text-align: right;\">\n",
       "      <th></th>\n",
       "      <th></th>\n",
       "      <th>Kalori</th>\n",
       "      <th>Kod</th>\n",
       "    </tr>\n",
       "    <tr>\n",
       "      <th>Tür</th>\n",
       "      <th>Ad</th>\n",
       "      <th></th>\n",
       "      <th></th>\n",
       "    </tr>\n",
       "  </thead>\n",
       "  <tbody>\n",
       "    <tr>\n",
       "      <th rowspan=\"3\" valign=\"top\">Meyve</th>\n",
       "      <th>Elma</th>\n",
       "      <td>10</td>\n",
       "      <td>A</td>\n",
       "    </tr>\n",
       "    <tr>\n",
       "      <th>Armut</th>\n",
       "      <td>20</td>\n",
       "      <td>B</td>\n",
       "    </tr>\n",
       "    <tr>\n",
       "      <th>Karpuz</th>\n",
       "      <td>30</td>\n",
       "      <td>C</td>\n",
       "    </tr>\n",
       "    <tr>\n",
       "      <th rowspan=\"2\" valign=\"top\">Sebze</th>\n",
       "      <th>Domates</th>\n",
       "      <td>40</td>\n",
       "      <td>D</td>\n",
       "    </tr>\n",
       "    <tr>\n",
       "      <th>Salatalık</th>\n",
       "      <td>50</td>\n",
       "      <td>E</td>\n",
       "    </tr>\n",
       "  </tbody>\n",
       "</table>\n",
       "</div>"
      ],
      "text/plain": [
       "                Kalori Kod\n",
       "Tür   Ad                  \n",
       "Meyve Elma          10   A\n",
       "      Armut         20   B\n",
       "      Karpuz        30   C\n",
       "Sebze Domates       40   D\n",
       "      Salatalık     50   E"
      ]
     },
     "execution_count": 92,
     "metadata": {},
     "output_type": "execute_result"
    }
   ],
   "source": [
    "yicekDataFrame.index.names = [\"Tür\",\"Ad\"]\n",
    "yicekDataFrame"
   ]
  },
  {
   "cell_type": "markdown",
   "id": "bd1d0852",
   "metadata": {},
   "source": [
    "### Eksik Veriler"
   ]
  },
  {
   "cell_type": "code",
   "execution_count": 102,
   "id": "7ba5fe28",
   "metadata": {},
   "outputs": [
    {
     "data": {
      "text/html": [
       "<div>\n",
       "<style scoped>\n",
       "    .dataframe tbody tr th:only-of-type {\n",
       "        vertical-align: middle;\n",
       "    }\n",
       "\n",
       "    .dataframe tbody tr th {\n",
       "        vertical-align: top;\n",
       "    }\n",
       "\n",
       "    .dataframe thead th {\n",
       "        text-align: right;\n",
       "    }\n",
       "</style>\n",
       "<table border=\"1\" class=\"dataframe\">\n",
       "  <thead>\n",
       "    <tr style=\"text-align: right;\">\n",
       "      <th></th>\n",
       "      <th>İstanbul</th>\n",
       "      <th>Ankara</th>\n",
       "      <th>İzmir</th>\n",
       "    </tr>\n",
       "  </thead>\n",
       "  <tbody>\n",
       "    <tr>\n",
       "      <th>Ptesi</th>\n",
       "      <td>30.0</td>\n",
       "      <td>20.0</td>\n",
       "      <td>40.0</td>\n",
       "    </tr>\n",
       "    <tr>\n",
       "      <th>Salı</th>\n",
       "      <td>29.0</td>\n",
       "      <td>NaN</td>\n",
       "      <td>39.0</td>\n",
       "    </tr>\n",
       "    <tr>\n",
       "      <th>Çarş</th>\n",
       "      <td>NaN</td>\n",
       "      <td>25.0</td>\n",
       "      <td>38.0</td>\n",
       "    </tr>\n",
       "  </tbody>\n",
       "</table>\n",
       "</div>"
      ],
      "text/plain": [
       "       İstanbul  Ankara  İzmir\n",
       "Ptesi      30.0    20.0   40.0\n",
       "Salı       29.0     NaN   39.0\n",
       "Çarş        NaN    25.0   38.0"
      ]
     },
     "execution_count": 102,
     "metadata": {},
     "output_type": "execute_result"
    }
   ],
   "source": [
    "indexler=np.array([\"Ptesi\",\"Salı\",\"Çarş\"])\n",
    "veriler=np.array([[30,20,40],[29,np.nan,39],[np.nan,25,38]])\n",
    "dataFrame=pd.DataFrame(veriler,index=indexler,columns=[\"İstanbul\",\"Ankara\",\"İzmir\"])\n",
    "dataFrame"
   ]
  },
  {
   "cell_type": "markdown",
   "id": "d8dcd3db",
   "metadata": {},
   "source": [
    "##### Silme"
   ]
  },
  {
   "cell_type": "code",
   "execution_count": 103,
   "id": "20e6d960",
   "metadata": {},
   "outputs": [
    {
     "data": {
      "text/html": [
       "<div>\n",
       "<style scoped>\n",
       "    .dataframe tbody tr th:only-of-type {\n",
       "        vertical-align: middle;\n",
       "    }\n",
       "\n",
       "    .dataframe tbody tr th {\n",
       "        vertical-align: top;\n",
       "    }\n",
       "\n",
       "    .dataframe thead th {\n",
       "        text-align: right;\n",
       "    }\n",
       "</style>\n",
       "<table border=\"1\" class=\"dataframe\">\n",
       "  <thead>\n",
       "    <tr style=\"text-align: right;\">\n",
       "      <th></th>\n",
       "      <th>İstanbul</th>\n",
       "      <th>Ankara</th>\n",
       "      <th>İzmir</th>\n",
       "    </tr>\n",
       "  </thead>\n",
       "  <tbody>\n",
       "    <tr>\n",
       "      <th>Ptesi</th>\n",
       "      <td>30.0</td>\n",
       "      <td>20.0</td>\n",
       "      <td>40.0</td>\n",
       "    </tr>\n",
       "  </tbody>\n",
       "</table>\n",
       "</div>"
      ],
      "text/plain": [
       "       İstanbul  Ankara  İzmir\n",
       "Ptesi      30.0    20.0   40.0"
      ]
     },
     "execution_count": 103,
     "metadata": {},
     "output_type": "execute_result"
    }
   ],
   "source": [
    "dataFrame.dropna() #inplace=True gerekir"
   ]
  },
  {
   "cell_type": "code",
   "execution_count": 104,
   "id": "40132b0f",
   "metadata": {},
   "outputs": [
    {
     "data": {
      "text/html": [
       "<div>\n",
       "<style scoped>\n",
       "    .dataframe tbody tr th:only-of-type {\n",
       "        vertical-align: middle;\n",
       "    }\n",
       "\n",
       "    .dataframe tbody tr th {\n",
       "        vertical-align: top;\n",
       "    }\n",
       "\n",
       "    .dataframe thead th {\n",
       "        text-align: right;\n",
       "    }\n",
       "</style>\n",
       "<table border=\"1\" class=\"dataframe\">\n",
       "  <thead>\n",
       "    <tr style=\"text-align: right;\">\n",
       "      <th></th>\n",
       "      <th>İzmir</th>\n",
       "    </tr>\n",
       "  </thead>\n",
       "  <tbody>\n",
       "    <tr>\n",
       "      <th>Ptesi</th>\n",
       "      <td>40.0</td>\n",
       "    </tr>\n",
       "    <tr>\n",
       "      <th>Salı</th>\n",
       "      <td>39.0</td>\n",
       "    </tr>\n",
       "    <tr>\n",
       "      <th>Çarş</th>\n",
       "      <td>38.0</td>\n",
       "    </tr>\n",
       "  </tbody>\n",
       "</table>\n",
       "</div>"
      ],
      "text/plain": [
       "       İzmir\n",
       "Ptesi   40.0\n",
       "Salı    39.0\n",
       "Çarş    38.0"
      ]
     },
     "execution_count": 104,
     "metadata": {},
     "output_type": "execute_result"
    }
   ],
   "source": [
    "dataFrame.dropna(axis=1)"
   ]
  },
  {
   "cell_type": "code",
   "execution_count": 140,
   "id": "07a18d9e",
   "metadata": {},
   "outputs": [
    {
     "data": {
      "text/html": [
       "<div>\n",
       "<style scoped>\n",
       "    .dataframe tbody tr th:only-of-type {\n",
       "        vertical-align: middle;\n",
       "    }\n",
       "\n",
       "    .dataframe tbody tr th {\n",
       "        vertical-align: top;\n",
       "    }\n",
       "\n",
       "    .dataframe thead th {\n",
       "        text-align: right;\n",
       "    }\n",
       "</style>\n",
       "<table border=\"1\" class=\"dataframe\">\n",
       "  <thead>\n",
       "    <tr style=\"text-align: right;\">\n",
       "      <th></th>\n",
       "      <th>İstnabul</th>\n",
       "      <th>Ankara</th>\n",
       "      <th>İzmir</th>\n",
       "      <th>Antalya</th>\n",
       "    </tr>\n",
       "  </thead>\n",
       "  <tbody>\n",
       "    <tr>\n",
       "      <th>0</th>\n",
       "      <td>False</td>\n",
       "      <td>False</td>\n",
       "      <td>False</td>\n",
       "      <td>False</td>\n",
       "    </tr>\n",
       "    <tr>\n",
       "      <th>1</th>\n",
       "      <td>False</td>\n",
       "      <td>True</td>\n",
       "      <td>False</td>\n",
       "      <td>True</td>\n",
       "    </tr>\n",
       "    <tr>\n",
       "      <th>2</th>\n",
       "      <td>True</td>\n",
       "      <td>False</td>\n",
       "      <td>False</td>\n",
       "      <td>True</td>\n",
       "    </tr>\n",
       "  </tbody>\n",
       "</table>\n",
       "</div>"
      ],
      "text/plain": [
       "   İstnabul  Ankara  İzmir  Antalya\n",
       "0     False   False  False    False\n",
       "1     False    True  False     True\n",
       "2      True   False  False     True"
      ]
     },
     "execution_count": 140,
     "metadata": {},
     "output_type": "execute_result"
    }
   ],
   "source": [
    "yeniVeri={ \"İstnabul\" : [30,29,np.nan],\"Ankara\":[20,np.nan,25],\"İzmir\":[40,39,38],\"Antalya\":[35,np.nan,np.nan]}\n",
    "yeniDataFrame=pd.DataFrame(yeniVeri)\n",
    "yeniDataFrame.isnull()"
   ]
  },
  {
   "cell_type": "code",
   "execution_count": 141,
   "id": "0b34dfe8",
   "metadata": {},
   "outputs": [
    {
     "data": {
      "text/html": [
       "<div>\n",
       "<style scoped>\n",
       "    .dataframe tbody tr th:only-of-type {\n",
       "        vertical-align: middle;\n",
       "    }\n",
       "\n",
       "    .dataframe tbody tr th {\n",
       "        vertical-align: top;\n",
       "    }\n",
       "\n",
       "    .dataframe thead th {\n",
       "        text-align: right;\n",
       "    }\n",
       "</style>\n",
       "<table border=\"1\" class=\"dataframe\">\n",
       "  <thead>\n",
       "    <tr style=\"text-align: right;\">\n",
       "      <th></th>\n",
       "      <th>İstnabul</th>\n",
       "      <th>Ankara</th>\n",
       "      <th>İzmir</th>\n",
       "    </tr>\n",
       "  </thead>\n",
       "  <tbody>\n",
       "    <tr>\n",
       "      <th>0</th>\n",
       "      <td>30.0</td>\n",
       "      <td>20.0</td>\n",
       "      <td>40</td>\n",
       "    </tr>\n",
       "    <tr>\n",
       "      <th>1</th>\n",
       "      <td>29.0</td>\n",
       "      <td>NaN</td>\n",
       "      <td>39</td>\n",
       "    </tr>\n",
       "    <tr>\n",
       "      <th>2</th>\n",
       "      <td>NaN</td>\n",
       "      <td>25.0</td>\n",
       "      <td>38</td>\n",
       "    </tr>\n",
       "  </tbody>\n",
       "</table>\n",
       "</div>"
      ],
      "text/plain": [
       "   İstnabul  Ankara  İzmir\n",
       "0      30.0    20.0     40\n",
       "1      29.0     NaN     39\n",
       "2       NaN    25.0     38"
      ]
     },
     "execution_count": 141,
     "metadata": {},
     "output_type": "execute_result"
    }
   ],
   "source": [
    "yeniDataFrame.dropna(axis=1,thresh=2)"
   ]
  },
  {
   "cell_type": "markdown",
   "id": "4a4fea0f",
   "metadata": {},
   "source": [
    "##### Değiştirme"
   ]
  },
  {
   "cell_type": "code",
   "execution_count": 112,
   "id": "1a0da63c",
   "metadata": {},
   "outputs": [
    {
     "data": {
      "text/html": [
       "<div>\n",
       "<style scoped>\n",
       "    .dataframe tbody tr th:only-of-type {\n",
       "        vertical-align: middle;\n",
       "    }\n",
       "\n",
       "    .dataframe tbody tr th {\n",
       "        vertical-align: top;\n",
       "    }\n",
       "\n",
       "    .dataframe thead th {\n",
       "        text-align: right;\n",
       "    }\n",
       "</style>\n",
       "<table border=\"1\" class=\"dataframe\">\n",
       "  <thead>\n",
       "    <tr style=\"text-align: right;\">\n",
       "      <th></th>\n",
       "      <th>İstnabul</th>\n",
       "      <th>Ankara</th>\n",
       "      <th>İzmir</th>\n",
       "      <th>Antalya</th>\n",
       "    </tr>\n",
       "  </thead>\n",
       "  <tbody>\n",
       "    <tr>\n",
       "      <th>0</th>\n",
       "      <td>30.0</td>\n",
       "      <td>20.0</td>\n",
       "      <td>40</td>\n",
       "      <td>35.0</td>\n",
       "    </tr>\n",
       "    <tr>\n",
       "      <th>1</th>\n",
       "      <td>29.0</td>\n",
       "      <td>1500.0</td>\n",
       "      <td>39</td>\n",
       "      <td>1500.0</td>\n",
       "    </tr>\n",
       "    <tr>\n",
       "      <th>2</th>\n",
       "      <td>1500.0</td>\n",
       "      <td>25.0</td>\n",
       "      <td>38</td>\n",
       "      <td>1500.0</td>\n",
       "    </tr>\n",
       "  </tbody>\n",
       "</table>\n",
       "</div>"
      ],
      "text/plain": [
       "   İstnabul  Ankara  İzmir  Antalya\n",
       "0      30.0    20.0     40     35.0\n",
       "1      29.0  1500.0     39   1500.0\n",
       "2    1500.0    25.0     38   1500.0"
      ]
     },
     "execution_count": 112,
     "metadata": {},
     "output_type": "execute_result"
    }
   ],
   "source": [
    "yeniDataFrame.fillna(1500)"
   ]
  },
  {
   "cell_type": "markdown",
   "id": "b0771a3f",
   "metadata": {},
   "source": [
    "### groupby"
   ]
  },
  {
   "cell_type": "code",
   "execution_count": 116,
   "id": "13da1434",
   "metadata": {},
   "outputs": [
    {
     "data": {
      "text/html": [
       "<div>\n",
       "<style scoped>\n",
       "    .dataframe tbody tr th:only-of-type {\n",
       "        vertical-align: middle;\n",
       "    }\n",
       "\n",
       "    .dataframe tbody tr th {\n",
       "        vertical-align: top;\n",
       "    }\n",
       "\n",
       "    .dataframe thead th {\n",
       "        text-align: right;\n",
       "    }\n",
       "</style>\n",
       "<table border=\"1\" class=\"dataframe\">\n",
       "  <thead>\n",
       "    <tr style=\"text-align: right;\">\n",
       "      <th></th>\n",
       "      <th>Departman</th>\n",
       "      <th>Calisan Ismi</th>\n",
       "      <th>Maas</th>\n",
       "    </tr>\n",
       "  </thead>\n",
       "  <tbody>\n",
       "    <tr>\n",
       "      <th>0</th>\n",
       "      <td>Yazılım</td>\n",
       "      <td>Ahmet</td>\n",
       "      <td>100</td>\n",
       "    </tr>\n",
       "    <tr>\n",
       "      <th>1</th>\n",
       "      <td>Yazılım</td>\n",
       "      <td>Mehmet</td>\n",
       "      <td>200</td>\n",
       "    </tr>\n",
       "    <tr>\n",
       "      <th>2</th>\n",
       "      <td>Pazarlama</td>\n",
       "      <td>Ayşe</td>\n",
       "      <td>300</td>\n",
       "    </tr>\n",
       "    <tr>\n",
       "      <th>3</th>\n",
       "      <td>Pazarlama</td>\n",
       "      <td>Burak</td>\n",
       "      <td>400</td>\n",
       "    </tr>\n",
       "    <tr>\n",
       "      <th>4</th>\n",
       "      <td>Hukuk</td>\n",
       "      <td>Zeynep</td>\n",
       "      <td>500</td>\n",
       "    </tr>\n",
       "    <tr>\n",
       "      <th>5</th>\n",
       "      <td>Hukuk</td>\n",
       "      <td>Fatma</td>\n",
       "      <td>600</td>\n",
       "    </tr>\n",
       "  </tbody>\n",
       "</table>\n",
       "</div>"
      ],
      "text/plain": [
       "   Departman Calisan Ismi  Maas\n",
       "0    Yazılım        Ahmet   100\n",
       "1    Yazılım       Mehmet   200\n",
       "2  Pazarlama         Ayşe   300\n",
       "3  Pazarlama        Burak   400\n",
       "4      Hukuk       Zeynep   500\n",
       "5      Hukuk        Fatma   600"
      ]
     },
     "execution_count": 116,
     "metadata": {},
     "output_type": "execute_result"
    }
   ],
   "source": [
    "maaslar={\"Departman\":[\"Yazılım\",\"Yazılım\",\"Pazarlama\",\"Pazarlama\",\"Hukuk\",\"Hukuk\"],\n",
    "        \"Calisan Ismi\": [\"Ahmet\",\"Mehmet\",\"Ayşe\",\"Burak\",\"Zeynep\",\"Fatma\"],\n",
    "        \"Maas\":[100,200,300,400,500,600]}\n",
    "maasDataFrame=pd.DataFrame(maaslar)\n",
    "maasDataFrame"
   ]
  },
  {
   "cell_type": "code",
   "execution_count": 120,
   "id": "c52ca397",
   "metadata": {},
   "outputs": [
    {
     "name": "stdout",
     "output_type": "stream",
     "text": [
      "           Calisan Ismi  Maas\n",
      "Departman                    \n",
      "Hukuk                 2     2\n",
      "Pazarlama             2     2\n",
      "Yazılım               2     2\n",
      "           Maas\n",
      "Departman      \n",
      "Hukuk       550\n",
      "Pazarlama   350\n",
      "Yazılım     150\n",
      "          Calisan Ismi  Maas\n",
      "Departman                   \n",
      "Hukuk            Fatma   500\n",
      "Pazarlama         Ayşe   300\n",
      "Yazılım          Ahmet   100\n",
      "          Calisan Ismi  Maas\n",
      "Departman                   \n",
      "Hukuk           Zeynep   600\n",
      "Pazarlama        Burak   400\n",
      "Yazılım         Mehmet   200\n"
     ]
    }
   ],
   "source": [
    "gruplar=maasDataFrame.groupby(\"Departman\")\n",
    "print(gruplar.count())\n",
    "print(gruplar.mean())\n",
    "print(gruplar.min())\n",
    "print(gruplar.max())"
   ]
  },
  {
   "cell_type": "code",
   "execution_count": 121,
   "id": "0f0aae9c",
   "metadata": {},
   "outputs": [
    {
     "data": {
      "text/html": [
       "<div>\n",
       "<style scoped>\n",
       "    .dataframe tbody tr th:only-of-type {\n",
       "        vertical-align: middle;\n",
       "    }\n",
       "\n",
       "    .dataframe tbody tr th {\n",
       "        vertical-align: top;\n",
       "    }\n",
       "\n",
       "    .dataframe thead tr th {\n",
       "        text-align: left;\n",
       "    }\n",
       "\n",
       "    .dataframe thead tr:last-of-type th {\n",
       "        text-align: right;\n",
       "    }\n",
       "</style>\n",
       "<table border=\"1\" class=\"dataframe\">\n",
       "  <thead>\n",
       "    <tr>\n",
       "      <th></th>\n",
       "      <th colspan=\"8\" halign=\"left\">Maas</th>\n",
       "    </tr>\n",
       "    <tr>\n",
       "      <th></th>\n",
       "      <th>count</th>\n",
       "      <th>mean</th>\n",
       "      <th>std</th>\n",
       "      <th>min</th>\n",
       "      <th>25%</th>\n",
       "      <th>50%</th>\n",
       "      <th>75%</th>\n",
       "      <th>max</th>\n",
       "    </tr>\n",
       "    <tr>\n",
       "      <th>Departman</th>\n",
       "      <th></th>\n",
       "      <th></th>\n",
       "      <th></th>\n",
       "      <th></th>\n",
       "      <th></th>\n",
       "      <th></th>\n",
       "      <th></th>\n",
       "      <th></th>\n",
       "    </tr>\n",
       "  </thead>\n",
       "  <tbody>\n",
       "    <tr>\n",
       "      <th>Hukuk</th>\n",
       "      <td>2.0</td>\n",
       "      <td>550.0</td>\n",
       "      <td>70.710678</td>\n",
       "      <td>500.0</td>\n",
       "      <td>525.0</td>\n",
       "      <td>550.0</td>\n",
       "      <td>575.0</td>\n",
       "      <td>600.0</td>\n",
       "    </tr>\n",
       "    <tr>\n",
       "      <th>Pazarlama</th>\n",
       "      <td>2.0</td>\n",
       "      <td>350.0</td>\n",
       "      <td>70.710678</td>\n",
       "      <td>300.0</td>\n",
       "      <td>325.0</td>\n",
       "      <td>350.0</td>\n",
       "      <td>375.0</td>\n",
       "      <td>400.0</td>\n",
       "    </tr>\n",
       "    <tr>\n",
       "      <th>Yazılım</th>\n",
       "      <td>2.0</td>\n",
       "      <td>150.0</td>\n",
       "      <td>70.710678</td>\n",
       "      <td>100.0</td>\n",
       "      <td>125.0</td>\n",
       "      <td>150.0</td>\n",
       "      <td>175.0</td>\n",
       "      <td>200.0</td>\n",
       "    </tr>\n",
       "  </tbody>\n",
       "</table>\n",
       "</div>"
      ],
      "text/plain": [
       "           Maas                                                     \n",
       "          count   mean        std    min    25%    50%    75%    max\n",
       "Departman                                                           \n",
       "Hukuk       2.0  550.0  70.710678  500.0  525.0  550.0  575.0  600.0\n",
       "Pazarlama   2.0  350.0  70.710678  300.0  325.0  350.0  375.0  400.0\n",
       "Yazılım     2.0  150.0  70.710678  100.0  125.0  150.0  175.0  200.0"
      ]
     },
     "execution_count": 121,
     "metadata": {},
     "output_type": "execute_result"
    }
   ],
   "source": [
    "gruplar.describe()"
   ]
  },
  {
   "cell_type": "markdown",
   "id": "a7b75960",
   "metadata": {},
   "source": [
    "## Concatenation (Concat)"
   ]
  },
  {
   "cell_type": "code",
   "execution_count": 127,
   "id": "886d8eb3",
   "metadata": {},
   "outputs": [],
   "source": [
    "sozluk1={\"İsim\":[\"Ahmet\",\"Mehmet\",\"Zeynep\",\"Atıl\"],\n",
    "        \"Spor\":[\"Koşu\",\"Yüzme\",\"Koşu\",\"Basketbol\"],\n",
    "        \"Kalori\":[100,200,250,150]}\n",
    "\n",
    "dataFrame1=pd.DataFrame(sozluk1)\n",
    "\n",
    "sozluk2={\"İsim\":[\"Osman\",\"Levent\",\"Atlas\",\"Fatma\"],\n",
    "        \"Spor\":[\"Koşu\",\"Yüzme\",\"Koşu\",\"Basketbol\"],\n",
    "        \"Kalori\":[100,200,250,150]}\n",
    "\n",
    "dataFrame2=pd.DataFrame(sozluk2)\n",
    "\n",
    "sozluk3={\"İsim\":[\"Ayşe\",\"Mahmut\",\"Duygu\",\"Nur\"],\n",
    "        \"Spor\":[\"Koşu\",\"Yüzme\",\"Badminton\",\"Tenis\"],\n",
    "        \"Kalori\":[400,500,100,200]}\n",
    "\n",
    "dataFrame3=pd.DataFrame(sozluk3)"
   ]
  },
  {
   "cell_type": "code",
   "execution_count": 128,
   "id": "008f820f",
   "metadata": {},
   "outputs": [
    {
     "data": {
      "text/html": [
       "<div>\n",
       "<style scoped>\n",
       "    .dataframe tbody tr th:only-of-type {\n",
       "        vertical-align: middle;\n",
       "    }\n",
       "\n",
       "    .dataframe tbody tr th {\n",
       "        vertical-align: top;\n",
       "    }\n",
       "\n",
       "    .dataframe thead th {\n",
       "        text-align: right;\n",
       "    }\n",
       "</style>\n",
       "<table border=\"1\" class=\"dataframe\">\n",
       "  <thead>\n",
       "    <tr style=\"text-align: right;\">\n",
       "      <th></th>\n",
       "      <th>İsim</th>\n",
       "      <th>Spor</th>\n",
       "      <th>Kalori</th>\n",
       "    </tr>\n",
       "  </thead>\n",
       "  <tbody>\n",
       "    <tr>\n",
       "      <th>0</th>\n",
       "      <td>Ahmet</td>\n",
       "      <td>Koşu</td>\n",
       "      <td>100</td>\n",
       "    </tr>\n",
       "    <tr>\n",
       "      <th>1</th>\n",
       "      <td>Mehmet</td>\n",
       "      <td>Yüzme</td>\n",
       "      <td>200</td>\n",
       "    </tr>\n",
       "    <tr>\n",
       "      <th>2</th>\n",
       "      <td>Zeynep</td>\n",
       "      <td>Koşu</td>\n",
       "      <td>250</td>\n",
       "    </tr>\n",
       "    <tr>\n",
       "      <th>3</th>\n",
       "      <td>Atıl</td>\n",
       "      <td>Basketbol</td>\n",
       "      <td>150</td>\n",
       "    </tr>\n",
       "    <tr>\n",
       "      <th>0</th>\n",
       "      <td>Osman</td>\n",
       "      <td>Koşu</td>\n",
       "      <td>100</td>\n",
       "    </tr>\n",
       "    <tr>\n",
       "      <th>1</th>\n",
       "      <td>Levent</td>\n",
       "      <td>Yüzme</td>\n",
       "      <td>200</td>\n",
       "    </tr>\n",
       "    <tr>\n",
       "      <th>2</th>\n",
       "      <td>Atlas</td>\n",
       "      <td>Koşu</td>\n",
       "      <td>250</td>\n",
       "    </tr>\n",
       "    <tr>\n",
       "      <th>3</th>\n",
       "      <td>Fatma</td>\n",
       "      <td>Basketbol</td>\n",
       "      <td>150</td>\n",
       "    </tr>\n",
       "    <tr>\n",
       "      <th>0</th>\n",
       "      <td>Ayşe</td>\n",
       "      <td>Koşu</td>\n",
       "      <td>400</td>\n",
       "    </tr>\n",
       "    <tr>\n",
       "      <th>1</th>\n",
       "      <td>Mahmut</td>\n",
       "      <td>Yüzme</td>\n",
       "      <td>500</td>\n",
       "    </tr>\n",
       "    <tr>\n",
       "      <th>2</th>\n",
       "      <td>Duygu</td>\n",
       "      <td>Badminton</td>\n",
       "      <td>100</td>\n",
       "    </tr>\n",
       "    <tr>\n",
       "      <th>3</th>\n",
       "      <td>Nur</td>\n",
       "      <td>Tenis</td>\n",
       "      <td>200</td>\n",
       "    </tr>\n",
       "  </tbody>\n",
       "</table>\n",
       "</div>"
      ],
      "text/plain": [
       "     İsim       Spor  Kalori\n",
       "0   Ahmet       Koşu     100\n",
       "1  Mehmet      Yüzme     200\n",
       "2  Zeynep       Koşu     250\n",
       "3    Atıl  Basketbol     150\n",
       "0   Osman       Koşu     100\n",
       "1  Levent      Yüzme     200\n",
       "2   Atlas       Koşu     250\n",
       "3   Fatma  Basketbol     150\n",
       "0    Ayşe       Koşu     400\n",
       "1  Mahmut      Yüzme     500\n",
       "2   Duygu  Badminton     100\n",
       "3     Nur      Tenis     200"
      ]
     },
     "execution_count": 128,
     "metadata": {},
     "output_type": "execute_result"
    }
   ],
   "source": [
    "pd.concat([dataFrame1,dataFrame2,dataFrame3]) #axis=1 deseydik yan yana koymaya çalışırdı"
   ]
  },
  {
   "cell_type": "markdown",
   "id": "5744e890",
   "metadata": {},
   "source": [
    "## Merge"
   ]
  },
  {
   "cell_type": "code",
   "execution_count": 130,
   "id": "5dc362b5",
   "metadata": {},
   "outputs": [],
   "source": [
    "veri1={\"İsim\":[\"Ahmet\",\"Mehmet\",\"Zeynep\",\"Atıl\"],\n",
    "        \"Spor\":[\"Koşu\",\"Yüzme\",\"Koşu\",\"Basketbol\"]}\n",
    "\n",
    "data1=pd.DataFrame(veri1)\n",
    "\n",
    "veri2={\"İsim\":[\"Ahmet\",\"Mehmet\",\"Zeynep\",\"Atıl\"],\n",
    "        \"Kalori\":[100,200,250,150]}\n",
    "\n",
    "data2=pd.DataFrame(veri2)"
   ]
  },
  {
   "cell_type": "code",
   "execution_count": 131,
   "id": "8565b8b3",
   "metadata": {},
   "outputs": [
    {
     "data": {
      "text/html": [
       "<div>\n",
       "<style scoped>\n",
       "    .dataframe tbody tr th:only-of-type {\n",
       "        vertical-align: middle;\n",
       "    }\n",
       "\n",
       "    .dataframe tbody tr th {\n",
       "        vertical-align: top;\n",
       "    }\n",
       "\n",
       "    .dataframe thead th {\n",
       "        text-align: right;\n",
       "    }\n",
       "</style>\n",
       "<table border=\"1\" class=\"dataframe\">\n",
       "  <thead>\n",
       "    <tr style=\"text-align: right;\">\n",
       "      <th></th>\n",
       "      <th>İsim</th>\n",
       "      <th>Spor</th>\n",
       "      <th>Kalori</th>\n",
       "    </tr>\n",
       "  </thead>\n",
       "  <tbody>\n",
       "    <tr>\n",
       "      <th>0</th>\n",
       "      <td>Ahmet</td>\n",
       "      <td>Koşu</td>\n",
       "      <td>100</td>\n",
       "    </tr>\n",
       "    <tr>\n",
       "      <th>1</th>\n",
       "      <td>Mehmet</td>\n",
       "      <td>Yüzme</td>\n",
       "      <td>200</td>\n",
       "    </tr>\n",
       "    <tr>\n",
       "      <th>2</th>\n",
       "      <td>Zeynep</td>\n",
       "      <td>Koşu</td>\n",
       "      <td>250</td>\n",
       "    </tr>\n",
       "    <tr>\n",
       "      <th>3</th>\n",
       "      <td>Atıl</td>\n",
       "      <td>Basketbol</td>\n",
       "      <td>150</td>\n",
       "    </tr>\n",
       "  </tbody>\n",
       "</table>\n",
       "</div>"
      ],
      "text/plain": [
       "     İsim       Spor  Kalori\n",
       "0   Ahmet       Koşu     100\n",
       "1  Mehmet      Yüzme     200\n",
       "2  Zeynep       Koşu     250\n",
       "3    Atıl  Basketbol     150"
      ]
     },
     "execution_count": 131,
     "metadata": {},
     "output_type": "execute_result"
    }
   ],
   "source": [
    "pd.merge(data1,data2,on=\"İsim\")"
   ]
  },
  {
   "cell_type": "markdown",
   "id": "2218bee0",
   "metadata": {},
   "source": [
    "### Diğer Operasyonlar"
   ]
  },
  {
   "cell_type": "code",
   "execution_count": 134,
   "id": "c273e735",
   "metadata": {},
   "outputs": [
    {
     "data": {
      "text/html": [
       "<div>\n",
       "<style scoped>\n",
       "    .dataframe tbody tr th:only-of-type {\n",
       "        vertical-align: middle;\n",
       "    }\n",
       "\n",
       "    .dataframe tbody tr th {\n",
       "        vertical-align: top;\n",
       "    }\n",
       "\n",
       "    .dataframe thead th {\n",
       "        text-align: right;\n",
       "    }\n",
       "</style>\n",
       "<table border=\"1\" class=\"dataframe\">\n",
       "  <thead>\n",
       "    <tr style=\"text-align: right;\">\n",
       "      <th></th>\n",
       "      <th>İsim</th>\n",
       "      <th>Departman</th>\n",
       "      <th>Maas</th>\n",
       "    </tr>\n",
       "  </thead>\n",
       "  <tbody>\n",
       "    <tr>\n",
       "      <th>0</th>\n",
       "      <td>Ali</td>\n",
       "      <td>Yazılım</td>\n",
       "      <td>200</td>\n",
       "    </tr>\n",
       "    <tr>\n",
       "      <th>1</th>\n",
       "      <td>Zeynep</td>\n",
       "      <td>Satış</td>\n",
       "      <td>300</td>\n",
       "    </tr>\n",
       "    <tr>\n",
       "      <th>2</th>\n",
       "      <td>Aslı</td>\n",
       "      <td>Pazarlama</td>\n",
       "      <td>400</td>\n",
       "    </tr>\n",
       "    <tr>\n",
       "      <th>3</th>\n",
       "      <td>Ahmet</td>\n",
       "      <td>Yazılım</td>\n",
       "      <td>500</td>\n",
       "    </tr>\n",
       "  </tbody>\n",
       "</table>\n",
       "</div>"
      ],
      "text/plain": [
       "     İsim  Departman  Maas\n",
       "0     Ali    Yazılım   200\n",
       "1  Zeynep      Satış   300\n",
       "2    Aslı  Pazarlama   400\n",
       "3   Ahmet    Yazılım   500"
      ]
     },
     "execution_count": 134,
     "metadata": {},
     "output_type": "execute_result"
    }
   ],
   "source": [
    "maas={\"İsim\":[\"Ali\",\"Zeynep\",\"Aslı\",\"Ahmet\"],\n",
    "     \"Departman\":[\"Yazılım\",\"Satış\",\"Pazarlama\",\"Yazılım\"],\n",
    "     \"Maas\":[200,300,400,500]}\n",
    "maasData=pd.DataFrame(maas)\n",
    "maasData"
   ]
  },
  {
   "cell_type": "markdown",
   "id": "92e3a867",
   "metadata": {},
   "source": [
    "#### unique-nunique-value_counts"
   ]
  },
  {
   "cell_type": "code",
   "execution_count": 135,
   "id": "b3d5e345",
   "metadata": {},
   "outputs": [
    {
     "data": {
      "text/plain": [
       "array(['Yazılım', 'Satış', 'Pazarlama'], dtype=object)"
      ]
     },
     "execution_count": 135,
     "metadata": {},
     "output_type": "execute_result"
    }
   ],
   "source": [
    "maasData[\"Departman\"].unique() "
   ]
  },
  {
   "cell_type": "code",
   "execution_count": 136,
   "id": "fb7758c2",
   "metadata": {},
   "outputs": [
    {
     "data": {
      "text/plain": [
       "3"
      ]
     },
     "execution_count": 136,
     "metadata": {},
     "output_type": "execute_result"
    }
   ],
   "source": [
    "maasData[\"Departman\"].nunique() # number of unique = nunique"
   ]
  },
  {
   "cell_type": "code",
   "execution_count": 137,
   "id": "3b6661c7",
   "metadata": {},
   "outputs": [
    {
     "data": {
      "text/plain": [
       "Yazılım      2\n",
       "Satış        1\n",
       "Pazarlama    1\n",
       "Name: Departman, dtype: int64"
      ]
     },
     "execution_count": 137,
     "metadata": {},
     "output_type": "execute_result"
    }
   ],
   "source": [
    "maasData[\"Departman\"].value_counts()"
   ]
  },
  {
   "cell_type": "markdown",
   "id": "5cb31eb8",
   "metadata": {},
   "source": [
    "#### apply(fonksiyon adapte eder)"
   ]
  },
  {
   "cell_type": "code",
   "execution_count": 138,
   "id": "373ae0f5",
   "metadata": {},
   "outputs": [
    {
     "data": {
      "text/plain": [
       "0    132.0\n",
       "1    198.0\n",
       "2    264.0\n",
       "3    330.0\n",
       "Name: Maas, dtype: float64"
      ]
     },
     "execution_count": 138,
     "metadata": {},
     "output_type": "execute_result"
    }
   ],
   "source": [
    "def brutToNet(maas):\n",
    "    return maas*0.66\n",
    "\n",
    "maasData[\"Maas\"].apply(brutToNet)"
   ]
  },
  {
   "cell_type": "markdown",
   "id": "23e9326b",
   "metadata": {},
   "source": [
    "### Pivot Table"
   ]
  },
  {
   "cell_type": "code",
   "execution_count": 145,
   "id": "1588f92d",
   "metadata": {},
   "outputs": [],
   "source": [
    "yeniVeri={\"Tür\":[\"Meyve\",\"Meyve\",\"Sebze\",\"Sebze\",\"Sebze\"],\n",
    "         \"Ad\":[\"Elma\",\"Armut\",\"Domates\",\"Salatalık\",\"Salatalık\"],\n",
    "         \"Kalori\":[10,20,30,40,50]}\n",
    "\n",
    "yeniData=pd.DataFrame(yeniVeri)"
   ]
  },
  {
   "cell_type": "code",
   "execution_count": 146,
   "id": "2d14e60c",
   "metadata": {},
   "outputs": [
    {
     "data": {
      "text/html": [
       "<div>\n",
       "<style scoped>\n",
       "    .dataframe tbody tr th:only-of-type {\n",
       "        vertical-align: middle;\n",
       "    }\n",
       "\n",
       "    .dataframe tbody tr th {\n",
       "        vertical-align: top;\n",
       "    }\n",
       "\n",
       "    .dataframe thead th {\n",
       "        text-align: right;\n",
       "    }\n",
       "</style>\n",
       "<table border=\"1\" class=\"dataframe\">\n",
       "  <thead>\n",
       "    <tr style=\"text-align: right;\">\n",
       "      <th></th>\n",
       "      <th></th>\n",
       "      <th>Kalori</th>\n",
       "    </tr>\n",
       "    <tr>\n",
       "      <th>Tür</th>\n",
       "      <th>Ad</th>\n",
       "      <th></th>\n",
       "    </tr>\n",
       "  </thead>\n",
       "  <tbody>\n",
       "    <tr>\n",
       "      <th rowspan=\"2\" valign=\"top\">Meyve</th>\n",
       "      <th>Armut</th>\n",
       "      <td>20</td>\n",
       "    </tr>\n",
       "    <tr>\n",
       "      <th>Elma</th>\n",
       "      <td>10</td>\n",
       "    </tr>\n",
       "    <tr>\n",
       "      <th rowspan=\"2\" valign=\"top\">Sebze</th>\n",
       "      <th>Domates</th>\n",
       "      <td>30</td>\n",
       "    </tr>\n",
       "    <tr>\n",
       "      <th>Salatalık</th>\n",
       "      <td>45</td>\n",
       "    </tr>\n",
       "  </tbody>\n",
       "</table>\n",
       "</div>"
      ],
      "text/plain": [
       "                 Kalori\n",
       "Tür   Ad               \n",
       "Meyve Armut          20\n",
       "      Elma           10\n",
       "Sebze Domates        30\n",
       "      Salatalık      45"
      ]
     },
     "execution_count": 146,
     "metadata": {},
     "output_type": "execute_result"
    }
   ],
   "source": [
    "yeniData.pivot_table(values=\"Kalori\",index=[\"Tür\",\"Ad\"]) # Salatalıkların ortalamasını alıp atar"
   ]
  },
  {
   "cell_type": "code",
   "execution_count": 147,
   "id": "91e15a82",
   "metadata": {},
   "outputs": [
    {
     "data": {
      "text/html": [
       "<div>\n",
       "<style scoped>\n",
       "    .dataframe tbody tr th:only-of-type {\n",
       "        vertical-align: middle;\n",
       "    }\n",
       "\n",
       "    .dataframe tbody tr th {\n",
       "        vertical-align: top;\n",
       "    }\n",
       "\n",
       "    .dataframe thead th {\n",
       "        text-align: right;\n",
       "    }\n",
       "</style>\n",
       "<table border=\"1\" class=\"dataframe\">\n",
       "  <thead>\n",
       "    <tr style=\"text-align: right;\">\n",
       "      <th></th>\n",
       "      <th></th>\n",
       "      <th>Kalori</th>\n",
       "    </tr>\n",
       "    <tr>\n",
       "      <th>Tür</th>\n",
       "      <th>Ad</th>\n",
       "      <th></th>\n",
       "    </tr>\n",
       "  </thead>\n",
       "  <tbody>\n",
       "    <tr>\n",
       "      <th rowspan=\"2\" valign=\"top\">Meyve</th>\n",
       "      <th>Armut</th>\n",
       "      <td>20</td>\n",
       "    </tr>\n",
       "    <tr>\n",
       "      <th>Elma</th>\n",
       "      <td>10</td>\n",
       "    </tr>\n",
       "    <tr>\n",
       "      <th rowspan=\"2\" valign=\"top\">Sebze</th>\n",
       "      <th>Domates</th>\n",
       "      <td>30</td>\n",
       "    </tr>\n",
       "    <tr>\n",
       "      <th>Salatalık</th>\n",
       "      <td>90</td>\n",
       "    </tr>\n",
       "  </tbody>\n",
       "</table>\n",
       "</div>"
      ],
      "text/plain": [
       "                 Kalori\n",
       "Tür   Ad               \n",
       "Meyve Armut          20\n",
       "      Elma           10\n",
       "Sebze Domates        30\n",
       "      Salatalık      90"
      ]
     },
     "execution_count": 147,
     "metadata": {},
     "output_type": "execute_result"
    }
   ],
   "source": [
    "yeniData.pivot_table(values=\"Kalori\",index=[\"Tür\",\"Ad\"],aggfunc=np.sum) # Salatalıkların toplamını atar"
   ]
  },
  {
   "cell_type": "markdown",
   "id": "0c0b2273",
   "metadata": {},
   "source": [
    "## Veri Çekmek"
   ]
  },
  {
   "cell_type": "markdown",
   "id": "f4606c6f",
   "metadata": {},
   "source": [
    "#### Excel'den"
   ]
  },
  {
   "cell_type": "code",
   "execution_count": null,
   "id": "12ac3194",
   "metadata": {},
   "outputs": [],
   "source": [
    "excelDataFrame = pd.read_excel(\"dosyaAdı.xlsx\")\n",
    "\n",
    "# Excel dosyasıyla pyhton kodu aynı dosyada olmalı!!!\n",
    "#...\n",
    "\n",
    "yeniExcelDataFrame.to_excel(\"yeniDosyaAdı.xlsx\")"
   ]
  },
  {
   "cell_type": "markdown",
   "id": "1780a99f",
   "metadata": {},
   "source": [
    "#### CSV'den"
   ]
  },
  {
   "cell_type": "code",
   "execution_count": null,
   "id": "54a22473",
   "metadata": {},
   "outputs": [],
   "source": [
    "csvDataFrame=pd.read_csv(\"dosyaAdı.csv\")\n",
    "\n",
    "# CSV dosyasıyla pyhton kodu aynı dosyada olmalı!!!\n",
    "#...\n",
    "\n",
    "yeniCsvDataFrame.to_csv(\"yeniDosyaAdı.csv\")"
   ]
  }
 ],
 "metadata": {
  "kernelspec": {
   "display_name": "Python 3",
   "language": "python",
   "name": "python3"
  },
  "language_info": {
   "codemirror_mode": {
    "name": "ipython",
    "version": 3
   },
   "file_extension": ".py",
   "mimetype": "text/x-python",
   "name": "python",
   "nbconvert_exporter": "python",
   "pygments_lexer": "ipython3",
   "version": "3.8.8"
  }
 },
 "nbformat": 4,
 "nbformat_minor": 5
}
