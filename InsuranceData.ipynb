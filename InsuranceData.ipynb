{
 "cells": [
  {
   "cell_type": "code",
   "execution_count": 1,
   "id": "ba67f5e1",
   "metadata": {},
   "outputs": [],
   "source": [
    "import pandas as pd\n",
    "import numpy as np\n",
    "import matplotlib.pyplot as plt\n",
    "import seaborn as sbn"
   ]
  },
  {
   "cell_type": "code",
   "execution_count": 2,
   "id": "8951d6ab",
   "metadata": {},
   "outputs": [],
   "source": [
    "dataFrame=pd.read_csv(\"insurance.csv\")"
   ]
  },
  {
   "cell_type": "code",
   "execution_count": 21,
   "id": "01549885",
   "metadata": {},
   "outputs": [
    {
     "data": {
      "text/plain": [
       "(1338, 7)"
      ]
     },
     "execution_count": 21,
     "metadata": {},
     "output_type": "execute_result"
    }
   ],
   "source": [
    "dataFrame.shape"
   ]
  },
  {
   "cell_type": "code",
   "execution_count": 3,
   "id": "0fec7350",
   "metadata": {},
   "outputs": [
    {
     "data": {
      "text/html": [
       "<div>\n",
       "<style scoped>\n",
       "    .dataframe tbody tr th:only-of-type {\n",
       "        vertical-align: middle;\n",
       "    }\n",
       "\n",
       "    .dataframe tbody tr th {\n",
       "        vertical-align: top;\n",
       "    }\n",
       "\n",
       "    .dataframe thead th {\n",
       "        text-align: right;\n",
       "    }\n",
       "</style>\n",
       "<table border=\"1\" class=\"dataframe\">\n",
       "  <thead>\n",
       "    <tr style=\"text-align: right;\">\n",
       "      <th></th>\n",
       "      <th>age</th>\n",
       "      <th>sex</th>\n",
       "      <th>bmi</th>\n",
       "      <th>children</th>\n",
       "      <th>smoker</th>\n",
       "      <th>region</th>\n",
       "      <th>charges</th>\n",
       "    </tr>\n",
       "  </thead>\n",
       "  <tbody>\n",
       "    <tr>\n",
       "      <th>0</th>\n",
       "      <td>19</td>\n",
       "      <td>female</td>\n",
       "      <td>27.900</td>\n",
       "      <td>0</td>\n",
       "      <td>yes</td>\n",
       "      <td>southwest</td>\n",
       "      <td>16884.92400</td>\n",
       "    </tr>\n",
       "    <tr>\n",
       "      <th>1</th>\n",
       "      <td>18</td>\n",
       "      <td>male</td>\n",
       "      <td>33.770</td>\n",
       "      <td>1</td>\n",
       "      <td>no</td>\n",
       "      <td>southeast</td>\n",
       "      <td>1725.55230</td>\n",
       "    </tr>\n",
       "    <tr>\n",
       "      <th>2</th>\n",
       "      <td>28</td>\n",
       "      <td>male</td>\n",
       "      <td>33.000</td>\n",
       "      <td>3</td>\n",
       "      <td>no</td>\n",
       "      <td>southeast</td>\n",
       "      <td>4449.46200</td>\n",
       "    </tr>\n",
       "    <tr>\n",
       "      <th>3</th>\n",
       "      <td>33</td>\n",
       "      <td>male</td>\n",
       "      <td>22.705</td>\n",
       "      <td>0</td>\n",
       "      <td>no</td>\n",
       "      <td>northwest</td>\n",
       "      <td>21984.47061</td>\n",
       "    </tr>\n",
       "    <tr>\n",
       "      <th>4</th>\n",
       "      <td>32</td>\n",
       "      <td>male</td>\n",
       "      <td>28.880</td>\n",
       "      <td>0</td>\n",
       "      <td>no</td>\n",
       "      <td>northwest</td>\n",
       "      <td>3866.85520</td>\n",
       "    </tr>\n",
       "  </tbody>\n",
       "</table>\n",
       "</div>"
      ],
      "text/plain": [
       "   age     sex     bmi  children smoker     region      charges\n",
       "0   19  female  27.900         0    yes  southwest  16884.92400\n",
       "1   18    male  33.770         1     no  southeast   1725.55230\n",
       "2   28    male  33.000         3     no  southeast   4449.46200\n",
       "3   33    male  22.705         0     no  northwest  21984.47061\n",
       "4   32    male  28.880         0     no  northwest   3866.85520"
      ]
     },
     "execution_count": 3,
     "metadata": {},
     "output_type": "execute_result"
    }
   ],
   "source": [
    "dataFrame.head()"
   ]
  },
  {
   "cell_type": "code",
   "execution_count": 4,
   "id": "22680022",
   "metadata": {},
   "outputs": [],
   "source": [
    "dataFrame[\"smoker\"]=dataFrame[\"smoker\"].replace([\"yes\",\"no\"],[1,0])"
   ]
  },
  {
   "cell_type": "code",
   "execution_count": 5,
   "id": "44fd35b6",
   "metadata": {},
   "outputs": [
    {
     "data": {
      "text/html": [
       "<div>\n",
       "<style scoped>\n",
       "    .dataframe tbody tr th:only-of-type {\n",
       "        vertical-align: middle;\n",
       "    }\n",
       "\n",
       "    .dataframe tbody tr th {\n",
       "        vertical-align: top;\n",
       "    }\n",
       "\n",
       "    .dataframe thead th {\n",
       "        text-align: right;\n",
       "    }\n",
       "</style>\n",
       "<table border=\"1\" class=\"dataframe\">\n",
       "  <thead>\n",
       "    <tr style=\"text-align: right;\">\n",
       "      <th></th>\n",
       "      <th>age</th>\n",
       "      <th>sex</th>\n",
       "      <th>bmi</th>\n",
       "      <th>children</th>\n",
       "      <th>smoker</th>\n",
       "      <th>region</th>\n",
       "      <th>charges</th>\n",
       "    </tr>\n",
       "  </thead>\n",
       "  <tbody>\n",
       "    <tr>\n",
       "      <th>0</th>\n",
       "      <td>19</td>\n",
       "      <td>female</td>\n",
       "      <td>27.900</td>\n",
       "      <td>0</td>\n",
       "      <td>1</td>\n",
       "      <td>southwest</td>\n",
       "      <td>16884.92400</td>\n",
       "    </tr>\n",
       "    <tr>\n",
       "      <th>1</th>\n",
       "      <td>18</td>\n",
       "      <td>male</td>\n",
       "      <td>33.770</td>\n",
       "      <td>1</td>\n",
       "      <td>0</td>\n",
       "      <td>southeast</td>\n",
       "      <td>1725.55230</td>\n",
       "    </tr>\n",
       "    <tr>\n",
       "      <th>2</th>\n",
       "      <td>28</td>\n",
       "      <td>male</td>\n",
       "      <td>33.000</td>\n",
       "      <td>3</td>\n",
       "      <td>0</td>\n",
       "      <td>southeast</td>\n",
       "      <td>4449.46200</td>\n",
       "    </tr>\n",
       "    <tr>\n",
       "      <th>3</th>\n",
       "      <td>33</td>\n",
       "      <td>male</td>\n",
       "      <td>22.705</td>\n",
       "      <td>0</td>\n",
       "      <td>0</td>\n",
       "      <td>northwest</td>\n",
       "      <td>21984.47061</td>\n",
       "    </tr>\n",
       "    <tr>\n",
       "      <th>4</th>\n",
       "      <td>32</td>\n",
       "      <td>male</td>\n",
       "      <td>28.880</td>\n",
       "      <td>0</td>\n",
       "      <td>0</td>\n",
       "      <td>northwest</td>\n",
       "      <td>3866.85520</td>\n",
       "    </tr>\n",
       "  </tbody>\n",
       "</table>\n",
       "</div>"
      ],
      "text/plain": [
       "   age     sex     bmi  children  smoker     region      charges\n",
       "0   19  female  27.900         0       1  southwest  16884.92400\n",
       "1   18    male  33.770         1       0  southeast   1725.55230\n",
       "2   28    male  33.000         3       0  southeast   4449.46200\n",
       "3   33    male  22.705         0       0  northwest  21984.47061\n",
       "4   32    male  28.880         0       0  northwest   3866.85520"
      ]
     },
     "execution_count": 5,
     "metadata": {},
     "output_type": "execute_result"
    }
   ],
   "source": [
    "dataFrame.head()"
   ]
  },
  {
   "cell_type": "code",
   "execution_count": 6,
   "id": "58363a8d",
   "metadata": {},
   "outputs": [],
   "source": [
    "dataFrame[\"sex\"]=dataFrame[\"sex\"].replace([\"female\",\"male\"],[1,0])"
   ]
  },
  {
   "cell_type": "code",
   "execution_count": 7,
   "id": "6426a0e4",
   "metadata": {},
   "outputs": [
    {
     "data": {
      "text/html": [
       "<div>\n",
       "<style scoped>\n",
       "    .dataframe tbody tr th:only-of-type {\n",
       "        vertical-align: middle;\n",
       "    }\n",
       "\n",
       "    .dataframe tbody tr th {\n",
       "        vertical-align: top;\n",
       "    }\n",
       "\n",
       "    .dataframe thead th {\n",
       "        text-align: right;\n",
       "    }\n",
       "</style>\n",
       "<table border=\"1\" class=\"dataframe\">\n",
       "  <thead>\n",
       "    <tr style=\"text-align: right;\">\n",
       "      <th></th>\n",
       "      <th>age</th>\n",
       "      <th>sex</th>\n",
       "      <th>bmi</th>\n",
       "      <th>children</th>\n",
       "      <th>smoker</th>\n",
       "      <th>region</th>\n",
       "      <th>charges</th>\n",
       "    </tr>\n",
       "  </thead>\n",
       "  <tbody>\n",
       "    <tr>\n",
       "      <th>0</th>\n",
       "      <td>19</td>\n",
       "      <td>1</td>\n",
       "      <td>27.900</td>\n",
       "      <td>0</td>\n",
       "      <td>1</td>\n",
       "      <td>southwest</td>\n",
       "      <td>16884.92400</td>\n",
       "    </tr>\n",
       "    <tr>\n",
       "      <th>1</th>\n",
       "      <td>18</td>\n",
       "      <td>0</td>\n",
       "      <td>33.770</td>\n",
       "      <td>1</td>\n",
       "      <td>0</td>\n",
       "      <td>southeast</td>\n",
       "      <td>1725.55230</td>\n",
       "    </tr>\n",
       "    <tr>\n",
       "      <th>2</th>\n",
       "      <td>28</td>\n",
       "      <td>0</td>\n",
       "      <td>33.000</td>\n",
       "      <td>3</td>\n",
       "      <td>0</td>\n",
       "      <td>southeast</td>\n",
       "      <td>4449.46200</td>\n",
       "    </tr>\n",
       "    <tr>\n",
       "      <th>3</th>\n",
       "      <td>33</td>\n",
       "      <td>0</td>\n",
       "      <td>22.705</td>\n",
       "      <td>0</td>\n",
       "      <td>0</td>\n",
       "      <td>northwest</td>\n",
       "      <td>21984.47061</td>\n",
       "    </tr>\n",
       "    <tr>\n",
       "      <th>4</th>\n",
       "      <td>32</td>\n",
       "      <td>0</td>\n",
       "      <td>28.880</td>\n",
       "      <td>0</td>\n",
       "      <td>0</td>\n",
       "      <td>northwest</td>\n",
       "      <td>3866.85520</td>\n",
       "    </tr>\n",
       "  </tbody>\n",
       "</table>\n",
       "</div>"
      ],
      "text/plain": [
       "   age  sex     bmi  children  smoker     region      charges\n",
       "0   19    1  27.900         0       1  southwest  16884.92400\n",
       "1   18    0  33.770         1       0  southeast   1725.55230\n",
       "2   28    0  33.000         3       0  southeast   4449.46200\n",
       "3   33    0  22.705         0       0  northwest  21984.47061\n",
       "4   32    0  28.880         0       0  northwest   3866.85520"
      ]
     },
     "execution_count": 7,
     "metadata": {},
     "output_type": "execute_result"
    }
   ],
   "source": [
    "dataFrame.head()"
   ]
  },
  {
   "cell_type": "code",
   "execution_count": 8,
   "id": "df40451f",
   "metadata": {},
   "outputs": [
    {
     "data": {
      "text/plain": [
       "age         0\n",
       "sex         0\n",
       "bmi         0\n",
       "children    0\n",
       "smoker      0\n",
       "region      0\n",
       "charges     0\n",
       "dtype: int64"
      ]
     },
     "execution_count": 8,
     "metadata": {},
     "output_type": "execute_result"
    }
   ],
   "source": [
    "dataFrame.isnull().sum()"
   ]
  },
  {
   "cell_type": "code",
   "execution_count": 13,
   "id": "dad0c210",
   "metadata": {},
   "outputs": [
    {
     "data": {
      "text/plain": [
       "array(['southwest', 'southeast', 'northwest', 'northeast'], dtype=object)"
      ]
     },
     "execution_count": 13,
     "metadata": {},
     "output_type": "execute_result"
    }
   ],
   "source": [
    "dataFrame[\"region\"].unique()"
   ]
  },
  {
   "cell_type": "code",
   "execution_count": 14,
   "id": "a1459ef4",
   "metadata": {},
   "outputs": [],
   "source": [
    "dataFrame[\"region\"]=dataFrame[\"region\"].replace(['southwest', 'southeast', 'northeast', 'northwest'],[-2,-1,1,2])"
   ]
  },
  {
   "cell_type": "code",
   "execution_count": 15,
   "id": "f29b8439",
   "metadata": {},
   "outputs": [
    {
     "data": {
      "text/html": [
       "<div>\n",
       "<style scoped>\n",
       "    .dataframe tbody tr th:only-of-type {\n",
       "        vertical-align: middle;\n",
       "    }\n",
       "\n",
       "    .dataframe tbody tr th {\n",
       "        vertical-align: top;\n",
       "    }\n",
       "\n",
       "    .dataframe thead th {\n",
       "        text-align: right;\n",
       "    }\n",
       "</style>\n",
       "<table border=\"1\" class=\"dataframe\">\n",
       "  <thead>\n",
       "    <tr style=\"text-align: right;\">\n",
       "      <th></th>\n",
       "      <th>age</th>\n",
       "      <th>sex</th>\n",
       "      <th>bmi</th>\n",
       "      <th>children</th>\n",
       "      <th>smoker</th>\n",
       "      <th>region</th>\n",
       "      <th>charges</th>\n",
       "    </tr>\n",
       "  </thead>\n",
       "  <tbody>\n",
       "    <tr>\n",
       "      <th>0</th>\n",
       "      <td>19</td>\n",
       "      <td>1</td>\n",
       "      <td>27.900</td>\n",
       "      <td>0</td>\n",
       "      <td>1</td>\n",
       "      <td>-2</td>\n",
       "      <td>16884.92400</td>\n",
       "    </tr>\n",
       "    <tr>\n",
       "      <th>1</th>\n",
       "      <td>18</td>\n",
       "      <td>0</td>\n",
       "      <td>33.770</td>\n",
       "      <td>1</td>\n",
       "      <td>0</td>\n",
       "      <td>-1</td>\n",
       "      <td>1725.55230</td>\n",
       "    </tr>\n",
       "    <tr>\n",
       "      <th>2</th>\n",
       "      <td>28</td>\n",
       "      <td>0</td>\n",
       "      <td>33.000</td>\n",
       "      <td>3</td>\n",
       "      <td>0</td>\n",
       "      <td>-1</td>\n",
       "      <td>4449.46200</td>\n",
       "    </tr>\n",
       "    <tr>\n",
       "      <th>3</th>\n",
       "      <td>33</td>\n",
       "      <td>0</td>\n",
       "      <td>22.705</td>\n",
       "      <td>0</td>\n",
       "      <td>0</td>\n",
       "      <td>2</td>\n",
       "      <td>21984.47061</td>\n",
       "    </tr>\n",
       "    <tr>\n",
       "      <th>4</th>\n",
       "      <td>32</td>\n",
       "      <td>0</td>\n",
       "      <td>28.880</td>\n",
       "      <td>0</td>\n",
       "      <td>0</td>\n",
       "      <td>2</td>\n",
       "      <td>3866.85520</td>\n",
       "    </tr>\n",
       "  </tbody>\n",
       "</table>\n",
       "</div>"
      ],
      "text/plain": [
       "   age  sex     bmi  children  smoker  region      charges\n",
       "0   19    1  27.900         0       1      -2  16884.92400\n",
       "1   18    0  33.770         1       0      -1   1725.55230\n",
       "2   28    0  33.000         3       0      -1   4449.46200\n",
       "3   33    0  22.705         0       0       2  21984.47061\n",
       "4   32    0  28.880         0       0       2   3866.85520"
      ]
     },
     "execution_count": 15,
     "metadata": {},
     "output_type": "execute_result"
    }
   ],
   "source": [
    "dataFrame.head()"
   ]
  },
  {
   "cell_type": "code",
   "execution_count": 17,
   "id": "3d0ef24d",
   "metadata": {},
   "outputs": [
    {
     "data": {
      "text/plain": [
       "age         0.299008\n",
       "sex        -0.057292\n",
       "bmi         0.198341\n",
       "children    0.067998\n",
       "smoker      0.787251\n",
       "region     -0.017462\n",
       "charges     1.000000\n",
       "Name: charges, dtype: float64"
      ]
     },
     "execution_count": 17,
     "metadata": {},
     "output_type": "execute_result"
    }
   ],
   "source": [
    "dataFrame.corr()[\"charges\"]"
   ]
  },
  {
   "cell_type": "code",
   "execution_count": 18,
   "id": "e8808c26",
   "metadata": {},
   "outputs": [
    {
     "data": {
      "text/plain": [
       "<seaborn.axisgrid.PairGrid at 0x1fd99fd2730>"
      ]
     },
     "execution_count": 18,
     "metadata": {},
     "output_type": "execute_result"
    },
    {
     "data": {
      "image/png": "[encoded data removed]",
      "text/plain": [
       "<Figure size 180x1260 with 8 Axes>"
      ]
     },
     "metadata": {
      "needs_background": "light"
     },
     "output_type": "display_data"
    }
   ],
   "source": [
    "sbn.pairplot(dataFrame,x_vars=[\"charges\"])"
   ]
  },
  {
   "cell_type": "code",
   "execution_count": 22,
   "id": "539ba828",
   "metadata": {},
   "outputs": [
    {
     "name": "stderr",
     "output_type": "stream",
     "text": [
      "C:\\Users\\sumey\\anaconda3\\lib\\site-packages\\seaborn\\distributions.py:2557: FutureWarning: `distplot` is a deprecated function and will be removed in a future version. Please adapt your code to use either `displot` (a figure-level function with similar flexibility) or `histplot` (an axes-level function for histograms).\n",
      "  warnings.warn(msg, FutureWarning)\n"
     ]
    },
    {
     "data": {
      "text/plain": [
       "<AxesSubplot:xlabel='charges', ylabel='Density'>"
      ]
     },
     "execution_count": 22,
     "metadata": {},
     "output_type": "execute_result"
    },
    {
     "data": {
      "image/png": "[encoded data removed]",
      "text/plain": [
       "<Figure size 432x288 with 1 Axes>"
      ]
     },
     "metadata": {
      "needs_background": "light"
     },
     "output_type": "display_data"
    }
   ],
   "source": [
    "sbn.distplot(dataFrame[\"charges\"])"
   ]
  },
  {
   "cell_type": "code",
   "execution_count": 23,
   "id": "25e5a55c",
   "metadata": {},
   "outputs": [],
   "source": [
    "yeniData=dataFrame.sort_values(\"charges\",ascending=False).iloc[13:]"
   ]
  },
  {
   "cell_type": "code",
   "execution_count": 24,
   "id": "b348a52e",
   "metadata": {},
   "outputs": [
    {
     "name": "stderr",
     "output_type": "stream",
     "text": [
      "C:\\Users\\sumey\\anaconda3\\lib\\site-packages\\seaborn\\distributions.py:2557: FutureWarning: `distplot` is a deprecated function and will be removed in a future version. Please adapt your code to use either `displot` (a figure-level function with similar flexibility) or `histplot` (an axes-level function for histograms).\n",
      "  warnings.warn(msg, FutureWarning)\n"
     ]
    },
    {
     "data": {
      "text/plain": [
       "<AxesSubplot:xlabel='charges', ylabel='Density'>"
      ]
     },
     "execution_count": 24,
     "metadata": {},
     "output_type": "execute_result"
    },
    {
     "data": {
      "image/png": "[encoded data removed]",
      "text/plain": [
       "<Figure size 432x288 with 1 Axes>"
      ]
     },
     "metadata": {
      "needs_background": "light"
     },
     "output_type": "display_data"
    }
   ],
   "source": [
    "sbn.distplot(yeniData[\"charges\"])"
   ]
  },
  {
   "cell_type": "code",
   "execution_count": 27,
   "id": "a7d80ba4",
   "metadata": {},
   "outputs": [],
   "source": [
    "y=yeniData[\"charges\"].values\n",
    "x=yeniData.drop(\"charges\",axis=1).values"
   ]
  },
  {
   "cell_type": "code",
   "execution_count": 28,
   "id": "1b9c7e20",
   "metadata": {},
   "outputs": [
    {
     "data": {
      "text/plain": [
       "array([48549.17835, 48517.56315, 48173.361  , ...,  1135.9407 ,\n",
       "        1131.5066 ,  1121.8739 ])"
      ]
     },
     "execution_count": 28,
     "metadata": {},
     "output_type": "execute_result"
    }
   ],
   "source": [
    "y"
   ]
  },
  {
   "cell_type": "code",
   "execution_count": 29,
   "id": "b01f63e8",
   "metadata": {},
   "outputs": [
    {
     "data": {
      "text/plain": [
       "array([[54.   ,  0.   , 40.565,  3.   ,  1.   ,  1.   ],\n",
       "       [61.   ,  1.   , 36.385,  1.   ,  1.   ,  1.   ],\n",
       "       [60.   ,  0.   , 39.9  ,  0.   ,  1.   , -2.   ],\n",
       "       ...,\n",
       "       [18.   ,  0.   , 33.33 ,  0.   ,  0.   , -1.   ],\n",
       "       [18.   ,  0.   , 30.14 ,  0.   ,  0.   , -1.   ],\n",
       "       [18.   ,  0.   , 23.21 ,  0.   ,  0.   , -1.   ]])"
      ]
     },
     "execution_count": 29,
     "metadata": {},
     "output_type": "execute_result"
    }
   ],
   "source": [
    "x"
   ]
  },
  {
   "cell_type": "code",
   "execution_count": 30,
   "id": "1710146e",
   "metadata": {},
   "outputs": [],
   "source": [
    "from sklearn.model_selection import train_test_split"
   ]
  },
  {
   "cell_type": "code",
   "execution_count": 31,
   "id": "96ef8cb6",
   "metadata": {},
   "outputs": [],
   "source": [
    "x_train,x_test,y_train,y_test=train_test_split(x,y,test_size=0.3,random_state=10)"
   ]
  },
  {
   "cell_type": "code",
   "execution_count": 32,
   "id": "412c1d0b",
   "metadata": {},
   "outputs": [],
   "source": [
    "from sklearn.preprocessing import MinMaxScaler"
   ]
  },
  {
   "cell_type": "code",
   "execution_count": 33,
   "id": "68aeb270",
   "metadata": {},
   "outputs": [],
   "source": [
    "scaler=MinMaxScaler()"
   ]
  },
  {
   "cell_type": "code",
   "execution_count": 34,
   "id": "65bf07b6",
   "metadata": {},
   "outputs": [],
   "source": [
    "x_train=scaler.fit_transform(x_train)"
   ]
  },
  {
   "cell_type": "code",
   "execution_count": 35,
   "id": "b2d8a2ac",
   "metadata": {},
   "outputs": [],
   "source": [
    "x_test=scaler.transform(x_test)"
   ]
  },
  {
   "cell_type": "code",
   "execution_count": 36,
   "id": "7c14c78d",
   "metadata": {},
   "outputs": [],
   "source": [
    "from tensorflow.keras.models import Sequential\n",
    "from tensorflow.keras.layers import Dense"
   ]
  },
  {
   "cell_type": "code",
   "execution_count": 97,
   "id": "77111141",
   "metadata": {},
   "outputs": [],
   "source": [
    "model= Sequential()\n",
    "\n",
    "model.add(Dense(20,activation=\"relu\"))\n",
    "model.add(Dense(20,activation=\"relu\"))\n",
    "model.add(Dense(20,activation=\"relu\"))\n",
    "model.add(Dense(20,activation=\"relu\"))\n",
    "model.add(Dense(20,activation=\"relu\"))\n",
    "model.add(Dense(20,activation=\"relu\"))\n",
    "\n",
    "model.add(Dense(1))\n",
    "\n",
    "model.compile(optimizer=\"adam\",loss=\"mse\")"
   ]
  },
  {
   "cell_type": "code",
   "execution_count": 98,
   "id": "0b025c39",
   "metadata": {},
   "outputs": [
    {
     "name": "stdout",
     "output_type": "stream",
     "text": [
      "Epoch 1/200\n",
      "29/29 [==============================] - 0s 5ms/step - loss: 294128992.0000 - val_loss: 304546208.0000\n",
      "Epoch 2/200\n",
      "29/29 [==============================] - 0s 2ms/step - loss: 294046464.0000 - val_loss: 304349152.0000\n",
      "Epoch 3/200\n",
      "29/29 [==============================] - 0s 2ms/step - loss: 293437600.0000 - val_loss: 302884672.0000\n",
      "Epoch 4/200\n",
      "29/29 [==============================] - 0s 2ms/step - loss: 289403264.0000 - val_loss: 293861312.0000\n",
      "Epoch 5/200\n",
      "29/29 [==============================] - 0s 2ms/step - loss: 268136144.0000 - val_loss: 251324032.0000\n",
      "Epoch 6/200\n",
      "29/29 [==============================] - 0s 2ms/step - loss: 195053520.0000 - val_loss: 141934144.0000\n",
      "Epoch 7/200\n",
      "29/29 [==============================] - 0s 2ms/step - loss: 109549432.0000 - val_loss: 102124504.0000\n",
      "Epoch 8/200\n",
      "29/29 [==============================] - 0s 2ms/step - loss: 96298424.0000 - val_loss: 94691160.0000\n",
      "Epoch 9/200\n",
      "29/29 [==============================] - 0s 2ms/step - loss: 90241240.0000 - val_loss: 87952008.0000\n",
      "Epoch 10/200\n",
      "29/29 [==============================] - 0s 2ms/step - loss: 83632064.0000 - val_loss: 81614752.0000\n",
      "Epoch 11/200\n",
      "29/29 [==============================] - 0s 2ms/step - loss: 77501920.0000 - val_loss: 75228856.0000\n",
      "Epoch 12/200\n",
      "29/29 [==============================] - 0s 2ms/step - loss: 71426792.0000 - val_loss: 68842360.0000\n",
      "Epoch 13/200\n",
      "29/29 [==============================] - 0s 2ms/step - loss: 65238256.0000 - val_loss: 62432100.0000\n",
      "Epoch 14/200\n",
      "29/29 [==============================] - 0s 2ms/step - loss: 59001664.0000 - val_loss: 56359528.0000\n",
      "Epoch 15/200\n",
      "29/29 [==============================] - 0s 2ms/step - loss: 53218240.0000 - val_loss: 50529600.0000\n",
      "Epoch 16/200\n",
      "29/29 [==============================] - 0s 2ms/step - loss: 47970924.0000 - val_loss: 45800448.0000\n",
      "Epoch 17/200\n",
      "29/29 [==============================] - 0s 2ms/step - loss: 43716380.0000 - val_loss: 41817024.0000\n",
      "Epoch 18/200\n",
      "29/29 [==============================] - 0s 2ms/step - loss: 40578692.0000 - val_loss: 39070276.0000\n",
      "Epoch 19/200\n",
      "29/29 [==============================] - 0s 2ms/step - loss: 38693872.0000 - val_loss: 37281420.0000\n",
      "Epoch 20/200\n",
      "29/29 [==============================] - 0s 2ms/step - loss: 37027324.0000 - val_loss: 36037428.0000\n",
      "Epoch 21/200\n",
      "29/29 [==============================] - 0s 2ms/step - loss: 36061560.0000 - val_loss: 35421088.0000\n",
      "Epoch 22/200\n",
      "29/29 [==============================] - 0s 2ms/step - loss: 35620936.0000 - val_loss: 34955368.0000\n",
      "Epoch 23/200\n",
      "29/29 [==============================] - 0s 2ms/step - loss: 35304584.0000 - val_loss: 34414996.0000\n",
      "Epoch 24/200\n",
      "29/29 [==============================] - 0s 2ms/step - loss: 34785800.0000 - val_loss: 34157696.0000\n",
      "Epoch 25/200\n",
      "29/29 [==============================] - 0s 2ms/step - loss: 34825972.0000 - val_loss: 33916660.0000\n",
      "Epoch 26/200\n",
      "29/29 [==============================] - 0s 2ms/step - loss: 34383812.0000 - val_loss: 33619972.0000\n",
      "Epoch 27/200\n",
      "29/29 [==============================] - 0s 2ms/step - loss: 34309936.0000 - val_loss: 33378064.0000\n",
      "Epoch 28/200\n",
      "29/29 [==============================] - 0s 2ms/step - loss: 34090852.0000 - val_loss: 33274742.0000\n",
      "Epoch 29/200\n",
      "29/29 [==============================] - 0s 2ms/step - loss: 34024328.0000 - val_loss: 33023024.0000\n",
      "Epoch 30/200\n",
      "29/29 [==============================] - 0s 2ms/step - loss: 33993668.0000 - val_loss: 33124126.0000\n",
      "Epoch 31/200\n",
      "29/29 [==============================] - 0s 2ms/step - loss: 33838024.0000 - val_loss: 32705476.0000\n",
      "Epoch 32/200\n",
      "29/29 [==============================] - 0s 3ms/step - loss: 33585444.0000 - val_loss: 32542772.0000\n",
      "Epoch 33/200\n",
      "29/29 [==============================] - 0s 2ms/step - loss: 33420840.0000 - val_loss: 32426732.0000\n",
      "Epoch 34/200\n",
      "29/29 [==============================] - 0s 2ms/step - loss: 33351778.0000 - val_loss: 32310578.0000\n",
      "Epoch 35/200\n",
      "29/29 [==============================] - 0s 2ms/step - loss: 33216782.0000 - val_loss: 32177824.0000\n",
      "Epoch 36/200\n",
      "29/29 [==============================] - 0s 2ms/step - loss: 33194958.0000 - val_loss: 32138450.0000\n",
      "Epoch 37/200\n",
      "29/29 [==============================] - 0s 2ms/step - loss: 33146332.0000 - val_loss: 31959172.0000\n",
      "Epoch 38/200\n",
      "29/29 [==============================] - 0s 2ms/step - loss: 33035656.0000 - val_loss: 31966524.0000\n",
      "Epoch 39/200\n",
      "29/29 [==============================] - 0s 2ms/step - loss: 32990468.0000 - val_loss: 32180674.0000\n",
      "Epoch 40/200\n",
      "29/29 [==============================] - 0s 2ms/step - loss: 33149138.0000 - val_loss: 31768860.0000\n",
      "Epoch 41/200\n",
      "29/29 [==============================] - 0s 2ms/step - loss: 32787314.0000 - val_loss: 31574926.0000\n",
      "Epoch 42/200\n",
      "29/29 [==============================] - 0s 2ms/step - loss: 33043874.0000 - val_loss: 31784226.0000\n",
      "Epoch 43/200\n",
      "29/29 [==============================] - 0s 2ms/step - loss: 32702384.0000 - val_loss: 31416744.0000\n",
      "Epoch 44/200\n",
      "29/29 [==============================] - 0s 2ms/step - loss: 32503160.0000 - val_loss: 31344208.0000\n",
      "Epoch 45/200\n",
      "29/29 [==============================] - 0s 2ms/step - loss: 32363738.0000 - val_loss: 31314018.0000\n",
      "Epoch 46/200\n",
      "29/29 [==============================] - 0s 2ms/step - loss: 32382110.0000 - val_loss: 31235388.0000\n",
      "Epoch 47/200\n",
      "29/29 [==============================] - 0s 2ms/step - loss: 32310290.0000 - val_loss: 31305340.0000\n",
      "Epoch 48/200\n",
      "29/29 [==============================] - 0s 2ms/step - loss: 32450880.0000 - val_loss: 31013034.0000\n",
      "Epoch 49/200\n",
      "29/29 [==============================] - 0s 2ms/step - loss: 32183682.0000 - val_loss: 31159864.0000\n",
      "Epoch 50/200\n",
      "29/29 [==============================] - 0s 2ms/step - loss: 32190016.0000 - val_loss: 30946484.0000\n",
      "Epoch 51/200\n",
      "29/29 [==============================] - 0s 2ms/step - loss: 31942060.0000 - val_loss: 30770596.0000\n",
      "Epoch 52/200\n",
      "29/29 [==============================] - 0s 2ms/step - loss: 31957862.0000 - val_loss: 30771422.0000\n",
      "Epoch 53/200\n",
      "29/29 [==============================] - 0s 2ms/step - loss: 31815964.0000 - val_loss: 30853662.0000\n",
      "Epoch 54/200\n",
      "29/29 [==============================] - 0s 2ms/step - loss: 31856246.0000 - val_loss: 30520030.0000\n",
      "Epoch 55/200\n",
      "29/29 [==============================] - 0s 2ms/step - loss: 31740224.0000 - val_loss: 30415848.0000\n",
      "Epoch 56/200\n",
      "29/29 [==============================] - 0s 2ms/step - loss: 31767144.0000 - val_loss: 30704624.0000\n",
      "Epoch 57/200\n",
      "29/29 [==============================] - 0s 2ms/step - loss: 31706958.0000 - val_loss: 30338014.0000\n",
      "Epoch 58/200\n",
      "29/29 [==============================] - 0s 2ms/step - loss: 31460792.0000 - val_loss: 30158758.0000\n",
      "Epoch 59/200\n",
      "29/29 [==============================] - 0s 2ms/step - loss: 31446348.0000 - val_loss: 30675252.0000\n",
      "Epoch 60/200\n",
      "29/29 [==============================] - 0s 2ms/step - loss: 31438848.0000 - val_loss: 30058924.0000\n",
      "Epoch 61/200\n",
      "29/29 [==============================] - 0s 2ms/step - loss: 31242688.0000 - val_loss: 29891298.0000\n",
      "Epoch 62/200\n",
      "29/29 [==============================] - 0s 2ms/step - loss: 31291510.0000 - val_loss: 29985560.0000\n",
      "Epoch 63/200\n",
      "29/29 [==============================] - 0s 2ms/step - loss: 31120758.0000 - val_loss: 29712040.0000\n",
      "Epoch 64/200\n",
      "29/29 [==============================] - 0s 2ms/step - loss: 30891744.0000 - val_loss: 29664470.0000\n",
      "Epoch 65/200\n",
      "29/29 [==============================] - 0s 2ms/step - loss: 30840814.0000 - val_loss: 29793998.0000\n",
      "Epoch 66/200\n",
      "29/29 [==============================] - 0s 2ms/step - loss: 30856266.0000 - val_loss: 29481976.0000\n",
      "Epoch 67/200\n",
      "29/29 [==============================] - 0s 2ms/step - loss: 30686814.0000 - val_loss: 29279486.0000\n",
      "Epoch 68/200\n",
      "29/29 [==============================] - 0s 2ms/step - loss: 30761496.0000 - val_loss: 29164240.0000\n",
      "Epoch 69/200\n",
      "29/29 [==============================] - 0s 2ms/step - loss: 30425910.0000 - val_loss: 29191180.0000\n",
      "Epoch 70/200\n",
      "29/29 [==============================] - 0s 2ms/step - loss: 30323612.0000 - val_loss: 29043378.0000\n",
      "Epoch 71/200\n",
      "29/29 [==============================] - 0s 2ms/step - loss: 30467880.0000 - val_loss: 28885718.0000\n",
      "Epoch 72/200\n",
      "29/29 [==============================] - 0s 2ms/step - loss: 30152290.0000 - val_loss: 28736708.0000\n",
      "Epoch 73/200\n",
      "29/29 [==============================] - 0s 2ms/step - loss: 30294224.0000 - val_loss: 28984982.0000\n",
      "Epoch 74/200\n",
      "29/29 [==============================] - 0s 2ms/step - loss: 30246954.0000 - val_loss: 28532296.0000\n",
      "Epoch 75/200\n",
      "29/29 [==============================] - 0s 2ms/step - loss: 30224202.0000 - val_loss: 28475616.0000\n",
      "Epoch 76/200\n",
      "29/29 [==============================] - 0s 2ms/step - loss: 29889252.0000 - val_loss: 28338434.0000\n",
      "Epoch 77/200\n",
      "29/29 [==============================] - 0s 2ms/step - loss: 29731784.0000 - val_loss: 28246976.0000\n",
      "Epoch 78/200\n",
      "29/29 [==============================] - 0s 2ms/step - loss: 29523276.0000 - val_loss: 28119464.0000\n",
      "Epoch 79/200\n",
      "29/29 [==============================] - 0s 2ms/step - loss: 29537218.0000 - val_loss: 28021678.0000\n",
      "Epoch 80/200\n",
      "29/29 [==============================] - 0s 2ms/step - loss: 29478092.0000 - val_loss: 27916752.0000\n",
      "Epoch 81/200\n",
      "29/29 [==============================] - 0s 2ms/step - loss: 29210446.0000 - val_loss: 28081622.0000\n",
      "Epoch 82/200\n",
      "29/29 [==============================] - 0s 2ms/step - loss: 29292986.0000 - val_loss: 27695222.0000\n",
      "Epoch 83/200\n",
      "29/29 [==============================] - 0s 2ms/step - loss: 29051200.0000 - val_loss: 28000720.0000\n",
      "Epoch 84/200\n",
      "29/29 [==============================] - 0s 2ms/step - loss: 28947862.0000 - val_loss: 27438698.0000\n",
      "Epoch 85/200\n",
      "29/29 [==============================] - 0s 2ms/step - loss: 29136734.0000 - val_loss: 27507594.0000\n",
      "Epoch 86/200\n",
      "29/29 [==============================] - 0s 2ms/step - loss: 28518630.0000 - val_loss: 27647608.0000\n",
      "Epoch 87/200\n",
      "29/29 [==============================] - 0s 2ms/step - loss: 28763168.0000 - val_loss: 27073952.0000\n",
      "Epoch 88/200\n",
      "29/29 [==============================] - 0s 2ms/step - loss: 28407958.0000 - val_loss: 27143184.0000\n",
      "Epoch 89/200\n",
      "29/29 [==============================] - 0s 2ms/step - loss: 28411774.0000 - val_loss: 26863096.0000\n",
      "Epoch 90/200\n",
      "29/29 [==============================] - 0s 2ms/step - loss: 28210032.0000 - val_loss: 26674838.0000\n",
      "Epoch 91/200\n",
      "29/29 [==============================] - 0s 2ms/step - loss: 28262764.0000 - val_loss: 26555750.0000\n",
      "Epoch 92/200\n",
      "29/29 [==============================] - 0s 2ms/step - loss: 28222026.0000 - val_loss: 26591402.0000\n",
      "Epoch 93/200\n",
      "29/29 [==============================] - 0s 2ms/step - loss: 27892490.0000 - val_loss: 26340908.0000\n",
      "Epoch 94/200\n",
      "29/29 [==============================] - 0s 2ms/step - loss: 27810592.0000 - val_loss: 26160732.0000\n",
      "Epoch 95/200\n",
      "29/29 [==============================] - 0s 2ms/step - loss: 27607080.0000 - val_loss: 26098496.0000\n",
      "Epoch 96/200\n",
      "29/29 [==============================] - 0s 2ms/step - loss: 27539772.0000 - val_loss: 26587880.0000\n",
      "Epoch 97/200\n",
      "29/29 [==============================] - 0s 2ms/step - loss: 27468902.0000 - val_loss: 25860004.0000\n",
      "Epoch 98/200\n",
      "29/29 [==============================] - 0s 2ms/step - loss: 27298380.0000 - val_loss: 25663990.0000\n",
      "Epoch 99/200\n",
      "29/29 [==============================] - 0s 2ms/step - loss: 27116602.0000 - val_loss: 26375282.0000\n",
      "Epoch 100/200\n",
      "29/29 [==============================] - 0s 2ms/step - loss: 27321212.0000 - val_loss: 25913434.0000\n",
      "Epoch 101/200\n",
      "29/29 [==============================] - 0s 2ms/step - loss: 27037842.0000 - val_loss: 25643930.0000\n",
      "Epoch 102/200\n",
      "29/29 [==============================] - 0s 2ms/step - loss: 26703478.0000 - val_loss: 25090030.0000\n",
      "Epoch 103/200\n",
      "29/29 [==============================] - 0s 2ms/step - loss: 26604990.0000 - val_loss: 25164214.0000\n",
      "Epoch 104/200\n",
      "29/29 [==============================] - 0s 2ms/step - loss: 26583822.0000 - val_loss: 25267444.0000\n",
      "Epoch 105/200\n",
      "29/29 [==============================] - 0s 2ms/step - loss: 26377804.0000 - val_loss: 25491366.0000\n",
      "Epoch 106/200\n",
      "29/29 [==============================] - 0s 2ms/step - loss: 26494032.0000 - val_loss: 24803730.0000\n",
      "Epoch 107/200\n",
      "29/29 [==============================] - 0s 3ms/step - loss: 26007184.0000 - val_loss: 24451734.0000\n",
      "Epoch 108/200\n",
      "29/29 [==============================] - 0s 2ms/step - loss: 25912126.0000 - val_loss: 24734474.0000\n",
      "Epoch 109/200\n",
      "29/29 [==============================] - 0s 2ms/step - loss: 25863964.0000 - val_loss: 24211844.0000\n",
      "Epoch 110/200\n",
      "29/29 [==============================] - 0s 2ms/step - loss: 25600456.0000 - val_loss: 24533016.0000\n",
      "Epoch 111/200\n",
      "29/29 [==============================] - 0s 2ms/step - loss: 25491342.0000 - val_loss: 24151312.0000\n",
      "Epoch 112/200\n",
      "29/29 [==============================] - 0s 2ms/step - loss: 25969648.0000 - val_loss: 24094866.0000\n",
      "Epoch 113/200\n",
      "29/29 [==============================] - 0s 2ms/step - loss: 25324302.0000 - val_loss: 23920008.0000\n",
      "Epoch 114/200\n",
      "29/29 [==============================] - 0s 2ms/step - loss: 25132324.0000 - val_loss: 23625878.0000\n",
      "Epoch 115/200\n",
      "29/29 [==============================] - 0s 2ms/step - loss: 25150806.0000 - val_loss: 23597714.0000\n",
      "Epoch 116/200\n",
      "29/29 [==============================] - 0s 2ms/step - loss: 24901722.0000 - val_loss: 23624882.0000\n",
      "Epoch 117/200\n",
      "29/29 [==============================] - 0s 2ms/step - loss: 24775700.0000 - val_loss: 23432814.0000\n",
      "Epoch 118/200\n",
      "29/29 [==============================] - 0s 2ms/step - loss: 24526444.0000 - val_loss: 23355362.0000\n",
      "Epoch 119/200\n",
      "29/29 [==============================] - 0s 2ms/step - loss: 24436090.0000 - val_loss: 23170362.0000\n",
      "Epoch 120/200\n",
      "29/29 [==============================] - 0s 2ms/step - loss: 24326588.0000 - val_loss: 23093686.0000\n",
      "Epoch 121/200\n",
      "29/29 [==============================] - 0s 2ms/step - loss: 24240564.0000 - val_loss: 23077544.0000\n",
      "Epoch 122/200\n",
      "29/29 [==============================] - 0s 2ms/step - loss: 24146790.0000 - val_loss: 22888038.0000\n",
      "Epoch 123/200\n",
      "29/29 [==============================] - 0s 2ms/step - loss: 23984568.0000 - val_loss: 22785610.0000\n",
      "Epoch 124/200\n",
      "29/29 [==============================] - 0s 2ms/step - loss: 23939834.0000 - val_loss: 22829280.0000\n",
      "Epoch 125/200\n",
      "29/29 [==============================] - 0s 2ms/step - loss: 23655968.0000 - val_loss: 22658154.0000\n",
      "Epoch 126/200\n",
      "29/29 [==============================] - 0s 2ms/step - loss: 23630120.0000 - val_loss: 22659668.0000\n",
      "Epoch 127/200\n",
      "29/29 [==============================] - 0s 2ms/step - loss: 23497450.0000 - val_loss: 22719334.0000\n",
      "Epoch 128/200\n",
      "29/29 [==============================] - 0s 2ms/step - loss: 23419116.0000 - val_loss: 22573318.0000\n",
      "Epoch 129/200\n",
      "29/29 [==============================] - 0s 2ms/step - loss: 23461552.0000 - val_loss: 22343528.0000\n",
      "Epoch 130/200\n",
      "29/29 [==============================] - 0s 3ms/step - loss: 23344290.0000 - val_loss: 22254576.0000\n",
      "Epoch 131/200\n",
      "29/29 [==============================] - 0s 2ms/step - loss: 23243956.0000 - val_loss: 22452450.0000\n",
      "Epoch 132/200\n",
      "29/29 [==============================] - 0s 2ms/step - loss: 23242030.0000 - val_loss: 22536728.0000\n",
      "Epoch 133/200\n",
      "29/29 [==============================] - 0s 2ms/step - loss: 23059760.0000 - val_loss: 22038566.0000\n",
      "Epoch 134/200\n",
      "29/29 [==============================] - 0s 2ms/step - loss: 22898180.0000 - val_loss: 22061910.0000\n",
      "Epoch 135/200\n",
      "29/29 [==============================] - 0s 2ms/step - loss: 22865054.0000 - val_loss: 22271190.0000\n",
      "Epoch 136/200\n",
      "29/29 [==============================] - 0s 2ms/step - loss: 22832084.0000 - val_loss: 22096018.0000\n",
      "Epoch 137/200\n",
      "29/29 [==============================] - 0s 2ms/step - loss: 22790506.0000 - val_loss: 22119062.0000\n",
      "Epoch 138/200\n",
      "29/29 [==============================] - 0s 2ms/step - loss: 22621260.0000 - val_loss: 21761714.0000\n",
      "Epoch 139/200\n",
      "29/29 [==============================] - 0s 2ms/step - loss: 22641408.0000 - val_loss: 21908220.0000\n",
      "Epoch 140/200\n",
      "29/29 [==============================] - 0s 2ms/step - loss: 22510068.0000 - val_loss: 21910742.0000\n",
      "Epoch 141/200\n",
      "29/29 [==============================] - 0s 2ms/step - loss: 22481094.0000 - val_loss: 21956938.0000\n",
      "Epoch 142/200\n",
      "29/29 [==============================] - 0s 2ms/step - loss: 22459868.0000 - val_loss: 21911220.0000\n",
      "Epoch 143/200\n",
      "29/29 [==============================] - 0s 2ms/step - loss: 22410140.0000 - val_loss: 21697964.0000\n",
      "Epoch 144/200\n",
      "29/29 [==============================] - 0s 2ms/step - loss: 22407504.0000 - val_loss: 21554528.0000\n",
      "Epoch 145/200\n",
      "29/29 [==============================] - 0s 2ms/step - loss: 22306902.0000 - val_loss: 22026620.0000\n",
      "Epoch 146/200\n",
      "29/29 [==============================] - 0s 2ms/step - loss: 22325750.0000 - val_loss: 21555612.0000\n",
      "Epoch 147/200\n",
      "29/29 [==============================] - 0s 2ms/step - loss: 22270958.0000 - val_loss: 22545244.0000\n",
      "Epoch 148/200\n",
      "29/29 [==============================] - 0s 2ms/step - loss: 22154870.0000 - val_loss: 21482790.0000\n",
      "Epoch 149/200\n",
      "29/29 [==============================] - 0s 2ms/step - loss: 22333600.0000 - val_loss: 21443684.0000\n",
      "Epoch 150/200\n",
      "29/29 [==============================] - 0s 2ms/step - loss: 22422030.0000 - val_loss: 21399748.0000\n",
      "Epoch 151/200\n",
      "29/29 [==============================] - 0s 2ms/step - loss: 22111996.0000 - val_loss: 21624230.0000\n",
      "Epoch 152/200\n",
      "29/29 [==============================] - 0s 2ms/step - loss: 22061790.0000 - val_loss: 21382772.0000\n",
      "Epoch 153/200\n",
      "29/29 [==============================] - 0s 2ms/step - loss: 22092114.0000 - val_loss: 21521224.0000\n",
      "Epoch 154/200\n",
      "29/29 [==============================] - 0s 2ms/step - loss: 22020434.0000 - val_loss: 21280854.0000\n",
      "Epoch 155/200\n",
      "29/29 [==============================] - 0s 2ms/step - loss: 22129142.0000 - val_loss: 21552278.0000\n",
      "Epoch 156/200\n",
      "29/29 [==============================] - 0s 2ms/step - loss: 21966314.0000 - val_loss: 22029338.0000\n",
      "Epoch 157/200\n",
      "29/29 [==============================] - 0s 2ms/step - loss: 22036918.0000 - val_loss: 21403444.0000\n",
      "Epoch 158/200\n",
      "29/29 [==============================] - 0s 2ms/step - loss: 21848548.0000 - val_loss: 21175796.0000\n",
      "Epoch 159/200\n",
      "29/29 [==============================] - 0s 2ms/step - loss: 21958602.0000 - val_loss: 21390440.0000\n",
      "Epoch 160/200\n",
      "29/29 [==============================] - 0s 2ms/step - loss: 21948792.0000 - val_loss: 21323626.0000\n",
      "Epoch 161/200\n",
      "29/29 [==============================] - 0s 2ms/step - loss: 21845894.0000 - val_loss: 21186334.0000\n",
      "Epoch 162/200\n",
      "29/29 [==============================] - 0s 2ms/step - loss: 22185660.0000 - val_loss: 21150762.0000\n",
      "Epoch 163/200\n",
      "29/29 [==============================] - 0s 2ms/step - loss: 21862744.0000 - val_loss: 21259584.0000\n",
      "Epoch 164/200\n",
      "29/29 [==============================] - 0s 2ms/step - loss: 21953302.0000 - val_loss: 21096954.0000\n",
      "Epoch 165/200\n",
      "29/29 [==============================] - 0s 2ms/step - loss: 21818780.0000 - val_loss: 21132908.0000\n",
      "Epoch 166/200\n",
      "29/29 [==============================] - 0s 2ms/step - loss: 21791848.0000 - val_loss: 21133584.0000\n",
      "Epoch 167/200\n",
      "29/29 [==============================] - 0s 2ms/step - loss: 21786154.0000 - val_loss: 21477442.0000\n",
      "Epoch 168/200\n",
      "29/29 [==============================] - 0s 2ms/step - loss: 21805048.0000 - val_loss: 21443792.0000\n",
      "Epoch 169/200\n",
      "29/29 [==============================] - 0s 2ms/step - loss: 21752632.0000 - val_loss: 21760836.0000\n",
      "Epoch 170/200\n",
      "29/29 [==============================] - 0s 2ms/step - loss: 21784624.0000 - val_loss: 20988688.0000\n",
      "Epoch 171/200\n",
      "29/29 [==============================] - 0s 2ms/step - loss: 21806876.0000 - val_loss: 20969192.0000\n",
      "Epoch 172/200\n",
      "29/29 [==============================] - 0s 2ms/step - loss: 21809044.0000 - val_loss: 20964550.0000\n",
      "Epoch 173/200\n",
      "29/29 [==============================] - 0s 2ms/step - loss: 21692326.0000 - val_loss: 22178024.0000\n",
      "Epoch 174/200\n",
      "29/29 [==============================] - 0s 2ms/step - loss: 21715760.0000 - val_loss: 21176326.0000\n",
      "Epoch 175/200\n",
      "29/29 [==============================] - 0s 2ms/step - loss: 21585104.0000 - val_loss: 20881102.0000\n",
      "Epoch 176/200\n",
      "29/29 [==============================] - 0s 2ms/step - loss: 21601862.0000 - val_loss: 21453978.0000\n",
      "Epoch 177/200\n",
      "29/29 [==============================] - 0s 2ms/step - loss: 21822748.0000 - val_loss: 21440098.0000\n",
      "Epoch 178/200\n",
      "29/29 [==============================] - 0s 2ms/step - loss: 21608518.0000 - val_loss: 21187100.0000\n",
      "Epoch 179/200\n",
      "29/29 [==============================] - 0s 2ms/step - loss: 21549344.0000 - val_loss: 20899300.0000\n",
      "Epoch 180/200\n",
      "29/29 [==============================] - 0s 2ms/step - loss: 21752766.0000 - val_loss: 21033466.0000\n",
      "Epoch 181/200\n",
      "29/29 [==============================] - 0s 2ms/step - loss: 21552298.0000 - val_loss: 20836282.0000\n",
      "Epoch 182/200\n",
      "29/29 [==============================] - 0s 2ms/step - loss: 21611764.0000 - val_loss: 21027310.0000\n",
      "Epoch 183/200\n",
      "29/29 [==============================] - 0s 2ms/step - loss: 21526984.0000 - val_loss: 20873758.0000\n",
      "Epoch 184/200\n",
      "29/29 [==============================] - 0s 2ms/step - loss: 21588582.0000 - val_loss: 20821594.0000\n",
      "Epoch 185/200\n",
      "29/29 [==============================] - 0s 2ms/step - loss: 21586412.0000 - val_loss: 20768862.0000\n",
      "Epoch 186/200\n",
      "29/29 [==============================] - 0s 2ms/step - loss: 21598168.0000 - val_loss: 21020962.0000\n",
      "Epoch 187/200\n",
      "29/29 [==============================] - 0s 2ms/step - loss: 21481960.0000 - val_loss: 21160530.0000\n",
      "Epoch 188/200\n",
      "29/29 [==============================] - 0s 2ms/step - loss: 21526406.0000 - val_loss: 21613460.0000\n",
      "Epoch 189/200\n",
      "29/29 [==============================] - 0s 2ms/step - loss: 21702474.0000 - val_loss: 21007654.0000\n",
      "Epoch 190/200\n",
      "29/29 [==============================] - 0s 2ms/step - loss: 21523874.0000 - val_loss: 20801924.0000\n",
      "Epoch 191/200\n",
      "29/29 [==============================] - 0s 2ms/step - loss: 21521172.0000 - val_loss: 21328582.0000\n",
      "Epoch 192/200\n",
      "29/29 [==============================] - 0s 2ms/step - loss: 21456866.0000 - val_loss: 20749542.0000\n",
      "Epoch 193/200\n",
      "29/29 [==============================] - 0s 2ms/step - loss: 21615502.0000 - val_loss: 20980772.0000\n",
      "Epoch 194/200\n",
      "29/29 [==============================] - 0s 2ms/step - loss: 21482004.0000 - val_loss: 20770798.0000\n",
      "Epoch 195/200\n",
      "29/29 [==============================] - 0s 2ms/step - loss: 21385694.0000 - val_loss: 20696426.0000\n",
      "Epoch 196/200\n",
      "29/29 [==============================] - 0s 2ms/step - loss: 21362354.0000 - val_loss: 21863810.0000\n",
      "Epoch 197/200\n",
      "29/29 [==============================] - 0s 2ms/step - loss: 21436228.0000 - val_loss: 20892298.0000\n",
      "Epoch 198/200\n",
      "29/29 [==============================] - 0s 2ms/step - loss: 21421150.0000 - val_loss: 20637420.0000\n",
      "Epoch 199/200\n",
      "29/29 [==============================] - 0s 2ms/step - loss: 21479978.0000 - val_loss: 20735078.0000\n",
      "Epoch 200/200\n",
      "29/29 [==============================] - 0s 2ms/step - loss: 21515574.0000 - val_loss: 20971862.0000\n"
     ]
    },
    {
     "data": {
      "text/plain": [
       "<keras.callbacks.History at 0x1fdaa949b20>"
      ]
     },
     "execution_count": 98,
     "metadata": {},
     "output_type": "execute_result"
    }
   ],
   "source": [
    "model.fit( x=x_train, y=y_train, validation_data=(x_test,y_test), epochs=200)"
   ]
  },
  {
   "cell_type": "code",
   "execution_count": 99,
   "id": "86f7b7ac",
   "metadata": {},
   "outputs": [
    {
     "data": {
      "text/plain": [
       "<AxesSubplot:>"
      ]
     },
     "execution_count": 99,
     "metadata": {},
     "output_type": "execute_result"
    },
    {
     "data": {
      "image/png": "[encoded data removed]",
      "text/plain": [
       "<Figure size 432x288 with 1 Axes>"
      ]
     },
     "metadata": {
      "needs_background": "light"
     },
     "output_type": "display_data"
    }
   ],
   "source": [
    "kayipVeri=pd.DataFrame(model.history.history)\n",
    "kayipVeri.plot()"
   ]
  },
  {
   "cell_type": "code",
   "execution_count": 100,
   "id": "4b6b9f2f",
   "metadata": {},
   "outputs": [],
   "source": [
    "from sklearn.metrics import mean_absolute_error, mean_squared_error"
   ]
  },
  {
   "cell_type": "code",
   "execution_count": 101,
   "id": "ec6e15cc",
   "metadata": {},
   "outputs": [
    {
     "name": "stdout",
     "output_type": "stream",
     "text": [
      "13/13 [==============================] - 0s 1ms/step\n"
     ]
    }
   ],
   "source": [
    "tahminler=model.predict(x_test)"
   ]
  },
  {
   "cell_type": "code",
   "execution_count": 102,
   "id": "ab26397e",
   "metadata": {},
   "outputs": [
    {
     "data": {
      "text/plain": [
       "2823.2069373296167"
      ]
     },
     "execution_count": 102,
     "metadata": {},
     "output_type": "execute_result"
    }
   ],
   "source": [
    "mean_absolute_error(y_test,tahminler)"
   ]
  },
  {
   "cell_type": "code",
   "execution_count": 103,
   "id": "1f1e3f94",
   "metadata": {},
   "outputs": [
    {
     "data": {
      "text/plain": [
       "20971863.6314286"
      ]
     },
     "execution_count": 103,
     "metadata": {},
     "output_type": "execute_result"
    }
   ],
   "source": [
    "mean_squared_error(y_test,tahminler)"
   ]
  },
  {
   "cell_type": "code",
   "execution_count": 104,
   "id": "667428b7",
   "metadata": {},
   "outputs": [
    {
     "data": {
      "text/html": [
       "<div>\n",
       "<style scoped>\n",
       "    .dataframe tbody tr th:only-of-type {\n",
       "        vertical-align: middle;\n",
       "    }\n",
       "\n",
       "    .dataframe tbody tr th {\n",
       "        vertical-align: top;\n",
       "    }\n",
       "\n",
       "    .dataframe thead th {\n",
       "        text-align: right;\n",
       "    }\n",
       "</style>\n",
       "<table border=\"1\" class=\"dataframe\">\n",
       "  <thead>\n",
       "    <tr style=\"text-align: right;\">\n",
       "      <th></th>\n",
       "      <th>age</th>\n",
       "      <th>sex</th>\n",
       "      <th>bmi</th>\n",
       "      <th>children</th>\n",
       "      <th>smoker</th>\n",
       "      <th>region</th>\n",
       "      <th>charges</th>\n",
       "    </tr>\n",
       "  </thead>\n",
       "  <tbody>\n",
       "    <tr>\n",
       "      <th>count</th>\n",
       "      <td>1325.000000</td>\n",
       "      <td>1325.000000</td>\n",
       "      <td>1325.000000</td>\n",
       "      <td>1325.000000</td>\n",
       "      <td>1325.000000</td>\n",
       "      <td>1325.000000</td>\n",
       "      <td>1325.000000</td>\n",
       "    </tr>\n",
       "    <tr>\n",
       "      <th>mean</th>\n",
       "      <td>39.101132</td>\n",
       "      <td>0.495849</td>\n",
       "      <td>30.592932</td>\n",
       "      <td>1.098868</td>\n",
       "      <td>0.196981</td>\n",
       "      <td>-0.024151</td>\n",
       "      <td>12874.220267</td>\n",
       "    </tr>\n",
       "    <tr>\n",
       "      <th>std</th>\n",
       "      <td>14.026476</td>\n",
       "      <td>0.500172</td>\n",
       "      <td>6.071812</td>\n",
       "      <td>1.207369</td>\n",
       "      <td>0.397868</td>\n",
       "      <td>1.568965</td>\n",
       "      <td>11472.954102</td>\n",
       "    </tr>\n",
       "    <tr>\n",
       "      <th>min</th>\n",
       "      <td>18.000000</td>\n",
       "      <td>0.000000</td>\n",
       "      <td>15.960000</td>\n",
       "      <td>0.000000</td>\n",
       "      <td>0.000000</td>\n",
       "      <td>-2.000000</td>\n",
       "      <td>1121.873900</td>\n",
       "    </tr>\n",
       "    <tr>\n",
       "      <th>25%</th>\n",
       "      <td>26.000000</td>\n",
       "      <td>0.000000</td>\n",
       "      <td>26.220000</td>\n",
       "      <td>0.000000</td>\n",
       "      <td>0.000000</td>\n",
       "      <td>-1.000000</td>\n",
       "      <td>4718.203550</td>\n",
       "    </tr>\n",
       "    <tr>\n",
       "      <th>50%</th>\n",
       "      <td>39.000000</td>\n",
       "      <td>0.000000</td>\n",
       "      <td>30.300000</td>\n",
       "      <td>1.000000</td>\n",
       "      <td>0.000000</td>\n",
       "      <td>-1.000000</td>\n",
       "      <td>9283.562000</td>\n",
       "    </tr>\n",
       "    <tr>\n",
       "      <th>75%</th>\n",
       "      <td>51.000000</td>\n",
       "      <td>1.000000</td>\n",
       "      <td>34.485000</td>\n",
       "      <td>2.000000</td>\n",
       "      <td>0.000000</td>\n",
       "      <td>1.000000</td>\n",
       "      <td>16085.127500</td>\n",
       "    </tr>\n",
       "    <tr>\n",
       "      <th>max</th>\n",
       "      <td>64.000000</td>\n",
       "      <td>1.000000</td>\n",
       "      <td>53.130000</td>\n",
       "      <td>5.000000</td>\n",
       "      <td>1.000000</td>\n",
       "      <td>2.000000</td>\n",
       "      <td>48549.178350</td>\n",
       "    </tr>\n",
       "  </tbody>\n",
       "</table>\n",
       "</div>"
      ],
      "text/plain": [
       "               age          sex          bmi     children       smoker  \\\n",
       "count  1325.000000  1325.000000  1325.000000  1325.000000  1325.000000   \n",
       "mean     39.101132     0.495849    30.592932     1.098868     0.196981   \n",
       "std      14.026476     0.500172     6.071812     1.207369     0.397868   \n",
       "min      18.000000     0.000000    15.960000     0.000000     0.000000   \n",
       "25%      26.000000     0.000000    26.220000     0.000000     0.000000   \n",
       "50%      39.000000     0.000000    30.300000     1.000000     0.000000   \n",
       "75%      51.000000     1.000000    34.485000     2.000000     0.000000   \n",
       "max      64.000000     1.000000    53.130000     5.000000     1.000000   \n",
       "\n",
       "            region       charges  \n",
       "count  1325.000000   1325.000000  \n",
       "mean     -0.024151  12874.220267  \n",
       "std       1.568965  11472.954102  \n",
       "min      -2.000000   1121.873900  \n",
       "25%      -1.000000   4718.203550  \n",
       "50%      -1.000000   9283.562000  \n",
       "75%       1.000000  16085.127500  \n",
       "max       2.000000  48549.178350  "
      ]
     },
     "execution_count": 104,
     "metadata": {},
     "output_type": "execute_result"
    }
   ],
   "source": [
    "yeniData.describe()"
   ]
  },
  {
   "cell_type": "code",
   "execution_count": 105,
   "id": "dc8c53f1",
   "metadata": {},
   "outputs": [
    {
     "data": {
      "text/plain": [
       "[<matplotlib.lines.Line2D at 0x1fdabaf8e50>]"
      ]
     },
     "execution_count": 105,
     "metadata": {},
     "output_type": "execute_result"
    },
    {
     "data": {
      "image/png": "[encoded data removed]",
      "text/plain": [
       "<Figure size 432x288 with 1 Axes>"
      ]
     },
     "metadata": {
      "needs_background": "light"
     },
     "output_type": "display_data"
    }
   ],
   "source": [
    "plt.scatter(y_test,tahminler)\n",
    "plt.plot(y_test,y_test,\"g-*\")"
   ]
  },
  {
   "cell_type": "code",
   "execution_count": 106,
   "id": "db6c3ea2",
   "metadata": {},
   "outputs": [
    {
     "data": {
      "text/plain": [
       "age            58.00000\n",
       "sex             0.00000\n",
       "bmi            36.95500\n",
       "children        2.00000\n",
       "smoker          1.00000\n",
       "region          2.00000\n",
       "charges     47496.49445\n",
       "Name: 55, dtype: float64"
      ]
     },
     "execution_count": 106,
     "metadata": {},
     "output_type": "execute_result"
    }
   ],
   "source": [
    "yeniData.iloc[5]"
   ]
  },
  {
   "cell_type": "code",
   "execution_count": 107,
   "id": "4b217520",
   "metadata": {},
   "outputs": [],
   "source": [
    "yeniKisi=yeniData.drop(\"charges\",axis=1).iloc[5]"
   ]
  },
  {
   "cell_type": "code",
   "execution_count": 108,
   "id": "8626cf27",
   "metadata": {},
   "outputs": [],
   "source": [
    "yeniKisi=scaler.transform(yeniKisi.values.reshape(-1,6))"
   ]
  },
  {
   "cell_type": "code",
   "execution_count": 109,
   "id": "3c582515",
   "metadata": {},
   "outputs": [
    {
     "name": "stdout",
     "output_type": "stream",
     "text": [
      "1/1 [==============================] - 0s 14ms/step\n"
     ]
    },
    {
     "data": {
      "text/plain": [
       "array([[46984.273]], dtype=float32)"
      ]
     },
     "execution_count": 109,
     "metadata": {},
     "output_type": "execute_result"
    }
   ],
   "source": [
    "model.predict(yeniKisi)"
   ]
  },
  {
   "cell_type": "code",
   "execution_count": null,
   "id": "4d9a1463",
   "metadata": {},
   "outputs": [],
   "source": []
  },
  {
   "cell_type": "code",
   "execution_count": null,
   "id": "4924ab93",
   "metadata": {},
   "outputs": [],
   "source": []
  },
  {
   "cell_type": "code",
   "execution_count": null,
   "id": "303b6d7b",
   "metadata": {},
   "outputs": [],
   "source": []
  }
 ],
 "metadata": {
  "kernelspec": {
   "display_name": "Python 3",
   "language": "python",
   "name": "python3"
  },
  "language_info": {
   "codemirror_mode": {
    "name": "ipython",
    "version": 3
   },
   "file_extension": ".py",
   "mimetype": "text/x-python",
   "name": "python",
   "nbconvert_exporter": "python",
   "pygments_lexer": "ipython3",
   "version": "3.8.8"
  }
 },
 "nbformat": 4,
 "nbformat_minor": 5
}
