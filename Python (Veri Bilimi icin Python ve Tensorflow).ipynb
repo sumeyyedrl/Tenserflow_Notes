{
 "cells": [
  {
   "cell_type": "markdown",
   "id": "c17f9a9b",
   "metadata": {},
   "source": [
    "## type()"
   ]
  },
  {
   "cell_type": "code",
   "execution_count": 5,
   "id": "fac48a16",
   "metadata": {
    "scrolled": true
   },
   "outputs": [
    {
     "data": {
      "text/plain": [
       "int"
      ]
     },
     "execution_count": 5,
     "metadata": {},
     "output_type": "execute_result"
    }
   ],
   "source": [
    "sayi=1\n",
    "type(sayi)"
   ]
  },
  {
   "cell_type": "markdown",
   "id": "c17b7a28",
   "metadata": {},
   "source": [
    "## (**)(Üst Alma)"
   ]
  },
  {
   "cell_type": "code",
   "execution_count": 8,
   "id": "85184df5",
   "metadata": {
    "scrolled": true
   },
   "outputs": [
    {
     "name": "stdout",
     "output_type": "stream",
     "text": [
      "125\n"
     ]
    }
   ],
   "source": [
    "sayi1=5\n",
    "print(sayi1**3)"
   ]
  },
  {
   "cell_type": "markdown",
   "id": "b2704b21",
   "metadata": {},
   "source": [
    "## Input"
   ]
  },
  {
   "cell_type": "markdown",
   "id": "77c62faf",
   "metadata": {},
   "source": [
    "Input string formatında veri alacaktır!!!"
   ]
  },
  {
   "cell_type": "code",
   "execution_count": 11,
   "id": "dd115728",
   "metadata": {},
   "outputs": [
    {
     "name": "stdout",
     "output_type": "stream",
     "text": [
      "Yas gir!5\n",
      "5\n"
     ]
    },
    {
     "data": {
      "text/plain": [
       "str"
      ]
     },
     "execution_count": 11,
     "metadata": {},
     "output_type": "execute_result"
    }
   ],
   "source": [
    "yas = input(\"Yas gir! \");\n",
    "print(yas)\n",
    "type(yas)"
   ]
  },
  {
   "cell_type": "markdown",
   "id": "a1fa2424",
   "metadata": {},
   "source": [
    "Stringi mantıklı ise integera çevirme!!!"
   ]
  },
  {
   "cell_type": "code",
   "execution_count": 14,
   "id": "139ce959",
   "metadata": {},
   "outputs": [
    {
     "name": "stdout",
     "output_type": "stream",
     "text": [
      "5\n"
     ]
    },
    {
     "data": {
      "text/plain": [
       "int"
      ]
     },
     "execution_count": 14,
     "metadata": {},
     "output_type": "execute_result"
    }
   ],
   "source": [
    "yas=int(yas)\n",
    "print(yas)\n",
    "type(yas)"
   ]
  },
  {
   "cell_type": "markdown",
   "id": "fe2c42bf",
   "metadata": {},
   "source": [
    "## Slicing"
   ]
  },
  {
   "cell_type": "code",
   "execution_count": 19,
   "id": "4230d4e0",
   "metadata": {},
   "outputs": [
    {
     "name": "stdout",
     "output_type": "stream",
     "text": [
      "u\n"
     ]
    }
   ],
   "source": [
    "ad=\"sumeyye\"\n",
    "print(ad[1])"
   ]
  },
  {
   "cell_type": "code",
   "execution_count": null,
   "id": "96dae91c",
   "metadata": {},
   "outputs": [],
   "source": [
    "print(ad[-3])"
   ]
  },
  {
   "cell_type": "code",
   "execution_count": 21,
   "id": "3321de44",
   "metadata": {},
   "outputs": [
    {
     "name": "stdout",
     "output_type": "stream",
     "text": [
      "meyye\n"
     ]
    }
   ],
   "source": [
    "print(ad[2:])"
   ]
  },
  {
   "cell_type": "markdown",
   "id": "cd77dc8f",
   "metadata": {},
   "source": [
    "Son indexteki veriyi almayacaktır!!!"
   ]
  },
  {
   "cell_type": "code",
   "execution_count": 22,
   "id": "3243fffc",
   "metadata": {},
   "outputs": [
    {
     "name": "stdout",
     "output_type": "stream",
     "text": [
      "mey\n"
     ]
    }
   ],
   "source": [
    "print(ad[2:5])"
   ]
  },
  {
   "cell_type": "code",
   "execution_count": 23,
   "id": "f6a0c1e3",
   "metadata": {},
   "outputs": [
    {
     "name": "stdout",
     "output_type": "stream",
     "text": [
      "sumey\n"
     ]
    }
   ],
   "source": [
    "print(ad[:5])"
   ]
  },
  {
   "cell_type": "code",
   "execution_count": 24,
   "id": "8a136396",
   "metadata": {},
   "outputs": [
    {
     "name": "stdout",
     "output_type": "stream",
     "text": [
      "my\n"
     ]
    }
   ],
   "source": [
    "print(ad[2:5:2])"
   ]
  },
  {
   "cell_type": "code",
   "execution_count": 26,
   "id": "b002b190",
   "metadata": {},
   "outputs": [
    {
     "name": "stdout",
     "output_type": "stream",
     "text": [
      "eyms\n"
     ]
    }
   ],
   "source": [
    "print(ad[::-2])"
   ]
  },
  {
   "cell_type": "markdown",
   "id": "cef618b4",
   "metadata": {},
   "source": [
    "## Listeler"
   ]
  },
  {
   "cell_type": "markdown",
   "id": "ebf742b9",
   "metadata": {},
   "source": [
    "Immutable=değiştirilemez(string) Mutable=değiştirlebilir(Liste)"
   ]
  },
  {
   "cell_type": "code",
   "execution_count": 27,
   "id": "f4f0827b",
   "metadata": {},
   "outputs": [
    {
     "name": "stdout",
     "output_type": "stream",
     "text": [
      "[4, 1, 2, 3]\n"
     ]
    }
   ],
   "source": [
    "liste1=[0,1,2,3]\n",
    "liste1[0]=4 #mutable\n",
    "print(liste1)"
   ]
  },
  {
   "cell_type": "code",
   "execution_count": 62,
   "id": "0bbc7b9c",
   "metadata": {},
   "outputs": [
    {
     "name": "stdout",
     "output_type": "stream",
     "text": [
      "4\n",
      "10\n"
     ]
    }
   ],
   "source": [
    "print(len(liste1)) #uzunluk\n",
    "print(sum(liste1)) #toplam"
   ]
  },
  {
   "cell_type": "code",
   "execution_count": 34,
   "id": "6bc7652e",
   "metadata": {},
   "outputs": [
    {
     "name": "stdout",
     "output_type": "stream",
     "text": [
      "[6, 'z']\n",
      "z\n"
     ]
    }
   ],
   "source": [
    "nestedList=[1,2.5,\"sd\",[6,'z']]\n",
    "print(nestedList[3])\n",
    "print(nestedList[3][1])"
   ]
  },
  {
   "cell_type": "markdown",
   "id": "65a49edd",
   "metadata": {},
   "source": [
    "## Sözlük(key-value pairing)"
   ]
  },
  {
   "cell_type": "code",
   "execution_count": 39,
   "id": "d091f667",
   "metadata": {},
   "outputs": [
    {
     "name": "stdout",
     "output_type": "stream",
     "text": [
      "{'elma': 100, 'karpuz': 200, 'muz': 300}\n",
      "100\n"
     ]
    }
   ],
   "source": [
    "yemekler=[\"elma\",\"karpuz\",\"muz\"]\n",
    "kaloriler=[100,200,300]\n",
    "\n",
    "yemekKalori={\"elma\":100,\"karpuz\":200,\"muz\":300}\n",
    "print(yemekKalori)\n",
    "print(yemekKalori[\"elma\"])"
   ]
  },
  {
   "cell_type": "code",
   "execution_count": 46,
   "id": "72755a6f",
   "metadata": {},
   "outputs": [
    {
     "name": "stdout",
     "output_type": "stream",
     "text": [
      "sd\n",
      "4\n"
     ]
    }
   ],
   "source": [
    "yeniDic={\"anahtar1\":[10,20,30,40,4.5,\"sd\"],\"anahtar2\":{\"anahtar3\":4}}\n",
    "print(yeniDic[\"anahtar1\"][-1])\n",
    "print(yeniDic[\"anahtar2\"][\"anahtar3\"])"
   ]
  },
  {
   "cell_type": "markdown",
   "id": "57bf122f",
   "metadata": {},
   "source": [
    "## Set"
   ]
  },
  {
   "cell_type": "code",
   "execution_count": 50,
   "id": "d0892813",
   "metadata": {},
   "outputs": [
    {
     "name": "stdout",
     "output_type": "stream",
     "text": [
      "{1, 2, 3}\n"
     ]
    },
    {
     "data": {
      "text/plain": [
       "set"
      ]
     },
     "execution_count": 50,
     "metadata": {},
     "output_type": "execute_result"
    }
   ],
   "source": [
    "sayılar=[1,2,3,1,2] #liste\n",
    "sayılar=set(sayılar) #set\n",
    "print(sayılar)\n",
    "type(sayılar)"
   ]
  },
  {
   "cell_type": "code",
   "execution_count": 53,
   "id": "5dfb6b1c",
   "metadata": {},
   "outputs": [
    {
     "name": "stdout",
     "output_type": "stream",
     "text": [
      "{3, 'a', 5.2, 'b'}\n"
     ]
    }
   ],
   "source": [
    "set1={\"a\",\"b\",3,5.2}\n",
    "print(set1)"
   ]
  },
  {
   "cell_type": "code",
   "execution_count": 58,
   "id": "f7031ab8",
   "metadata": {},
   "outputs": [
    {
     "name": "stdout",
     "output_type": "stream",
     "text": [
      "<class 'dict'>\n",
      "<class 'set'>\n",
      "{10, 20}\n"
     ]
    }
   ],
   "source": [
    "bosSet={}\n",
    "print(type(bosSet)) #dict olarak algılar!!\n",
    "bosSet=set()\n",
    "print(type(bosSet)) #set olarak algılar!!\n",
    "bosSet.add(10)\n",
    "bosSet.add(10)\n",
    "bosSet.add(20)\n",
    "print(bosSet)"
   ]
  },
  {
   "cell_type": "markdown",
   "id": "f55bed69",
   "metadata": {},
   "source": [
    "## Tuple "
   ]
  },
  {
   "cell_type": "markdown",
   "id": "69a20350",
   "metadata": {},
   "source": [
    "Listenin immutable versiyonudur!!"
   ]
  },
  {
   "cell_type": "code",
   "execution_count": 59,
   "id": "7f4791bb",
   "metadata": {},
   "outputs": [
    {
     "name": "stdout",
     "output_type": "stream",
     "text": [
      "[1, 2.3, 'a']\n",
      "[5, 2.3, 'a']\n"
     ]
    }
   ],
   "source": [
    "list1=[1,2.3,\"a\"]\n",
    "print(list1)\n",
    "list1[0]=5\n",
    "print(list1)"
   ]
  },
  {
   "cell_type": "code",
   "execution_count": 61,
   "id": "d0ee5f1d",
   "metadata": {
    "collapsed": true
   },
   "outputs": [
    {
     "name": "stdout",
     "output_type": "stream",
     "text": [
      "(1, 2.3, 'a')\n"
     ]
    },
    {
     "ename": "TypeError",
     "evalue": "'tuple' object does not support item assignment",
     "output_type": "error",
     "traceback": [
      "\u001b[1;31m---------------------------------------------------------------------------\u001b[0m",
      "\u001b[1;31mTypeError\u001b[0m                                 Traceback (most recent call last)",
      "\u001b[1;32m<ipython-input-61-47cef27ede43>\u001b[0m in \u001b[0;36m<module>\u001b[1;34m\u001b[0m\n\u001b[0;32m      1\u001b[0m \u001b[0mtuple1\u001b[0m\u001b[1;33m=\u001b[0m\u001b[1;33m(\u001b[0m\u001b[1;36m1\u001b[0m\u001b[1;33m,\u001b[0m\u001b[1;36m2.3\u001b[0m\u001b[1;33m,\u001b[0m\u001b[1;34m\"a\"\u001b[0m\u001b[1;33m)\u001b[0m\u001b[1;33m\u001b[0m\u001b[1;33m\u001b[0m\u001b[0m\n\u001b[0;32m      2\u001b[0m \u001b[0mprint\u001b[0m\u001b[1;33m(\u001b[0m\u001b[0mtuple1\u001b[0m\u001b[1;33m)\u001b[0m\u001b[1;33m\u001b[0m\u001b[1;33m\u001b[0m\u001b[0m\n\u001b[1;32m----> 3\u001b[1;33m \u001b[0mtuple1\u001b[0m\u001b[1;33m[\u001b[0m\u001b[1;36m0\u001b[0m\u001b[1;33m]\u001b[0m\u001b[1;33m=\u001b[0m\u001b[1;36m0\u001b[0m \u001b[1;31m#error verir!!!\u001b[0m\u001b[1;33m\u001b[0m\u001b[1;33m\u001b[0m\u001b[0m\n\u001b[0m",
      "\u001b[1;31mTypeError\u001b[0m: 'tuple' object does not support item assignment"
     ]
    }
   ],
   "source": [
    "tuple1=(1,2.3,\"a\")\n",
    "print(tuple1)\n",
    "tuple1[0]=0 #error verir!!!"
   ]
  },
  {
   "cell_type": "markdown",
   "id": "92b7746d",
   "metadata": {},
   "source": [
    "## If-Else"
   ]
  },
  {
   "cell_type": "code",
   "execution_count": 63,
   "id": "06d41318",
   "metadata": {},
   "outputs": [
    {
     "name": "stdout",
     "output_type": "stream",
     "text": [
      "y en büyük\n"
     ]
    }
   ],
   "source": [
    "x=0\n",
    "y=5\n",
    "z=3\n",
    "if x<y and z<y:\n",
    "    print(\"y en büyük\")\n",
    "elif x>y or x>z:\n",
    "    print(\"x büyük\")\n",
    "else:\n",
    "    print(\"eşitler\")"
   ]
  },
  {
   "cell_type": "code",
   "execution_count": 64,
   "id": "d021ba04",
   "metadata": {},
   "outputs": [
    {
     "name": "stdout",
     "output_type": "stream",
     "text": [
      "var\n"
     ]
    }
   ],
   "source": [
    "ad=\"sümeyye\"\n",
    "if \"eyye\" in ad:\n",
    "    print(\"var\")\n",
    "else:\n",
    "    print(\"yok\")"
   ]
  },
  {
   "cell_type": "code",
   "execution_count": 67,
   "id": "2ef68a77",
   "metadata": {},
   "outputs": [
    {
     "name": "stdout",
     "output_type": "stream",
     "text": [
      "var\n",
      "var\n"
     ]
    }
   ],
   "source": [
    "yemekKalori={\"elma\":100,\"karpuz\":200,\"muz\":300}\n",
    "\n",
    "if \"muz\" in yemekKalori.keys():\n",
    "    print(\"var\")\n",
    "if 200 in yemekKalori.values():\n",
    "    print(\"var\")"
   ]
  },
  {
   "cell_type": "markdown",
   "id": "4c4c3426",
   "metadata": {},
   "source": [
    "## For-While"
   ]
  },
  {
   "cell_type": "code",
   "execution_count": 75,
   "id": "5cb270f0",
   "metadata": {
    "collapsed": true
   },
   "outputs": [
    {
     "name": "stdout",
     "output_type": "stream",
     "text": [
      "1\n",
      "5\n",
      "\n",
      "\n",
      "2\n",
      "10\n",
      "\n",
      "\n",
      "3\n",
      "15\n",
      "\n",
      "\n"
     ]
    }
   ],
   "source": [
    "liste=[1,2,3]\n",
    "for numara in liste:\n",
    "    print(numara)\n",
    "    print(numara*5)\n",
    "    print(\"\\n\")"
   ]
  },
  {
   "cell_type": "code",
   "execution_count": 76,
   "id": "fe22fce2",
   "metadata": {
    "collapsed": true
   },
   "outputs": [
    {
     "name": "stdout",
     "output_type": "stream",
     "text": [
      "1\n",
      "2\n",
      "3\n",
      "\n",
      "\n",
      "4\n",
      "5\n",
      "6\n",
      "\n",
      "\n",
      "6\n",
      "7\n",
      "8\n",
      "\n",
      "\n"
     ]
    }
   ],
   "source": [
    "list1=[(1,2,3),(4,5,6),(6,7,8)]\n",
    "for (a,b,c) in list1:\n",
    "    print(a)\n",
    "    print(b)\n",
    "    print(c)\n",
    "    print(\"\\n\")"
   ]
  },
  {
   "cell_type": "code",
   "execution_count": 78,
   "id": "621a51e6",
   "metadata": {
    "collapsed": true
   },
   "outputs": [
    {
     "name": "stdout",
     "output_type": "stream",
     "text": [
      "1\n",
      "ali\n",
      "\n",
      "\n",
      "2\n",
      "ayse\n",
      "\n",
      "\n",
      "3\n",
      "fatma\n",
      "\n",
      "\n"
     ]
    }
   ],
   "source": [
    "dic1={1:\"ali\",2:\"ayse\",3:\"fatma\"}\n",
    "for (anahtar,deger) in dic1.items(): #öncelikle liste formatına çevirilmeli\n",
    "    print(anahtar)\n",
    "    print(deger)\n",
    "    print(\"\\n\")"
   ]
  },
  {
   "cell_type": "code",
   "execution_count": 84,
   "id": "1966ceb2",
   "metadata": {},
   "outputs": [
    {
     "name": "stdout",
     "output_type": "stream",
     "text": [
      "[1, 2, 3, 4, 5, 6]\n",
      "[1, 2, 3, 4, 5]\n",
      "[1, 2, 3, 4]\n",
      "[1, 2, 3]\n"
     ]
    }
   ],
   "source": [
    "liste=[1,2,3,4,5,6]\n",
    "while 3 in liste:\n",
    "    print(liste)\n",
    "    liste.pop()"
   ]
  },
  {
   "cell_type": "code",
   "execution_count": 3,
   "id": "31641462",
   "metadata": {},
   "outputs": [
    {
     "name": "stdout",
     "output_type": "stream",
     "text": [
      "Deger= 0\n",
      "Deger= 1\n",
      "Deger= 2\n",
      "Deger= 3\n",
      "Deger= 4\n"
     ]
    }
   ],
   "source": [
    "sayi=0\n",
    "while sayi<5:\n",
    "    print(f\"Deger= {sayi}\") #print(\"Değer= \"+str(sayi))\n",
    "    sayi=sayi+1"
   ]
  },
  {
   "cell_type": "markdown",
   "id": "f91c8fec",
   "metadata": {},
   "source": [
    "### Range-Enumerate"
   ]
  },
  {
   "cell_type": "code",
   "execution_count": 4,
   "id": "95d952bc",
   "metadata": {},
   "outputs": [
    {
     "name": "stdout",
     "output_type": "stream",
     "text": [
      "5\n",
      "7\n",
      "9\n",
      "11\n",
      "13\n"
     ]
    }
   ],
   "source": [
    "for numara in list(range(5,15,2)):\n",
    "    print(numara)"
   ]
  },
  {
   "cell_type": "code",
   "execution_count": 6,
   "id": "c0abea1b",
   "metadata": {},
   "outputs": [
    {
     "name": "stdout",
     "output_type": "stream",
     "text": [
      "0\n",
      "5\n",
      "\n",
      "\n",
      "1\n",
      "7\n",
      "\n",
      "\n",
      "2\n",
      "9\n",
      "\n",
      "\n"
     ]
    }
   ],
   "source": [
    "for (index,eleman) in enumerate(list(range(5,10,2))):\n",
    "    print(index)\n",
    "    print(eleman)\n",
    "    print(\"\\n\")"
   ]
  },
  {
   "cell_type": "markdown",
   "id": "682e5bb1",
   "metadata": {},
   "source": [
    "### Random"
   ]
  },
  {
   "cell_type": "code",
   "execution_count": 4,
   "id": "dbd1caad",
   "metadata": {},
   "outputs": [
    {
     "data": {
      "text/plain": [
       "34"
      ]
     },
     "execution_count": 4,
     "metadata": {},
     "output_type": "execute_result"
    }
   ],
   "source": [
    "from random import randint\n",
    "randint(0,100) #0'la 100 arası rastgele sayı"
   ]
  },
  {
   "cell_type": "code",
   "execution_count": 11,
   "id": "7da00fa0",
   "metadata": {},
   "outputs": [
    {
     "name": "stdout",
     "output_type": "stream",
     "text": [
      "[0, 1, 2, 3, 4, 5, 6, 7, 8, 9]\n",
      "[8, 9, 6, 0, 7, 1, 4, 3, 5, 2]\n"
     ]
    }
   ],
   "source": [
    "yeniListe=list(range(0,10))\n",
    "print(yeniListe)\n",
    "\n",
    "from random import shuffle\n",
    "shuffle(yeniListe)\n",
    "print(yeniListe)"
   ]
  },
  {
   "cell_type": "markdown",
   "id": "b8adb83f",
   "metadata": {},
   "source": [
    "### Zip"
   ]
  },
  {
   "cell_type": "code",
   "execution_count": 13,
   "id": "18c27b0d",
   "metadata": {},
   "outputs": [
    {
     "name": "stdout",
     "output_type": "stream",
     "text": [
      "[('muz', 100, 'pazartesi'), ('ananas', 200, 'salı'), ('elma', 300, 'çarşamba')]\n"
     ]
    }
   ],
   "source": [
    "yemek=[\"muz\",\"ananas\",\"elma\"]\n",
    "kalori=[100,200,300]\n",
    "gun=[\"pazartesi\",\"salı\",\"çarşamba\"]\n",
    "print(list(zip(yemek,kalori,gun)))"
   ]
  },
  {
   "cell_type": "markdown",
   "id": "9af7604a",
   "metadata": {},
   "source": [
    "#### Ornek1"
   ]
  },
  {
   "cell_type": "code",
   "execution_count": 15,
   "id": "5be359d7",
   "metadata": {},
   "outputs": [
    {
     "name": "stdout",
     "output_type": "stream",
     "text": [
      "[0, 5, 10, 15, 20, 25, 30, 35, 40, 45]\n"
     ]
    }
   ],
   "source": [
    "listeornek=[numara*5 for numara in list(range(0,10))]\n",
    "print(listeornek)"
   ]
  },
  {
   "cell_type": "markdown",
   "id": "6f84e9a7",
   "metadata": {},
   "source": [
    "## Fonksiyonlar ve Metodlar (args&kwargs)"
   ]
  },
  {
   "cell_type": "code",
   "execution_count": null,
   "id": "c3c16231",
   "metadata": {},
   "outputs": [],
   "source": [
    "def toplama(*args): #genellikle int\n",
    "    return args\n",
    "def toplama(**kwargs): #sözlük döndürür\n",
    "    return kwargs"
   ]
  },
  {
   "cell_type": "code",
   "execution_count": 19,
   "id": "27f66e0f",
   "metadata": {},
   "outputs": [
    {
     "name": "stdout",
     "output_type": "stream",
     "text": [
      "muz var\n"
     ]
    }
   ],
   "source": [
    "def sozcuk(**kwargs):\n",
    "    if \"muz\" in kwargs:\n",
    "        print(\"muz var\")\n",
    "    else:\n",
    "        print(\"muz yok\")\n",
    "        \n",
    "sozcuk(muz=100,elma=200,ananas=300)"
   ]
  },
  {
   "cell_type": "markdown",
   "id": "9262abe9",
   "metadata": {},
   "source": [
    "### Map,Filter,Lambda"
   ]
  },
  {
   "cell_type": "code",
   "execution_count": 21,
   "id": "b2d70fdb",
   "metadata": {},
   "outputs": [
    {
     "data": {
      "text/plain": [
       "[0.0, 1.0, 2.0, 3.0, 4.0]"
      ]
     },
     "execution_count": 21,
     "metadata": {},
     "output_type": "execute_result"
    }
   ],
   "source": [
    "def bolme(num):\n",
    "    return(num/2)\n",
    "\n",
    "liste=list(range(0,10,2))\n",
    "\n",
    "list(map(bolme,liste))"
   ]
  },
  {
   "cell_type": "code",
   "execution_count": 24,
   "id": "fb976c52",
   "metadata": {},
   "outputs": [
    {
     "name": "stdout",
     "output_type": "stream",
     "text": [
      "3\n",
      "['ali', 'ayse', 'fatma']\n"
     ]
    }
   ],
   "source": [
    "def kelimeKontrol(string):\n",
    "    return \"a\" in string\n",
    "\n",
    "stringler=[\"ali\",\"veli\",\"ayse\",\"fatma\",\"hüseyin\"]\n",
    "\n",
    "sonuc=list(map(kelimeKontrol,stringler))\n",
    "print(sonuc.count(True))\n",
    "\n",
    "print(list(filter(kelimeKontrol,stringler)))"
   ]
  },
  {
   "cell_type": "code",
   "execution_count": 27,
   "id": "2ab94073",
   "metadata": {},
   "outputs": [
    {
     "name": "stdout",
     "output_type": "stream",
     "text": [
      "30\n",
      "[50, 100, 150]\n"
     ]
    }
   ],
   "source": [
    "carpma = lambda numara : numara*3\n",
    "print(carpma(10))\n",
    "\n",
    "ornekListe=[10,20,30]\n",
    "print(list(map(lambda x : x*5,ornekListe)))"
   ]
  },
  {
   "cell_type": "markdown",
   "id": "0b06aadc",
   "metadata": {},
   "source": [
    "## Hata Ayıklama"
   ]
  },
  {
   "cell_type": "code",
   "execution_count": 34,
   "id": "e4bc375e",
   "metadata": {},
   "outputs": [
    {
     "name": "stdout",
     "output_type": "stream",
     "text": [
      "ilk sayıyı giriniz: 5\n",
      "ikinci sayıyı giriniz: k\n",
      "sayı girmediniz!!!\n"
     ]
    }
   ],
   "source": [
    "def hesapla (a,b,islem):\n",
    "    if islem==\"+\":\n",
    "        return(str(a)+\" + \"+str(b)+\" = \"+ str(a+b))\n",
    "    if islem==\"-\":\n",
    "        return(str(a)+\" + \"+str(b)+\" = \"+ str(a-b))\n",
    "    if islem==\"*\":\n",
    "        return(str(a)+\" + \"+str(b)+\" = \"+ str(a*b))\n",
    "    if islem==\"/\":\n",
    "        return(str(a)+\" + \"+str(b)+\" = \"+ str(a/b))\n",
    "    else:\n",
    "        print(\"işlem girmediniz!!!\")\n",
    "    \n",
    "try:\n",
    "    a=int(input(\"ilk sayıyı giriniz: \"))\n",
    "    b=int(input(\"ikinci sayıyı giriniz: \"))\n",
    "    islem=input(\"islemi giriniz: \")\n",
    "    print(hesapla(a,b,islem))\n",
    "except:\n",
    "    print(\"sayı girmediniz!!!\")\n"
   ]
  }
 ],
 "metadata": {
  "kernelspec": {
   "display_name": "Python 3",
   "language": "python",
   "name": "python3"
  },
  "language_info": {
   "codemirror_mode": {
    "name": "ipython",
    "version": 3
   },
   "file_extension": ".py",
   "mimetype": "text/x-python",
   "name": "python",
   "nbconvert_exporter": "python",
   "pygments_lexer": "ipython3",
   "version": "3.8.8"
  }
 },
 "nbformat": 4,
 "nbformat_minor": 5
}
