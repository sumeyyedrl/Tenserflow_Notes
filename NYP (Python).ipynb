{
 "cells": [
  {
   "cell_type": "markdown",
   "id": "faf13702",
   "metadata": {},
   "source": [
    "## instance/attribute"
   ]
  },
  {
   "cell_type": "code",
   "execution_count": 8,
   "id": "f3dd7b03",
   "metadata": {},
   "outputs": [],
   "source": [
    "class SuperKahraman():\n",
    "    \n",
    "    ozelGuc=\"gorunmez\"\n",
    "    \n",
    "    def __init__(self,isim,yas,meslek): #konstrüktör\n",
    "        self.isim=isim\n",
    "        self.yas=yas\n",
    "        self.meslek=meslek\n",
    "        \n",
    "    def method1(self):\n",
    "        print(f\"meslek={self.meslek}\")\n",
    "        "
   ]
  },
  {
   "cell_type": "markdown",
   "id": "e4dc073d",
   "metadata": {},
   "source": [
    "## Default"
   ]
  },
  {
   "cell_type": "code",
   "execution_count": 10,
   "id": "ef14906d",
   "metadata": {},
   "outputs": [
    {
     "data": {
      "text/plain": [
       "21"
      ]
     },
     "execution_count": 10,
     "metadata": {},
     "output_type": "execute_result"
    }
   ],
   "source": [
    "class Kopek():\n",
    "    def __init__(self,yas=3): #yas değişkeni girilmediğinde hata vermez\n",
    "        self.yas=yas          #verildiğinde override eder\n",
    "        self.insanYasi=yas*7\n",
    "        \n",
    "kopek=Kopek()\n",
    "kopek.insanYasi"
   ]
  },
  {
   "cell_type": "markdown",
   "id": "6cd228e3",
   "metadata": {},
   "source": [
    "## Inheritance"
   ]
  },
  {
   "cell_type": "code",
   "execution_count": 13,
   "id": "e5d9a502",
   "metadata": {},
   "outputs": [
    {
     "name": "stdout",
     "output_type": "stream",
     "text": [
      "Kedi init\n",
      "hayvan init\n"
     ]
    }
   ],
   "source": [
    "class Hayvan():\n",
    "    def __init__(self):\n",
    "        print(\"hayvan init\")\n",
    "    def metod1():\n",
    "        print(\"hayvan metod1\")\n",
    "    def metod2():\n",
    "        print(\"hayvan metod2\")\n",
    "        \n",
    "        \n",
    "class Kedi(Hayvan):\n",
    "    def __init__(self):\n",
    "        print(\"Kedi init\")\n",
    "        Hayvan.__init__(self) #yazmak zorunlu değil\n",
    "    def metod1():\n",
    "        print(\"kedi metod1\") #override\n",
    "        \n",
    "        \n",
    "kedi=Kedi()\n",
    "\n",
    "        "
   ]
  },
  {
   "cell_type": "markdown",
   "id": "65bdd430",
   "metadata": {},
   "source": [
    "## Polymorphism"
   ]
  },
  {
   "cell_type": "code",
   "execution_count": 23,
   "id": "694b1c5d",
   "metadata": {},
   "outputs": [],
   "source": [
    "class Elma():\n",
    "    def __init__(self,isim):\n",
    "        self.isim=isim\n",
    "    def bilgiVer(self):\n",
    "        return self.isim + \" 100 kaloridir\"\n",
    "\n",
    "    \n",
    "class Muz():\n",
    "    def __init__(self,isim):\n",
    "        self.isim=isim\n",
    "    def bilgiVer(self):\n",
    "        return self.isim + \" 150 kaloridir\" \n",
    "    \n",
    "elma = Elma(\"elma\")\n",
    "muz = Muz(\"muz\")"
   ]
  },
  {
   "cell_type": "code",
   "execution_count": 24,
   "id": "85b7e60d",
   "metadata": {},
   "outputs": [
    {
     "name": "stdout",
     "output_type": "stream",
     "text": [
      "elma 100 kaloridir\n",
      "muz 150 kaloridir\n"
     ]
    }
   ],
   "source": [
    "meyveler = [elma,muz]\n",
    "for meyve in meyveler:\n",
    "    print(meyve.bilgiVer())"
   ]
  },
  {
   "cell_type": "code",
   "execution_count": 25,
   "id": "5c0b4b48",
   "metadata": {},
   "outputs": [
    {
     "name": "stdout",
     "output_type": "stream",
     "text": [
      "elma 100 kaloridir\n",
      "muz 150 kaloridir\n"
     ]
    }
   ],
   "source": [
    "def bilgiAl(meyve):\n",
    "    print (meyve.bilgiVer())\n",
    "    \n",
    "for meyve in meyveler:\n",
    "    bilgiAl(meyve)"
   ]
  }
 ],
 "metadata": {
  "kernelspec": {
   "display_name": "Python 3",
   "language": "python",
   "name": "python3"
  },
  "language_info": {
   "codemirror_mode": {
    "name": "ipython",
    "version": 3
   },
   "file_extension": ".py",
   "mimetype": "text/x-python",
   "name": "python",
   "nbconvert_exporter": "python",
   "pygments_lexer": "ipython3",
   "version": "3.8.8"
  }
 },
 "nbformat": 4,
 "nbformat_minor": 5
}
