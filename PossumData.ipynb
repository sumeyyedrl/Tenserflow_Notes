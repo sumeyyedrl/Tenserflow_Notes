{
 "cells": [
  {
   "cell_type": "code",
   "execution_count": 161,
   "id": "9f0b578f",
   "metadata": {},
   "outputs": [],
   "source": [
    "import pandas as pd\n",
    "import matplotlib.pyplot as plt\n",
    "import numpy as np\n",
    "import seaborn as sbn"
   ]
  },
  {
   "cell_type": "code",
   "execution_count": 162,
   "id": "ec746e43",
   "metadata": {},
   "outputs": [],
   "source": [
    "dataFrame= pd.read_csv(\"possum.csv\")"
   ]
  },
  {
   "cell_type": "code",
   "execution_count": 163,
   "id": "b2bcb036",
   "metadata": {},
   "outputs": [
    {
     "data": {
      "text/html": [
       "<div>\n",
       "<style scoped>\n",
       "    .dataframe tbody tr th:only-of-type {\n",
       "        vertical-align: middle;\n",
       "    }\n",
       "\n",
       "    .dataframe tbody tr th {\n",
       "        vertical-align: top;\n",
       "    }\n",
       "\n",
       "    .dataframe thead th {\n",
       "        text-align: right;\n",
       "    }\n",
       "</style>\n",
       "<table border=\"1\" class=\"dataframe\">\n",
       "  <thead>\n",
       "    <tr style=\"text-align: right;\">\n",
       "      <th></th>\n",
       "      <th>case</th>\n",
       "      <th>site</th>\n",
       "      <th>Pop</th>\n",
       "      <th>sex</th>\n",
       "      <th>age</th>\n",
       "      <th>hdlngth</th>\n",
       "      <th>skullw</th>\n",
       "      <th>totlngth</th>\n",
       "      <th>taill</th>\n",
       "      <th>footlgth</th>\n",
       "      <th>earconch</th>\n",
       "      <th>eye</th>\n",
       "      <th>chest</th>\n",
       "      <th>belly</th>\n",
       "    </tr>\n",
       "  </thead>\n",
       "  <tbody>\n",
       "    <tr>\n",
       "      <th>0</th>\n",
       "      <td>1</td>\n",
       "      <td>1</td>\n",
       "      <td>Vic</td>\n",
       "      <td>m</td>\n",
       "      <td>8.0</td>\n",
       "      <td>94.1</td>\n",
       "      <td>60.4</td>\n",
       "      <td>89.0</td>\n",
       "      <td>36.0</td>\n",
       "      <td>74.5</td>\n",
       "      <td>54.5</td>\n",
       "      <td>15.2</td>\n",
       "      <td>28.0</td>\n",
       "      <td>36.0</td>\n",
       "    </tr>\n",
       "    <tr>\n",
       "      <th>1</th>\n",
       "      <td>2</td>\n",
       "      <td>1</td>\n",
       "      <td>Vic</td>\n",
       "      <td>f</td>\n",
       "      <td>6.0</td>\n",
       "      <td>92.5</td>\n",
       "      <td>57.6</td>\n",
       "      <td>91.5</td>\n",
       "      <td>36.5</td>\n",
       "      <td>72.5</td>\n",
       "      <td>51.2</td>\n",
       "      <td>16.0</td>\n",
       "      <td>28.5</td>\n",
       "      <td>33.0</td>\n",
       "    </tr>\n",
       "    <tr>\n",
       "      <th>2</th>\n",
       "      <td>3</td>\n",
       "      <td>1</td>\n",
       "      <td>Vic</td>\n",
       "      <td>f</td>\n",
       "      <td>6.0</td>\n",
       "      <td>94.0</td>\n",
       "      <td>60.0</td>\n",
       "      <td>95.5</td>\n",
       "      <td>39.0</td>\n",
       "      <td>75.4</td>\n",
       "      <td>51.9</td>\n",
       "      <td>15.5</td>\n",
       "      <td>30.0</td>\n",
       "      <td>34.0</td>\n",
       "    </tr>\n",
       "    <tr>\n",
       "      <th>3</th>\n",
       "      <td>4</td>\n",
       "      <td>1</td>\n",
       "      <td>Vic</td>\n",
       "      <td>f</td>\n",
       "      <td>6.0</td>\n",
       "      <td>93.2</td>\n",
       "      <td>57.1</td>\n",
       "      <td>92.0</td>\n",
       "      <td>38.0</td>\n",
       "      <td>76.1</td>\n",
       "      <td>52.2</td>\n",
       "      <td>15.2</td>\n",
       "      <td>28.0</td>\n",
       "      <td>34.0</td>\n",
       "    </tr>\n",
       "    <tr>\n",
       "      <th>4</th>\n",
       "      <td>5</td>\n",
       "      <td>1</td>\n",
       "      <td>Vic</td>\n",
       "      <td>f</td>\n",
       "      <td>2.0</td>\n",
       "      <td>91.5</td>\n",
       "      <td>56.3</td>\n",
       "      <td>85.5</td>\n",
       "      <td>36.0</td>\n",
       "      <td>71.0</td>\n",
       "      <td>53.2</td>\n",
       "      <td>15.1</td>\n",
       "      <td>28.5</td>\n",
       "      <td>33.0</td>\n",
       "    </tr>\n",
       "    <tr>\n",
       "      <th>5</th>\n",
       "      <td>6</td>\n",
       "      <td>1</td>\n",
       "      <td>Vic</td>\n",
       "      <td>f</td>\n",
       "      <td>1.0</td>\n",
       "      <td>93.1</td>\n",
       "      <td>54.8</td>\n",
       "      <td>90.5</td>\n",
       "      <td>35.5</td>\n",
       "      <td>73.2</td>\n",
       "      <td>53.6</td>\n",
       "      <td>14.2</td>\n",
       "      <td>30.0</td>\n",
       "      <td>32.0</td>\n",
       "    </tr>\n",
       "    <tr>\n",
       "      <th>6</th>\n",
       "      <td>7</td>\n",
       "      <td>1</td>\n",
       "      <td>Vic</td>\n",
       "      <td>m</td>\n",
       "      <td>2.0</td>\n",
       "      <td>95.3</td>\n",
       "      <td>58.2</td>\n",
       "      <td>89.5</td>\n",
       "      <td>36.0</td>\n",
       "      <td>71.5</td>\n",
       "      <td>52.0</td>\n",
       "      <td>14.2</td>\n",
       "      <td>30.0</td>\n",
       "      <td>34.5</td>\n",
       "    </tr>\n",
       "    <tr>\n",
       "      <th>7</th>\n",
       "      <td>8</td>\n",
       "      <td>1</td>\n",
       "      <td>Vic</td>\n",
       "      <td>f</td>\n",
       "      <td>6.0</td>\n",
       "      <td>94.8</td>\n",
       "      <td>57.6</td>\n",
       "      <td>91.0</td>\n",
       "      <td>37.0</td>\n",
       "      <td>72.7</td>\n",
       "      <td>53.9</td>\n",
       "      <td>14.5</td>\n",
       "      <td>29.0</td>\n",
       "      <td>34.0</td>\n",
       "    </tr>\n",
       "    <tr>\n",
       "      <th>8</th>\n",
       "      <td>9</td>\n",
       "      <td>1</td>\n",
       "      <td>Vic</td>\n",
       "      <td>f</td>\n",
       "      <td>9.0</td>\n",
       "      <td>93.4</td>\n",
       "      <td>56.3</td>\n",
       "      <td>91.5</td>\n",
       "      <td>37.0</td>\n",
       "      <td>72.4</td>\n",
       "      <td>52.9</td>\n",
       "      <td>15.5</td>\n",
       "      <td>28.0</td>\n",
       "      <td>33.0</td>\n",
       "    </tr>\n",
       "    <tr>\n",
       "      <th>9</th>\n",
       "      <td>10</td>\n",
       "      <td>1</td>\n",
       "      <td>Vic</td>\n",
       "      <td>f</td>\n",
       "      <td>6.0</td>\n",
       "      <td>91.8</td>\n",
       "      <td>58.0</td>\n",
       "      <td>89.5</td>\n",
       "      <td>37.5</td>\n",
       "      <td>70.9</td>\n",
       "      <td>53.4</td>\n",
       "      <td>14.4</td>\n",
       "      <td>27.5</td>\n",
       "      <td>32.0</td>\n",
       "    </tr>\n",
       "    <tr>\n",
       "      <th>10</th>\n",
       "      <td>11</td>\n",
       "      <td>1</td>\n",
       "      <td>Vic</td>\n",
       "      <td>f</td>\n",
       "      <td>9.0</td>\n",
       "      <td>93.3</td>\n",
       "      <td>57.2</td>\n",
       "      <td>89.5</td>\n",
       "      <td>39.0</td>\n",
       "      <td>77.2</td>\n",
       "      <td>51.3</td>\n",
       "      <td>14.9</td>\n",
       "      <td>31.0</td>\n",
       "      <td>34.0</td>\n",
       "    </tr>\n",
       "    <tr>\n",
       "      <th>11</th>\n",
       "      <td>12</td>\n",
       "      <td>1</td>\n",
       "      <td>Vic</td>\n",
       "      <td>f</td>\n",
       "      <td>5.0</td>\n",
       "      <td>94.9</td>\n",
       "      <td>55.6</td>\n",
       "      <td>92.0</td>\n",
       "      <td>35.5</td>\n",
       "      <td>71.7</td>\n",
       "      <td>51.0</td>\n",
       "      <td>15.3</td>\n",
       "      <td>28.0</td>\n",
       "      <td>33.0</td>\n",
       "    </tr>\n",
       "    <tr>\n",
       "      <th>12</th>\n",
       "      <td>13</td>\n",
       "      <td>1</td>\n",
       "      <td>Vic</td>\n",
       "      <td>m</td>\n",
       "      <td>5.0</td>\n",
       "      <td>95.1</td>\n",
       "      <td>59.9</td>\n",
       "      <td>89.5</td>\n",
       "      <td>36.0</td>\n",
       "      <td>71.0</td>\n",
       "      <td>49.8</td>\n",
       "      <td>15.8</td>\n",
       "      <td>27.0</td>\n",
       "      <td>32.0</td>\n",
       "    </tr>\n",
       "    <tr>\n",
       "      <th>13</th>\n",
       "      <td>14</td>\n",
       "      <td>1</td>\n",
       "      <td>Vic</td>\n",
       "      <td>m</td>\n",
       "      <td>3.0</td>\n",
       "      <td>95.4</td>\n",
       "      <td>57.6</td>\n",
       "      <td>91.5</td>\n",
       "      <td>36.0</td>\n",
       "      <td>74.3</td>\n",
       "      <td>53.7</td>\n",
       "      <td>15.1</td>\n",
       "      <td>28.0</td>\n",
       "      <td>31.5</td>\n",
       "    </tr>\n",
       "    <tr>\n",
       "      <th>14</th>\n",
       "      <td>15</td>\n",
       "      <td>1</td>\n",
       "      <td>Vic</td>\n",
       "      <td>m</td>\n",
       "      <td>5.0</td>\n",
       "      <td>92.9</td>\n",
       "      <td>57.6</td>\n",
       "      <td>85.5</td>\n",
       "      <td>34.0</td>\n",
       "      <td>69.7</td>\n",
       "      <td>51.8</td>\n",
       "      <td>15.7</td>\n",
       "      <td>28.0</td>\n",
       "      <td>35.0</td>\n",
       "    </tr>\n",
       "    <tr>\n",
       "      <th>15</th>\n",
       "      <td>16</td>\n",
       "      <td>1</td>\n",
       "      <td>Vic</td>\n",
       "      <td>m</td>\n",
       "      <td>4.0</td>\n",
       "      <td>91.6</td>\n",
       "      <td>56.0</td>\n",
       "      <td>86.0</td>\n",
       "      <td>34.5</td>\n",
       "      <td>73.0</td>\n",
       "      <td>51.4</td>\n",
       "      <td>14.4</td>\n",
       "      <td>28.0</td>\n",
       "      <td>32.0</td>\n",
       "    </tr>\n",
       "    <tr>\n",
       "      <th>16</th>\n",
       "      <td>17</td>\n",
       "      <td>1</td>\n",
       "      <td>Vic</td>\n",
       "      <td>f</td>\n",
       "      <td>1.0</td>\n",
       "      <td>94.7</td>\n",
       "      <td>67.7</td>\n",
       "      <td>89.5</td>\n",
       "      <td>36.5</td>\n",
       "      <td>73.2</td>\n",
       "      <td>53.2</td>\n",
       "      <td>14.7</td>\n",
       "      <td>29.0</td>\n",
       "      <td>31.0</td>\n",
       "    </tr>\n",
       "    <tr>\n",
       "      <th>17</th>\n",
       "      <td>18</td>\n",
       "      <td>1</td>\n",
       "      <td>Vic</td>\n",
       "      <td>m</td>\n",
       "      <td>2.0</td>\n",
       "      <td>93.5</td>\n",
       "      <td>55.7</td>\n",
       "      <td>90.0</td>\n",
       "      <td>36.0</td>\n",
       "      <td>73.7</td>\n",
       "      <td>55.4</td>\n",
       "      <td>15.3</td>\n",
       "      <td>28.0</td>\n",
       "      <td>32.0</td>\n",
       "    </tr>\n",
       "    <tr>\n",
       "      <th>18</th>\n",
       "      <td>19</td>\n",
       "      <td>1</td>\n",
       "      <td>Vic</td>\n",
       "      <td>f</td>\n",
       "      <td>5.0</td>\n",
       "      <td>94.4</td>\n",
       "      <td>55.4</td>\n",
       "      <td>90.5</td>\n",
       "      <td>35.0</td>\n",
       "      <td>73.4</td>\n",
       "      <td>53.9</td>\n",
       "      <td>15.2</td>\n",
       "      <td>28.0</td>\n",
       "      <td>32.0</td>\n",
       "    </tr>\n",
       "    <tr>\n",
       "      <th>19</th>\n",
       "      <td>20</td>\n",
       "      <td>1</td>\n",
       "      <td>Vic</td>\n",
       "      <td>f</td>\n",
       "      <td>4.0</td>\n",
       "      <td>94.8</td>\n",
       "      <td>56.3</td>\n",
       "      <td>89.0</td>\n",
       "      <td>38.0</td>\n",
       "      <td>73.8</td>\n",
       "      <td>52.4</td>\n",
       "      <td>15.5</td>\n",
       "      <td>27.0</td>\n",
       "      <td>36.0</td>\n",
       "    </tr>\n",
       "  </tbody>\n",
       "</table>\n",
       "</div>"
      ],
      "text/plain": [
       "    case  site  Pop sex  age  hdlngth  skullw  totlngth  taill  footlgth  \\\n",
       "0      1     1  Vic   m  8.0     94.1    60.4      89.0   36.0      74.5   \n",
       "1      2     1  Vic   f  6.0     92.5    57.6      91.5   36.5      72.5   \n",
       "2      3     1  Vic   f  6.0     94.0    60.0      95.5   39.0      75.4   \n",
       "3      4     1  Vic   f  6.0     93.2    57.1      92.0   38.0      76.1   \n",
       "4      5     1  Vic   f  2.0     91.5    56.3      85.5   36.0      71.0   \n",
       "5      6     1  Vic   f  1.0     93.1    54.8      90.5   35.5      73.2   \n",
       "6      7     1  Vic   m  2.0     95.3    58.2      89.5   36.0      71.5   \n",
       "7      8     1  Vic   f  6.0     94.8    57.6      91.0   37.0      72.7   \n",
       "8      9     1  Vic   f  9.0     93.4    56.3      91.5   37.0      72.4   \n",
       "9     10     1  Vic   f  6.0     91.8    58.0      89.5   37.5      70.9   \n",
       "10    11     1  Vic   f  9.0     93.3    57.2      89.5   39.0      77.2   \n",
       "11    12     1  Vic   f  5.0     94.9    55.6      92.0   35.5      71.7   \n",
       "12    13     1  Vic   m  5.0     95.1    59.9      89.5   36.0      71.0   \n",
       "13    14     1  Vic   m  3.0     95.4    57.6      91.5   36.0      74.3   \n",
       "14    15     1  Vic   m  5.0     92.9    57.6      85.5   34.0      69.7   \n",
       "15    16     1  Vic   m  4.0     91.6    56.0      86.0   34.5      73.0   \n",
       "16    17     1  Vic   f  1.0     94.7    67.7      89.5   36.5      73.2   \n",
       "17    18     1  Vic   m  2.0     93.5    55.7      90.0   36.0      73.7   \n",
       "18    19     1  Vic   f  5.0     94.4    55.4      90.5   35.0      73.4   \n",
       "19    20     1  Vic   f  4.0     94.8    56.3      89.0   38.0      73.8   \n",
       "\n",
       "    earconch   eye  chest  belly  \n",
       "0       54.5  15.2   28.0   36.0  \n",
       "1       51.2  16.0   28.5   33.0  \n",
       "2       51.9  15.5   30.0   34.0  \n",
       "3       52.2  15.2   28.0   34.0  \n",
       "4       53.2  15.1   28.5   33.0  \n",
       "5       53.6  14.2   30.0   32.0  \n",
       "6       52.0  14.2   30.0   34.5  \n",
       "7       53.9  14.5   29.0   34.0  \n",
       "8       52.9  15.5   28.0   33.0  \n",
       "9       53.4  14.4   27.5   32.0  \n",
       "10      51.3  14.9   31.0   34.0  \n",
       "11      51.0  15.3   28.0   33.0  \n",
       "12      49.8  15.8   27.0   32.0  \n",
       "13      53.7  15.1   28.0   31.5  \n",
       "14      51.8  15.7   28.0   35.0  \n",
       "15      51.4  14.4   28.0   32.0  \n",
       "16      53.2  14.7   29.0   31.0  \n",
       "17      55.4  15.3   28.0   32.0  \n",
       "18      53.9  15.2   28.0   32.0  \n",
       "19      52.4  15.5   27.0   36.0  "
      ]
     },
     "execution_count": 163,
     "metadata": {},
     "output_type": "execute_result"
    }
   ],
   "source": [
    "dataFrame.head(20)"
   ]
  },
  {
   "cell_type": "code",
   "execution_count": 164,
   "id": "3f6e393b",
   "metadata": {},
   "outputs": [
    {
     "data": {
      "text/html": [
       "<div>\n",
       "<style scoped>\n",
       "    .dataframe tbody tr th:only-of-type {\n",
       "        vertical-align: middle;\n",
       "    }\n",
       "\n",
       "    .dataframe tbody tr th {\n",
       "        vertical-align: top;\n",
       "    }\n",
       "\n",
       "    .dataframe thead th {\n",
       "        text-align: right;\n",
       "    }\n",
       "</style>\n",
       "<table border=\"1\" class=\"dataframe\">\n",
       "  <thead>\n",
       "    <tr style=\"text-align: right;\">\n",
       "      <th></th>\n",
       "      <th>case</th>\n",
       "      <th>site</th>\n",
       "      <th>age</th>\n",
       "      <th>hdlngth</th>\n",
       "      <th>skullw</th>\n",
       "      <th>totlngth</th>\n",
       "      <th>taill</th>\n",
       "      <th>footlgth</th>\n",
       "      <th>earconch</th>\n",
       "      <th>eye</th>\n",
       "      <th>chest</th>\n",
       "      <th>belly</th>\n",
       "    </tr>\n",
       "  </thead>\n",
       "  <tbody>\n",
       "    <tr>\n",
       "      <th>count</th>\n",
       "      <td>104.000000</td>\n",
       "      <td>104.000000</td>\n",
       "      <td>102.000000</td>\n",
       "      <td>104.000000</td>\n",
       "      <td>104.000000</td>\n",
       "      <td>104.000000</td>\n",
       "      <td>104.000000</td>\n",
       "      <td>103.000000</td>\n",
       "      <td>104.000000</td>\n",
       "      <td>104.000000</td>\n",
       "      <td>104.000000</td>\n",
       "      <td>104.000000</td>\n",
       "    </tr>\n",
       "    <tr>\n",
       "      <th>mean</th>\n",
       "      <td>52.500000</td>\n",
       "      <td>3.625000</td>\n",
       "      <td>3.833333</td>\n",
       "      <td>92.602885</td>\n",
       "      <td>56.883654</td>\n",
       "      <td>87.088462</td>\n",
       "      <td>37.009615</td>\n",
       "      <td>68.459223</td>\n",
       "      <td>48.130769</td>\n",
       "      <td>15.046154</td>\n",
       "      <td>27.000000</td>\n",
       "      <td>32.586538</td>\n",
       "    </tr>\n",
       "    <tr>\n",
       "      <th>std</th>\n",
       "      <td>30.166206</td>\n",
       "      <td>2.349086</td>\n",
       "      <td>1.909244</td>\n",
       "      <td>3.573349</td>\n",
       "      <td>3.113426</td>\n",
       "      <td>4.310549</td>\n",
       "      <td>1.959518</td>\n",
       "      <td>4.395306</td>\n",
       "      <td>4.109380</td>\n",
       "      <td>1.050374</td>\n",
       "      <td>2.045597</td>\n",
       "      <td>2.761949</td>\n",
       "    </tr>\n",
       "    <tr>\n",
       "      <th>min</th>\n",
       "      <td>1.000000</td>\n",
       "      <td>1.000000</td>\n",
       "      <td>1.000000</td>\n",
       "      <td>82.500000</td>\n",
       "      <td>50.000000</td>\n",
       "      <td>75.000000</td>\n",
       "      <td>32.000000</td>\n",
       "      <td>60.300000</td>\n",
       "      <td>40.300000</td>\n",
       "      <td>12.800000</td>\n",
       "      <td>22.000000</td>\n",
       "      <td>25.000000</td>\n",
       "    </tr>\n",
       "    <tr>\n",
       "      <th>25%</th>\n",
       "      <td>26.750000</td>\n",
       "      <td>1.000000</td>\n",
       "      <td>2.250000</td>\n",
       "      <td>90.675000</td>\n",
       "      <td>54.975000</td>\n",
       "      <td>84.000000</td>\n",
       "      <td>35.875000</td>\n",
       "      <td>64.600000</td>\n",
       "      <td>44.800000</td>\n",
       "      <td>14.400000</td>\n",
       "      <td>25.500000</td>\n",
       "      <td>31.000000</td>\n",
       "    </tr>\n",
       "    <tr>\n",
       "      <th>50%</th>\n",
       "      <td>52.500000</td>\n",
       "      <td>3.000000</td>\n",
       "      <td>3.000000</td>\n",
       "      <td>92.800000</td>\n",
       "      <td>56.350000</td>\n",
       "      <td>88.000000</td>\n",
       "      <td>37.000000</td>\n",
       "      <td>68.000000</td>\n",
       "      <td>46.800000</td>\n",
       "      <td>14.900000</td>\n",
       "      <td>27.000000</td>\n",
       "      <td>32.500000</td>\n",
       "    </tr>\n",
       "    <tr>\n",
       "      <th>75%</th>\n",
       "      <td>78.250000</td>\n",
       "      <td>6.000000</td>\n",
       "      <td>5.000000</td>\n",
       "      <td>94.725000</td>\n",
       "      <td>58.100000</td>\n",
       "      <td>90.000000</td>\n",
       "      <td>38.000000</td>\n",
       "      <td>72.500000</td>\n",
       "      <td>52.000000</td>\n",
       "      <td>15.725000</td>\n",
       "      <td>28.000000</td>\n",
       "      <td>34.125000</td>\n",
       "    </tr>\n",
       "    <tr>\n",
       "      <th>max</th>\n",
       "      <td>104.000000</td>\n",
       "      <td>7.000000</td>\n",
       "      <td>9.000000</td>\n",
       "      <td>103.100000</td>\n",
       "      <td>68.600000</td>\n",
       "      <td>96.500000</td>\n",
       "      <td>43.000000</td>\n",
       "      <td>77.900000</td>\n",
       "      <td>56.200000</td>\n",
       "      <td>17.800000</td>\n",
       "      <td>32.000000</td>\n",
       "      <td>40.000000</td>\n",
       "    </tr>\n",
       "  </tbody>\n",
       "</table>\n",
       "</div>"
      ],
      "text/plain": [
       "             case        site         age     hdlngth      skullw    totlngth  \\\n",
       "count  104.000000  104.000000  102.000000  104.000000  104.000000  104.000000   \n",
       "mean    52.500000    3.625000    3.833333   92.602885   56.883654   87.088462   \n",
       "std     30.166206    2.349086    1.909244    3.573349    3.113426    4.310549   \n",
       "min      1.000000    1.000000    1.000000   82.500000   50.000000   75.000000   \n",
       "25%     26.750000    1.000000    2.250000   90.675000   54.975000   84.000000   \n",
       "50%     52.500000    3.000000    3.000000   92.800000   56.350000   88.000000   \n",
       "75%     78.250000    6.000000    5.000000   94.725000   58.100000   90.000000   \n",
       "max    104.000000    7.000000    9.000000  103.100000   68.600000   96.500000   \n",
       "\n",
       "            taill    footlgth    earconch         eye       chest       belly  \n",
       "count  104.000000  103.000000  104.000000  104.000000  104.000000  104.000000  \n",
       "mean    37.009615   68.459223   48.130769   15.046154   27.000000   32.586538  \n",
       "std      1.959518    4.395306    4.109380    1.050374    2.045597    2.761949  \n",
       "min     32.000000   60.300000   40.300000   12.800000   22.000000   25.000000  \n",
       "25%     35.875000   64.600000   44.800000   14.400000   25.500000   31.000000  \n",
       "50%     37.000000   68.000000   46.800000   14.900000   27.000000   32.500000  \n",
       "75%     38.000000   72.500000   52.000000   15.725000   28.000000   34.125000  \n",
       "max     43.000000   77.900000   56.200000   17.800000   32.000000   40.000000  "
      ]
     },
     "execution_count": 164,
     "metadata": {},
     "output_type": "execute_result"
    }
   ],
   "source": [
    "dataFrame.describe()"
   ]
  },
  {
   "cell_type": "code",
   "execution_count": 165,
   "id": "0214634a",
   "metadata": {},
   "outputs": [
    {
     "data": {
      "text/plain": [
       "case        0\n",
       "site        0\n",
       "Pop         0\n",
       "sex         0\n",
       "age         2\n",
       "hdlngth     0\n",
       "skullw      0\n",
       "totlngth    0\n",
       "taill       0\n",
       "footlgth    1\n",
       "earconch    0\n",
       "eye         0\n",
       "chest       0\n",
       "belly       0\n",
       "dtype: int64"
      ]
     },
     "execution_count": 165,
     "metadata": {},
     "output_type": "execute_result"
    }
   ],
   "source": [
    "dataFrame.isnull().sum()"
   ]
  },
  {
   "cell_type": "code",
   "execution_count": 166,
   "id": "d9b904e8",
   "metadata": {},
   "outputs": [],
   "source": [
    "yeniData=dataFrame.drop([\"case\",\"site\"],axis=1)"
   ]
  },
  {
   "cell_type": "code",
   "execution_count": 167,
   "id": "d142acd1",
   "metadata": {},
   "outputs": [],
   "source": [
    "yeniData[\"sex\"]=yeniData[\"sex\"].replace([\"m\",\"f\"],[0,1])\n",
    "yeniData[\"Pop\"]=yeniData[\"Pop\"].replace([\"Vic\",\"other\"],[0,1])"
   ]
  },
  {
   "cell_type": "code",
   "execution_count": 168,
   "id": "4df89386",
   "metadata": {},
   "outputs": [
    {
     "data": {
      "text/html": [
       "<div>\n",
       "<style scoped>\n",
       "    .dataframe tbody tr th:only-of-type {\n",
       "        vertical-align: middle;\n",
       "    }\n",
       "\n",
       "    .dataframe tbody tr th {\n",
       "        vertical-align: top;\n",
       "    }\n",
       "\n",
       "    .dataframe thead th {\n",
       "        text-align: right;\n",
       "    }\n",
       "</style>\n",
       "<table border=\"1\" class=\"dataframe\">\n",
       "  <thead>\n",
       "    <tr style=\"text-align: right;\">\n",
       "      <th></th>\n",
       "      <th>Pop</th>\n",
       "      <th>sex</th>\n",
       "      <th>age</th>\n",
       "      <th>hdlngth</th>\n",
       "      <th>skullw</th>\n",
       "      <th>totlngth</th>\n",
       "      <th>taill</th>\n",
       "      <th>footlgth</th>\n",
       "      <th>earconch</th>\n",
       "      <th>eye</th>\n",
       "      <th>chest</th>\n",
       "      <th>belly</th>\n",
       "    </tr>\n",
       "  </thead>\n",
       "  <tbody>\n",
       "    <tr>\n",
       "      <th>0</th>\n",
       "      <td>0</td>\n",
       "      <td>0</td>\n",
       "      <td>8.0</td>\n",
       "      <td>94.1</td>\n",
       "      <td>60.4</td>\n",
       "      <td>89.0</td>\n",
       "      <td>36.0</td>\n",
       "      <td>74.5</td>\n",
       "      <td>54.5</td>\n",
       "      <td>15.2</td>\n",
       "      <td>28.0</td>\n",
       "      <td>36.0</td>\n",
       "    </tr>\n",
       "    <tr>\n",
       "      <th>1</th>\n",
       "      <td>0</td>\n",
       "      <td>1</td>\n",
       "      <td>6.0</td>\n",
       "      <td>92.5</td>\n",
       "      <td>57.6</td>\n",
       "      <td>91.5</td>\n",
       "      <td>36.5</td>\n",
       "      <td>72.5</td>\n",
       "      <td>51.2</td>\n",
       "      <td>16.0</td>\n",
       "      <td>28.5</td>\n",
       "      <td>33.0</td>\n",
       "    </tr>\n",
       "    <tr>\n",
       "      <th>2</th>\n",
       "      <td>0</td>\n",
       "      <td>1</td>\n",
       "      <td>6.0</td>\n",
       "      <td>94.0</td>\n",
       "      <td>60.0</td>\n",
       "      <td>95.5</td>\n",
       "      <td>39.0</td>\n",
       "      <td>75.4</td>\n",
       "      <td>51.9</td>\n",
       "      <td>15.5</td>\n",
       "      <td>30.0</td>\n",
       "      <td>34.0</td>\n",
       "    </tr>\n",
       "    <tr>\n",
       "      <th>3</th>\n",
       "      <td>0</td>\n",
       "      <td>1</td>\n",
       "      <td>6.0</td>\n",
       "      <td>93.2</td>\n",
       "      <td>57.1</td>\n",
       "      <td>92.0</td>\n",
       "      <td>38.0</td>\n",
       "      <td>76.1</td>\n",
       "      <td>52.2</td>\n",
       "      <td>15.2</td>\n",
       "      <td>28.0</td>\n",
       "      <td>34.0</td>\n",
       "    </tr>\n",
       "    <tr>\n",
       "      <th>4</th>\n",
       "      <td>0</td>\n",
       "      <td>1</td>\n",
       "      <td>2.0</td>\n",
       "      <td>91.5</td>\n",
       "      <td>56.3</td>\n",
       "      <td>85.5</td>\n",
       "      <td>36.0</td>\n",
       "      <td>71.0</td>\n",
       "      <td>53.2</td>\n",
       "      <td>15.1</td>\n",
       "      <td>28.5</td>\n",
       "      <td>33.0</td>\n",
       "    </tr>\n",
       "  </tbody>\n",
       "</table>\n",
       "</div>"
      ],
      "text/plain": [
       "   Pop  sex  age  hdlngth  skullw  totlngth  taill  footlgth  earconch   eye  \\\n",
       "0    0    0  8.0     94.1    60.4      89.0   36.0      74.5      54.5  15.2   \n",
       "1    0    1  6.0     92.5    57.6      91.5   36.5      72.5      51.2  16.0   \n",
       "2    0    1  6.0     94.0    60.0      95.5   39.0      75.4      51.9  15.5   \n",
       "3    0    1  6.0     93.2    57.1      92.0   38.0      76.1      52.2  15.2   \n",
       "4    0    1  2.0     91.5    56.3      85.5   36.0      71.0      53.2  15.1   \n",
       "\n",
       "   chest  belly  \n",
       "0   28.0   36.0  \n",
       "1   28.5   33.0  \n",
       "2   30.0   34.0  \n",
       "3   28.0   34.0  \n",
       "4   28.5   33.0  "
      ]
     },
     "execution_count": 168,
     "metadata": {},
     "output_type": "execute_result"
    }
   ],
   "source": [
    "yeniData.head()"
   ]
  },
  {
   "cell_type": "code",
   "execution_count": 169,
   "id": "d8e19abc",
   "metadata": {},
   "outputs": [
    {
     "data": {
      "text/plain": [
       "(104, 12)"
      ]
     },
     "execution_count": 169,
     "metadata": {},
     "output_type": "execute_result"
    }
   ],
   "source": [
    "yeniData.shape"
   ]
  },
  {
   "cell_type": "code",
   "execution_count": 170,
   "id": "cf722037",
   "metadata": {},
   "outputs": [
    {
     "data": {
      "text/plain": [
       "<seaborn.axisgrid.PairGrid at 0x2c2b818d2b0>"
      ]
     },
     "execution_count": 170,
     "metadata": {},
     "output_type": "execute_result"
    },
    {
     "data": {
      "image/png": "[encoded data removed]",
      "text/plain": [
       "<Figure size 180x2160 with 13 Axes>"
      ]
     },
     "metadata": {
      "needs_background": "light"
     },
     "output_type": "display_data"
    }
   ],
   "source": [
    "sbn.pairplot(yeniData,x_vars=[\"hdlngth\"])"
   ]
  },
  {
   "cell_type": "code",
   "execution_count": 171,
   "id": "870eedbf",
   "metadata": {},
   "outputs": [
    {
     "data": {
      "text/plain": [
       "Pop         0\n",
       "sex         0\n",
       "age         2\n",
       "hdlngth     0\n",
       "skullw      0\n",
       "totlngth    0\n",
       "taill       0\n",
       "footlgth    1\n",
       "earconch    0\n",
       "eye         0\n",
       "chest       0\n",
       "belly       0\n",
       "dtype: int64"
      ]
     },
     "execution_count": 171,
     "metadata": {},
     "output_type": "execute_result"
    }
   ],
   "source": [
    "yeniData.isnull().sum()"
   ]
  },
  {
   "cell_type": "code",
   "execution_count": 172,
   "id": "d023886e",
   "metadata": {},
   "outputs": [],
   "source": [
    "yeniData[\"age\"].fillna(value=yeniData[\"age\"].mean(),inplace=True)\n",
    "yeniData[\"footlgth\"].fillna(value=yeniData[\"footlgth\"].mean(),inplace=True)"
   ]
  },
  {
   "cell_type": "code",
   "execution_count": 173,
   "id": "2a39e4b9",
   "metadata": {},
   "outputs": [
    {
     "data": {
      "text/plain": [
       "Pop         0.001267\n",
       "sex        -0.107200\n",
       "age         0.311848\n",
       "hdlngth     1.000000\n",
       "skullw      0.710827\n",
       "totlngth    0.691094\n",
       "taill       0.287429\n",
       "footlgth    0.388941\n",
       "earconch    0.121463\n",
       "eye         0.347175\n",
       "chest       0.631498\n",
       "belly       0.562663\n",
       "Name: hdlngth, dtype: float64"
      ]
     },
     "execution_count": 173,
     "metadata": {},
     "output_type": "execute_result"
    }
   ],
   "source": [
    "yeniData.corr()[\"hdlngth\"]"
   ]
  },
  {
   "cell_type": "code",
   "execution_count": 174,
   "id": "2c8098c6",
   "metadata": {},
   "outputs": [],
   "source": [
    "y=yeniData[\"hdlngth\"].values\n",
    "x=yeniData.drop(\"hdlngth\",axis=1).values"
   ]
  },
  {
   "cell_type": "code",
   "execution_count": 175,
   "id": "c9b159b0",
   "metadata": {},
   "outputs": [
    {
     "data": {
      "text/plain": [
       "array([ 94.1,  92.5,  94. ,  93.2,  91.5,  93.1,  95.3,  94.8,  93.4,\n",
       "        91.8,  93.3,  94.9,  95.1,  95.4,  92.9,  91.6,  94.7,  93.5,\n",
       "        94.4,  94.8,  95.9,  96.3,  92.5,  94.4,  95.8,  96. ,  90.5,\n",
       "        93.8,  92.8,  92.1,  92.8,  94.3,  91.4,  90.6,  94.4,  93.3,\n",
       "        89.3,  92.4,  84.7,  91. ,  88.4,  85.3,  90. ,  85.1,  90.7,\n",
       "        91.4,  90.1,  98.6,  95.4,  91.6,  95.6,  97.6,  93.1,  96.9,\n",
       "       103.1,  99.9,  95.1,  94.5, 102.5,  91.3,  95.7,  91.3,  92. ,\n",
       "        96.9,  93.5,  90.4,  93.3,  94.1,  98. ,  91.9,  92.8,  85.9,\n",
       "        82.5,  88.7,  93.8,  92.4,  93.6,  86.5,  85.8,  86.7,  90.6,\n",
       "        86. ,  90. ,  88.4,  89.5,  88.2,  98.5,  89.6,  97.7,  92.6,\n",
       "        97.8,  90.7,  89.2,  91.8,  91.6,  94.8,  91. ,  93.2,  93.3,\n",
       "        89.5,  88.6,  92.4,  91.5,  93.6])"
      ]
     },
     "execution_count": 175,
     "metadata": {},
     "output_type": "execute_result"
    }
   ],
   "source": [
    "y"
   ]
  },
  {
   "cell_type": "code",
   "execution_count": 176,
   "id": "1b138b93",
   "metadata": {},
   "outputs": [
    {
     "data": {
      "text/plain": [
       "array([[ 0. ,  0. ,  8. , ..., 15.2, 28. , 36. ],\n",
       "       [ 0. ,  1. ,  6. , ..., 16. , 28.5, 33. ],\n",
       "       [ 0. ,  1. ,  6. , ..., 15.5, 30. , 34. ],\n",
       "       ...,\n",
       "       [ 1. ,  1. ,  6. , ..., 13. , 25. , 30. ],\n",
       "       [ 1. ,  0. ,  4. , ..., 15.4, 25. , 29. ],\n",
       "       [ 1. ,  1. ,  3. , ..., 14.8, 28.5, 33.5]])"
      ]
     },
     "execution_count": 176,
     "metadata": {},
     "output_type": "execute_result"
    }
   ],
   "source": [
    "x"
   ]
  },
  {
   "cell_type": "code",
   "execution_count": 177,
   "id": "1a411bce",
   "metadata": {},
   "outputs": [],
   "source": [
    "from sklearn.model_selection import train_test_split"
   ]
  },
  {
   "cell_type": "code",
   "execution_count": 178,
   "id": "8d21bdfe",
   "metadata": {},
   "outputs": [],
   "source": [
    "x_train,x_test,y_train,y_test=train_test_split(x,y,test_size=0.3,random_state=10)"
   ]
  },
  {
   "cell_type": "code",
   "execution_count": 179,
   "id": "6d3fe287",
   "metadata": {},
   "outputs": [],
   "source": [
    "from sklearn.preprocessing import MinMaxScaler"
   ]
  },
  {
   "cell_type": "code",
   "execution_count": 180,
   "id": "2dc46400",
   "metadata": {},
   "outputs": [],
   "source": [
    "scaler=MinMaxScaler()"
   ]
  },
  {
   "cell_type": "code",
   "execution_count": 181,
   "id": "a8c39273",
   "metadata": {},
   "outputs": [],
   "source": [
    "x_train=scaler.fit_transform(x_train)"
   ]
  },
  {
   "cell_type": "code",
   "execution_count": 182,
   "id": "d9965b5e",
   "metadata": {},
   "outputs": [],
   "source": [
    "x_test=scaler.transform(x_test)"
   ]
  },
  {
   "cell_type": "code",
   "execution_count": 183,
   "id": "9a8fff3b",
   "metadata": {},
   "outputs": [
    {
     "data": {
      "text/plain": [
       "(72, 11)"
      ]
     },
     "execution_count": 183,
     "metadata": {},
     "output_type": "execute_result"
    }
   ],
   "source": [
    "x_train.shape"
   ]
  },
  {
   "cell_type": "code",
   "execution_count": 212,
   "id": "104aed5b",
   "metadata": {},
   "outputs": [],
   "source": [
    "from tensorflow.keras.models import Sequential\n",
    "from tensorflow.keras.layers import Dense"
   ]
  },
  {
   "cell_type": "code",
   "execution_count": 231,
   "id": "ece3383a",
   "metadata": {},
   "outputs": [
    {
     "ename": "SyntaxError",
     "evalue": "invalid syntax (<ipython-input-231-2daa0061a213>, line 4)",
     "output_type": "error",
     "traceback": [
      "\u001b[1;36m  File \u001b[1;32m\"<ipython-input-231-2daa0061a213>\"\u001b[1;36m, line \u001b[1;32m4\u001b[0m\n\u001b[1;33m    model.add(Dense(10activation=\"relu\"))\u001b[0m\n\u001b[1;37m                      ^\u001b[0m\n\u001b[1;31mSyntaxError\u001b[0m\u001b[1;31m:\u001b[0m invalid syntax\n"
     ]
    }
   ],
   "source": [
    "model= Sequential()\n",
    "\n",
    "model.add(Dense(10,activation=\"relu\"))\n",
    "model.add(Dense(10activation=\"relu\"))\n",
    "model.add(Dense(10,activation=\"relu\"))\n",
    "model.add(Dense(10,activation=\"relu\"))\n",
    "model.add(Dense(10,activation=\"relu\"))\n",
    "\n",
    "\n",
    "model.add(Dense(1))\n",
    "\n",
    "model.compile(optimizer=\"adam\",loss=\"mse\")"
   ]
  },
  {
   "cell_type": "code",
   "execution_count": 232,
   "id": "c49e7892",
   "metadata": {},
   "outputs": [
    {
     "name": "stdout",
     "output_type": "stream",
     "text": [
      "Epoch 1/100\n",
      "3/3 [==============================] - 0s 41ms/step - loss: 5622.5977 - val_loss: 5616.2490\n",
      "Epoch 2/100\n",
      "3/3 [==============================] - 0s 18ms/step - loss: 5550.1587 - val_loss: 5547.9521\n",
      "Epoch 3/100\n",
      "3/3 [==============================] - 0s 19ms/step - loss: 5477.0488 - val_loss: 5478.8701\n",
      "Epoch 4/100\n",
      "3/3 [==============================] - 0s 13ms/step - loss: 5402.5884 - val_loss: 5409.1929\n",
      "Epoch 5/100\n",
      "3/3 [==============================] - 0s 18ms/step - loss: 5327.5034 - val_loss: 5338.7070\n",
      "Epoch 6/100\n",
      "3/3 [==============================] - 0s 17ms/step - loss: 5252.3994 - val_loss: 5267.1465\n",
      "Epoch 7/100\n",
      "3/3 [==============================] - 0s 18ms/step - loss: 5175.4551 - val_loss: 5194.9980\n",
      "Epoch 8/100\n",
      "3/3 [==============================] - 0s 14ms/step - loss: 5097.5430 - val_loss: 5122.3159\n",
      "Epoch 9/100\n",
      "3/3 [==============================] - 0s 13ms/step - loss: 5019.9385 - val_loss: 5048.8516\n",
      "Epoch 10/100\n",
      "3/3 [==============================] - 0s 17ms/step - loss: 4941.1152 - val_loss: 4974.8022\n",
      "Epoch 11/100\n",
      "3/3 [==============================] - 0s 17ms/step - loss: 4862.5605 - val_loss: 4899.9849\n",
      "Epoch 12/100\n",
      "3/3 [==============================] - 0s 15ms/step - loss: 4781.7485 - val_loss: 4824.4131\n",
      "Epoch 13/100\n",
      "3/3 [==============================] - 0s 15ms/step - loss: 4701.1963 - val_loss: 4747.7124\n",
      "Epoch 14/100\n",
      "3/3 [==============================] - 0s 20ms/step - loss: 4619.3042 - val_loss: 4670.4038\n",
      "Epoch 15/100\n",
      "3/3 [==============================] - 0s 16ms/step - loss: 4536.5527 - val_loss: 4592.5508\n",
      "Epoch 16/100\n",
      "3/3 [==============================] - 0s 13ms/step - loss: 4454.0669 - val_loss: 4514.0205\n",
      "Epoch 17/100\n",
      "3/3 [==============================] - 0s 13ms/step - loss: 4369.9971 - val_loss: 4434.8950\n",
      "Epoch 18/100\n",
      "3/3 [==============================] - 0s 14ms/step - loss: 4286.3105 - val_loss: 4355.1333\n",
      "Epoch 19/100\n",
      "3/3 [==============================] - 0s 16ms/step - loss: 4201.7051 - val_loss: 4275.2207\n",
      "Epoch 20/100\n",
      "3/3 [==============================] - 0s 15ms/step - loss: 4117.0801 - val_loss: 4194.9688\n",
      "Epoch 21/100\n",
      "3/3 [==============================] - 0s 20ms/step - loss: 4032.0652 - val_loss: 4114.3286\n",
      "Epoch 22/100\n",
      "3/3 [==============================] - 0s 16ms/step - loss: 3946.7178 - val_loss: 4032.9224\n",
      "Epoch 23/100\n",
      "3/3 [==============================] - 0s 13ms/step - loss: 3861.6233 - val_loss: 3950.7634\n",
      "Epoch 24/100\n",
      "3/3 [==============================] - 0s 20ms/step - loss: 3774.7986 - val_loss: 3868.3267\n",
      "Epoch 25/100\n",
      "3/3 [==============================] - 0s 16ms/step - loss: 3687.9131 - val_loss: 3785.5049\n",
      "Epoch 26/100\n",
      "3/3 [==============================] - 0s 14ms/step - loss: 3600.6619 - val_loss: 3702.2854\n",
      "Epoch 27/100\n",
      "3/3 [==============================] - 0s 13ms/step - loss: 3513.7717 - val_loss: 3618.4194\n",
      "Epoch 28/100\n",
      "3/3 [==============================] - 0s 16ms/step - loss: 3425.7468 - val_loss: 3534.2722\n",
      "Epoch 29/100\n",
      "3/3 [==============================] - 0s 17ms/step - loss: 3337.4175 - val_loss: 3449.5935\n",
      "Epoch 30/100\n",
      "3/3 [==============================] - 0s 14ms/step - loss: 3249.6089 - val_loss: 3364.2937\n",
      "Epoch 31/100\n",
      "3/3 [==============================] - 0s 13ms/step - loss: 3160.9893 - val_loss: 3278.9028\n",
      "Epoch 32/100\n",
      "3/3 [==============================] - 0s 15ms/step - loss: 3072.2400 - val_loss: 3193.4341\n",
      "Epoch 33/100\n",
      "3/3 [==============================] - 0s 17ms/step - loss: 2983.8499 - val_loss: 3107.7236\n",
      "Epoch 34/100\n",
      "3/3 [==============================] - 0s 15ms/step - loss: 2895.0149 - val_loss: 3021.6582\n",
      "Epoch 35/100\n",
      "3/3 [==============================] - 0s 15ms/step - loss: 2806.6504 - val_loss: 2934.8843\n",
      "Epoch 36/100\n",
      "3/3 [==============================] - 0s 15ms/step - loss: 2717.4211 - val_loss: 2847.2312\n",
      "Epoch 37/100\n",
      "3/3 [==============================] - 0s 14ms/step - loss: 2628.0273 - val_loss: 2758.7012\n",
      "Epoch 38/100\n",
      "3/3 [==============================] - 0s 17ms/step - loss: 2538.2053 - val_loss: 2669.4995\n",
      "Epoch 39/100\n",
      "3/3 [==============================] - 0s 15ms/step - loss: 2447.1104 - val_loss: 2579.5938\n",
      "Epoch 40/100\n",
      "3/3 [==============================] - 0s 16ms/step - loss: 2354.3584 - val_loss: 2489.2129\n",
      "Epoch 41/100\n",
      "3/3 [==============================] - 0s 12ms/step - loss: 2261.7041 - val_loss: 2398.7610\n",
      "Epoch 42/100\n",
      "3/3 [==============================] - 0s 13ms/step - loss: 2169.2019 - val_loss: 2308.6328\n",
      "Epoch 43/100\n",
      "3/3 [==============================] - 0s 15ms/step - loss: 2076.5071 - val_loss: 2219.1926\n",
      "Epoch 44/100\n",
      "3/3 [==============================] - 0s 16ms/step - loss: 1984.9244 - val_loss: 2130.5337\n",
      "Epoch 45/100\n",
      "3/3 [==============================] - 0s 20ms/step - loss: 1894.6326 - val_loss: 2042.7913\n",
      "Epoch 46/100\n",
      "3/3 [==============================] - 0s 14ms/step - loss: 1805.4243 - val_loss: 1956.2347\n",
      "Epoch 47/100\n",
      "3/3 [==============================] - 0s 17ms/step - loss: 1717.8782 - val_loss: 1871.1237\n",
      "Epoch 48/100\n",
      "3/3 [==============================] - 0s 18ms/step - loss: 1631.9185 - val_loss: 1787.7251\n",
      "Epoch 49/100\n",
      "3/3 [==============================] - 0s 17ms/step - loss: 1548.2651 - val_loss: 1706.2646\n",
      "Epoch 50/100\n",
      "3/3 [==============================] - 0s 18ms/step - loss: 1466.0002 - val_loss: 1626.9303\n",
      "Epoch 51/100\n",
      "3/3 [==============================] - 0s 15ms/step - loss: 1386.8767 - val_loss: 1549.4441\n",
      "Epoch 52/100\n",
      "3/3 [==============================] - 0s 19ms/step - loss: 1309.6744 - val_loss: 1474.3345\n",
      "Epoch 53/100\n",
      "3/3 [==============================] - 0s 14ms/step - loss: 1234.7302 - val_loss: 1401.5173\n",
      "Epoch 54/100\n",
      "3/3 [==============================] - 0s 15ms/step - loss: 1162.7108 - val_loss: 1330.9778\n",
      "Epoch 55/100\n",
      "3/3 [==============================] - 0s 18ms/step - loss: 1093.1730 - val_loss: 1263.0282\n",
      "Epoch 56/100\n",
      "3/3 [==============================] - 0s 15ms/step - loss: 1026.9814 - val_loss: 1197.6501\n",
      "Epoch 57/100\n",
      "3/3 [==============================] - 0s 18ms/step - loss: 962.8032 - val_loss: 1135.0977\n",
      "Epoch 58/100\n",
      "3/3 [==============================] - 0s 13ms/step - loss: 902.3418 - val_loss: 1074.9531\n",
      "Epoch 59/100\n",
      "3/3 [==============================] - 0s 14ms/step - loss: 844.9976 - val_loss: 1017.5905\n",
      "Epoch 60/100\n",
      "3/3 [==============================] - 0s 18ms/step - loss: 789.6975 - val_loss: 963.5364\n",
      "Epoch 61/100\n",
      "3/3 [==============================] - 0s 19ms/step - loss: 737.8760 - val_loss: 912.3911\n",
      "Epoch 62/100\n",
      "3/3 [==============================] - 0s 16ms/step - loss: 689.5872 - val_loss: 863.9637\n",
      "Epoch 63/100\n",
      "3/3 [==============================] - 0s 13ms/step - loss: 644.2748 - val_loss: 818.2044\n",
      "Epoch 64/100\n",
      "3/3 [==============================] - 0s 13ms/step - loss: 601.6862 - val_loss: 775.0756\n",
      "Epoch 65/100\n",
      "3/3 [==============================] - 0s 15ms/step - loss: 561.7463 - val_loss: 734.5823\n",
      "Epoch 66/100\n",
      "3/3 [==============================] - 0s 20ms/step - loss: 524.9666 - val_loss: 696.5456\n",
      "Epoch 67/100\n",
      "3/3 [==============================] - 0s 16ms/step - loss: 490.1455 - val_loss: 661.1587\n",
      "Epoch 68/100\n",
      "3/3 [==============================] - 0s 12ms/step - loss: 458.4471 - val_loss: 627.9723\n",
      "Epoch 69/100\n",
      "3/3 [==============================] - 0s 13ms/step - loss: 429.2261 - val_loss: 597.1111\n",
      "Epoch 70/100\n",
      "3/3 [==============================] - 0s 18ms/step - loss: 402.7948 - val_loss: 568.8021\n",
      "Epoch 71/100\n",
      "3/3 [==============================] - 0s 18ms/step - loss: 378.6963 - val_loss: 543.0247\n",
      "Epoch 72/100\n",
      "3/3 [==============================] - 0s 14ms/step - loss: 357.0961 - val_loss: 519.7491\n",
      "Epoch 73/100\n",
      "3/3 [==============================] - 0s 12ms/step - loss: 337.3664 - val_loss: 498.5771\n",
      "Epoch 74/100\n",
      "3/3 [==============================] - 0s 15ms/step - loss: 319.2863 - val_loss: 478.8925\n",
      "Epoch 75/100\n",
      "3/3 [==============================] - 0s 12ms/step - loss: 303.8291 - val_loss: 460.5806\n",
      "Epoch 76/100\n",
      "3/3 [==============================] - 0s 12ms/step - loss: 289.4884 - val_loss: 443.8481\n",
      "Epoch 77/100\n",
      "3/3 [==============================] - 0s 11ms/step - loss: 276.3332 - val_loss: 428.8352\n",
      "Epoch 78/100\n",
      "3/3 [==============================] - 0s 16ms/step - loss: 264.8572 - val_loss: 415.2690\n",
      "Epoch 79/100\n",
      "3/3 [==============================] - 0s 17ms/step - loss: 255.7625 - val_loss: 402.9733\n",
      "Epoch 80/100\n",
      "3/3 [==============================] - 0s 16ms/step - loss: 246.8507 - val_loss: 392.3318\n",
      "Epoch 81/100\n",
      "3/3 [==============================] - 0s 17ms/step - loss: 238.6146 - val_loss: 383.0811\n",
      "Epoch 82/100\n",
      "3/3 [==============================] - 0s 15ms/step - loss: 233.0692 - val_loss: 374.3178\n",
      "Epoch 83/100\n",
      "3/3 [==============================] - 0s 19ms/step - loss: 227.0617 - val_loss: 366.8251\n",
      "Epoch 84/100\n",
      "3/3 [==============================] - 0s 17ms/step - loss: 222.2229 - val_loss: 360.2813\n",
      "Epoch 85/100\n",
      "3/3 [==============================] - 0s 19ms/step - loss: 218.5523 - val_loss: 354.2752\n",
      "Epoch 86/100\n",
      "3/3 [==============================] - 0s 18ms/step - loss: 214.8300 - val_loss: 348.7262\n",
      "Epoch 87/100\n",
      "3/3 [==============================] - 0s 17ms/step - loss: 211.1595 - val_loss: 343.7139\n",
      "Epoch 88/100\n",
      "3/3 [==============================] - 0s 18ms/step - loss: 208.5459 - val_loss: 338.8839\n",
      "Epoch 89/100\n",
      "3/3 [==============================] - 0s 14ms/step - loss: 206.1106 - val_loss: 334.5833\n",
      "Epoch 90/100\n",
      "3/3 [==============================] - 0s 19ms/step - loss: 203.8276 - val_loss: 330.7112\n",
      "Epoch 91/100\n",
      "3/3 [==============================] - 0s 19ms/step - loss: 202.4462 - val_loss: 327.2778\n",
      "Epoch 92/100\n",
      "3/3 [==============================] - 0s 17ms/step - loss: 200.8595 - val_loss: 324.5287\n",
      "Epoch 93/100\n",
      "3/3 [==============================] - 0s 17ms/step - loss: 199.9447 - val_loss: 321.8412\n",
      "Epoch 94/100\n",
      "3/3 [==============================] - 0s 19ms/step - loss: 198.6685 - val_loss: 319.4032\n",
      "Epoch 95/100\n",
      "3/3 [==============================] - 0s 16ms/step - loss: 197.9039 - val_loss: 317.2979\n",
      "Epoch 96/100\n",
      "3/3 [==============================] - 0s 13ms/step - loss: 197.1618 - val_loss: 315.5630\n",
      "Epoch 97/100\n",
      "3/3 [==============================] - 0s 11ms/step - loss: 196.4026 - val_loss: 314.1213\n",
      "Epoch 98/100\n",
      "3/3 [==============================] - 0s 17ms/step - loss: 195.9832 - val_loss: 312.9677\n",
      "Epoch 99/100\n",
      "3/3 [==============================] - 0s 13ms/step - loss: 195.5216 - val_loss: 312.2214\n",
      "Epoch 100/100\n",
      "3/3 [==============================] - 0s 15ms/step - loss: 195.2810 - val_loss: 311.4219\n"
     ]
    },
    {
     "data": {
      "text/plain": [
       "<keras.callbacks.History at 0x2c2baf23bb0>"
      ]
     },
     "execution_count": 232,
     "metadata": {},
     "output_type": "execute_result"
    }
   ],
   "source": [
    "model.fit( x=x_train, y=y_train, validation_data=(x_test,y_test), epochs=100)"
   ]
  },
  {
   "cell_type": "code",
   "execution_count": 233,
   "id": "91fe0ede",
   "metadata": {},
   "outputs": [],
   "source": [
    "kayipVeri=pd.DataFrame(model.history.history)"
   ]
  },
  {
   "cell_type": "code",
   "execution_count": 234,
   "id": "07adbd17",
   "metadata": {},
   "outputs": [
    {
     "data": {
      "text/plain": [
       "<AxesSubplot:>"
      ]
     },
     "execution_count": 234,
     "metadata": {},
     "output_type": "execute_result"
    },
    {
     "data": {
      "image/png": "[encoded data removed]",
      "text/plain": [
       "<Figure size 432x288 with 1 Axes>"
      ]
     },
     "metadata": {
      "needs_background": "light"
     },
     "output_type": "display_data"
    }
   ],
   "source": [
    "kayipVeri.plot()"
   ]
  },
  {
   "cell_type": "code",
   "execution_count": 235,
   "id": "33105005",
   "metadata": {},
   "outputs": [],
   "source": [
    "from sklearn.metrics import mean_absolute_error, mean_squared_error"
   ]
  },
  {
   "cell_type": "code",
   "execution_count": 236,
   "id": "a3641c0a",
   "metadata": {},
   "outputs": [
    {
     "name": "stdout",
     "output_type": "stream",
     "text": [
      "1/1 [==============================] - 0s 69ms/step\n"
     ]
    }
   ],
   "source": [
    "tahminler=model.predict(x_test)"
   ]
  },
  {
   "cell_type": "code",
   "execution_count": 237,
   "id": "ed49d150",
   "metadata": {},
   "outputs": [
    {
     "data": {
      "text/plain": [
       "14.22858192920685"
      ]
     },
     "execution_count": 237,
     "metadata": {},
     "output_type": "execute_result"
    }
   ],
   "source": [
    "mean_absolute_error(y_test,tahminler)"
   ]
  },
  {
   "cell_type": "code",
   "execution_count": 238,
   "id": "146de99d",
   "metadata": {},
   "outputs": [
    {
     "data": {
      "text/plain": [
       "311.42195731595234"
      ]
     },
     "execution_count": 238,
     "metadata": {},
     "output_type": "execute_result"
    }
   ],
   "source": [
    "mean_squared_error(y_test,tahminler)"
   ]
  },
  {
   "cell_type": "code",
   "execution_count": 239,
   "id": "2b897791",
   "metadata": {},
   "outputs": [
    {
     "data": {
      "text/plain": [
       "[<matplotlib.lines.Line2D at 0x2c2bc02edf0>]"
      ]
     },
     "execution_count": 239,
     "metadata": {},
     "output_type": "execute_result"
    },
    {
     "data": {
      "image/png": "[encoded data removed]",
      "text/plain": [
       "<Figure size 432x288 with 1 Axes>"
      ]
     },
     "metadata": {
      "needs_background": "light"
     },
     "output_type": "display_data"
    }
   ],
   "source": [
    "plt.scatter(y_test,tahminler)\n",
    "plt.plot(y_test,y_test,\"g-*\")"
   ]
  },
  {
   "cell_type": "code",
   "execution_count": 240,
   "id": "1b4c6759",
   "metadata": {},
   "outputs": [
    {
     "data": {
      "text/plain": [
       "Pop          0.0\n",
       "sex          1.0\n",
       "age          1.0\n",
       "hdlngth     93.1\n",
       "skullw      54.8\n",
       "totlngth    90.5\n",
       "taill       35.5\n",
       "footlgth    73.2\n",
       "earconch    53.6\n",
       "eye         14.2\n",
       "chest       30.0\n",
       "belly       32.0\n",
       "Name: 5, dtype: float64"
      ]
     },
     "execution_count": 240,
     "metadata": {},
     "output_type": "execute_result"
    }
   ],
   "source": [
    "yeniData.iloc[5]"
   ]
  },
  {
   "cell_type": "code",
   "execution_count": 241,
   "id": "28234f01",
   "metadata": {},
   "outputs": [],
   "source": [
    "yenisican=yeniData.drop(\"age\",axis=1).iloc[5]"
   ]
  },
  {
   "cell_type": "code",
   "execution_count": 242,
   "id": "52871bc0",
   "metadata": {},
   "outputs": [
    {
     "data": {
      "text/plain": [
       "Pop          0.0\n",
       "sex          1.0\n",
       "hdlngth     93.1\n",
       "skullw      54.8\n",
       "totlngth    90.5\n",
       "taill       35.5\n",
       "footlgth    73.2\n",
       "earconch    53.6\n",
       "eye         14.2\n",
       "chest       30.0\n",
       "belly       32.0\n",
       "Name: 5, dtype: float64"
      ]
     },
     "execution_count": 242,
     "metadata": {},
     "output_type": "execute_result"
    }
   ],
   "source": [
    "yenisican"
   ]
  },
  {
   "cell_type": "code",
   "execution_count": 243,
   "id": "43a3cc86",
   "metadata": {},
   "outputs": [],
   "source": [
    "yenisican=scaler.transform(yenisican.values.reshape(-1,11))"
   ]
  },
  {
   "cell_type": "code",
   "execution_count": 244,
   "id": "c8425459",
   "metadata": {},
   "outputs": [
    {
     "name": "stdout",
     "output_type": "stream",
     "text": [
      "1/1 [==============================] - 0s 83ms/step\n"
     ]
    },
    {
     "data": {
      "text/plain": [
       "array([[183.71571]], dtype=float32)"
      ]
     },
     "execution_count": 244,
     "metadata": {},
     "output_type": "execute_result"
    }
   ],
   "source": [
    "model.predict(yenisican)"
   ]
  },
  {
   "cell_type": "code",
   "execution_count": null,
   "id": "85a22316",
   "metadata": {},
   "outputs": [],
   "source": []
  }
 ],
 "metadata": {
  "kernelspec": {
   "display_name": "Python 3",
   "language": "python",
   "name": "python3"
  },
  "language_info": {
   "codemirror_mode": {
    "name": "ipython",
    "version": 3
   },
   "file_extension": ".py",
   "mimetype": "text/x-python",
   "name": "python",
   "nbconvert_exporter": "python",
   "pygments_lexer": "ipython3",
   "version": "3.8.8"
  }
 },
 "nbformat": 4,
 "nbformat_minor": 5
}
