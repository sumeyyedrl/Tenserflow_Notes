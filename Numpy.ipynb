{
 "cells": [
  {
   "cell_type": "code",
   "execution_count": 1,
   "id": "10ad8d09",
   "metadata": {},
   "outputs": [],
   "source": [
    "import numpy as np"
   ]
  },
  {
   "cell_type": "markdown",
   "id": "1bd7b864",
   "metadata": {},
   "source": [
    "## array"
   ]
  },
  {
   "cell_type": "code",
   "execution_count": 3,
   "id": "8320dd35",
   "metadata": {},
   "outputs": [
    {
     "name": "stdout",
     "output_type": "stream",
     "text": [
      "<class 'list'>\n"
     ]
    },
    {
     "data": {
      "text/plain": [
       "array([10, 20, 30, 40])"
      ]
     },
     "execution_count": 3,
     "metadata": {},
     "output_type": "execute_result"
    }
   ],
   "source": [
    "liste=[10,20,30,40]\n",
    "print(type(liste))\n",
    "np.array(liste)"
   ]
  },
  {
   "cell_type": "code",
   "execution_count": 4,
   "id": "f6247ab4",
   "metadata": {},
   "outputs": [
    {
     "data": {
      "text/plain": [
       "array([[10, 20, 30],\n",
       "       [20, 30, 40],\n",
       "       [30, 40, 50]])"
      ]
     },
     "execution_count": 4,
     "metadata": {},
     "output_type": "execute_result"
    }
   ],
   "source": [
    "matrixListe=[[10,20,30],[20,30,40],[30,40,50]]\n",
    "np.array(matrixListe)"
   ]
  },
  {
   "cell_type": "markdown",
   "id": "95e42b7b",
   "metadata": {},
   "source": [
    "## methodlar"
   ]
  },
  {
   "cell_type": "markdown",
   "id": "4ce148dc",
   "metadata": {},
   "source": [
    "##### arange"
   ]
  },
  {
   "cell_type": "code",
   "execution_count": 6,
   "id": "803ffa66",
   "metadata": {},
   "outputs": [
    {
     "data": {
      "text/plain": [
       "array([0, 1, 2, 3, 4, 5, 6, 7, 8, 9])"
      ]
     },
     "execution_count": 6,
     "metadata": {},
     "output_type": "execute_result"
    }
   ],
   "source": [
    "np.arange(0,10,2) # =range(0,10,2)"
   ]
  },
  {
   "cell_type": "markdown",
   "id": "b6fe3275",
   "metadata": {},
   "source": [
    "#### zeros-ones"
   ]
  },
  {
   "cell_type": "code",
   "execution_count": 10,
   "id": "0579a011",
   "metadata": {},
   "outputs": [
    {
     "name": "stdout",
     "output_type": "stream",
     "text": [
      "[0. 0. 0. 0. 0.]\n",
      "[[1. 1.]\n",
      " [1. 1.]]\n"
     ]
    }
   ],
   "source": [
    "print(np.zeros(5))\n",
    "print(np.ones((2,2)))"
   ]
  },
  {
   "cell_type": "markdown",
   "id": "07c0bf88",
   "metadata": {},
   "source": [
    "#### linspace"
   ]
  },
  {
   "cell_type": "code",
   "execution_count": 16,
   "id": "c37dffe6",
   "metadata": {},
   "outputs": [
    {
     "data": {
      "text/plain": [
       "array([ 0.        ,  1.42857143,  2.85714286,  4.28571429,  5.71428571,\n",
       "        7.14285714,  8.57142857, 10.        , 11.42857143, 12.85714286,\n",
       "       14.28571429, 15.71428571, 17.14285714, 18.57142857, 20.        ])"
      ]
     },
     "execution_count": 16,
     "metadata": {},
     "output_type": "execute_result"
    }
   ],
   "source": [
    "np.linspace(0,20,15) # 0'la 20 arasında, eşit farklı, 6 adet rakam seçilir."
   ]
  },
  {
   "cell_type": "markdown",
   "id": "5162d7ad",
   "metadata": {},
   "source": [
    "#### eye"
   ]
  },
  {
   "cell_type": "code",
   "execution_count": 18,
   "id": "27aa9b69",
   "metadata": {},
   "outputs": [
    {
     "data": {
      "text/plain": [
       "array([[1., 0., 0., 0., 0.],\n",
       "       [0., 1., 0., 0., 0.],\n",
       "       [0., 0., 1., 0., 0.],\n",
       "       [0., 0., 0., 1., 0.],\n",
       "       [0., 0., 0., 0., 1.]])"
      ]
     },
     "execution_count": 18,
     "metadata": {},
     "output_type": "execute_result"
    }
   ],
   "source": [
    "np.eye(5) # 5'e 5 matris, diagonal 1 gerisi 0"
   ]
  },
  {
   "cell_type": "markdown",
   "id": "e93fff1c",
   "metadata": {},
   "source": [
    "#### random"
   ]
  },
  {
   "cell_type": "code",
   "execution_count": 26,
   "id": "f1ca91f7",
   "metadata": {},
   "outputs": [
    {
     "name": "stdout",
     "output_type": "stream",
     "text": [
      "[ 0.4932891   2.20923101 -0.01793614 -1.02784392]\n",
      "[[ 0.213812    0.33284577 -1.40630251 -0.78451957]\n",
      " [-2.04661309 -2.07111977  0.03446156  0.17614752]\n",
      " [-1.22235207 -0.14651016  0.25528577  0.28159898]\n",
      " [-0.6446936  -0.09157889 -0.1714209   0.45849699]]\n",
      "8\n",
      "[157 276 222 245  47]\n"
     ]
    }
   ],
   "source": [
    "print(np.random.randn(4)) # standart distribüsyona göre değerler üretir\n",
    "print(np.random.randn(4,4))\n",
    "print(np.random.randint(1,10)) # 1 dönebilir 10 dönemez\n",
    "print(np.random.randint(1,300,5))"
   ]
  },
  {
   "cell_type": "markdown",
   "id": "19cdd61a",
   "metadata": {},
   "source": [
    "### Dizi metodları"
   ]
  },
  {
   "cell_type": "markdown",
   "id": "4342a2b5",
   "metadata": {},
   "source": [
    "#### reshape"
   ]
  },
  {
   "cell_type": "code",
   "execution_count": 33,
   "id": "18f05766",
   "metadata": {},
   "outputs": [
    {
     "name": "stdout",
     "output_type": "stream",
     "text": [
      "[27 64 82 96 17 66 22 77 66 44 42  0  8 12 86 70 63 42 43 45]\n"
     ]
    },
    {
     "data": {
      "text/plain": [
       "array([[27, 64, 82, 96],\n",
       "       [17, 66, 22, 77],\n",
       "       [66, 44, 42,  0],\n",
       "       [ 8, 12, 86, 70],\n",
       "       [63, 42, 43, 45]])"
      ]
     },
     "execution_count": 33,
     "metadata": {},
     "output_type": "execute_result"
    }
   ],
   "source": [
    "dizi=np.random.randint(0,100,20)\n",
    "print(dizi)\n",
    "dizi.reshape(5,4) # sayıların uyuşması gerekir! dizi değişkenini değiştirmez!!!"
   ]
  },
  {
   "cell_type": "markdown",
   "id": "0d57612e",
   "metadata": {},
   "source": [
    "#### max-min / argmax-argmin"
   ]
  },
  {
   "cell_type": "code",
   "execution_count": 35,
   "id": "34f41dda",
   "metadata": {},
   "outputs": [
    {
     "name": "stdout",
     "output_type": "stream",
     "text": [
      "96\n",
      "3\n",
      "0\n",
      "11\n"
     ]
    }
   ],
   "source": [
    "print(dizi.max())\n",
    "print(dizi.argmax()) # max indexi\n",
    "print(dizi.min())\n",
    "print(dizi.argmin()) # min indexi"
   ]
  },
  {
   "cell_type": "markdown",
   "id": "e160e80e",
   "metadata": {},
   "source": [
    "## Slicing-Index"
   ]
  },
  {
   "cell_type": "code",
   "execution_count": 48,
   "id": "2da6048a",
   "metadata": {},
   "outputs": [
    {
     "name": "stdout",
     "output_type": "stream",
     "text": [
      "[ 0  1  2 30 40 50 60 70  8  9 10 11 12 13 14]\n",
      "[ 0  1  2 30 40 50 60 70  8  9 10 11 -5 -5 -5]\n"
     ]
    }
   ],
   "source": [
    "dizi=np.arange(0,15)\n",
    "dizi1=[30,40,50,60,70]\n",
    "dizi[3:8]=dizi1\n",
    "print(dizi)\n",
    "dizi[12:]=-5\n",
    "print(dizi)"
   ]
  },
  {
   "cell_type": "code",
   "execution_count": 52,
   "id": "f0c29b30",
   "metadata": {},
   "outputs": [
    {
     "data": {
      "text/plain": [
       "array([  0,   1,   2,   3,   4, 700, 700, 700, 700, 700])"
      ]
     },
     "execution_count": 52,
     "metadata": {},
     "output_type": "execute_result"
    }
   ],
   "source": [
    "ornekDizi = np.arange(0,10) # numpy dizilerinin bir kısma başka diziye aktarılıp\n",
    "slicingDizi = ornekDizi[5:] # değiştirilirse orjinal dizideki değerler de değişir\n",
    "slicingDizi[:]=700  # Bunun önüne geçmek için orijinal dizinin .copy fonksiyonuyla\n",
    "ornekDizi           #kopyası alınır ve bunun üzerinden işlemler yapılır"
   ]
  },
  {
   "cell_type": "code",
   "execution_count": 54,
   "id": "23f089ec",
   "metadata": {},
   "outputs": [
    {
     "data": {
      "text/plain": [
       "array([ 7, 10])"
      ]
     },
     "execution_count": 54,
     "metadata": {},
     "output_type": "execute_result"
    }
   ],
   "source": [
    "yeniListe= [[0,1,2],[3,4,5],[6,7,8],[9,10,11]]\n",
    "yeniMatrix=np.array(yeniListe)\n",
    "yeniMatrix[2:,1]"
   ]
  },
  {
   "cell_type": "code",
   "execution_count": 56,
   "id": "112d4b7e",
   "metadata": {},
   "outputs": [
    {
     "data": {
      "text/plain": [
       "array([[ 9, 10, 11],\n",
       "       [ 0,  1,  2],\n",
       "       [ 6,  7,  8]])"
      ]
     },
     "execution_count": 56,
     "metadata": {},
     "output_type": "execute_result"
    }
   ],
   "source": [
    "yeniMatrix[[3,0,2]]"
   ]
  },
  {
   "cell_type": "markdown",
   "id": "171d4a29",
   "metadata": {},
   "source": [
    "## Operasyonlar"
   ]
  },
  {
   "cell_type": "code",
   "execution_count": 60,
   "id": "0a738e45",
   "metadata": {},
   "outputs": [
    {
     "data": {
      "text/plain": [
       "array([68, 98, 17, 37, 52, 73, 58, 57, 18, 80, 73, 99, 89, 16, 85, 57, 71,\n",
       "       99, 66, 56])"
      ]
     },
     "execution_count": 60,
     "metadata": {},
     "output_type": "execute_result"
    }
   ],
   "source": [
    "liste= np.random.randint(1,100,20)\n",
    "liste"
   ]
  },
  {
   "cell_type": "code",
   "execution_count": 61,
   "id": "ba42b138",
   "metadata": {},
   "outputs": [
    {
     "data": {
      "text/plain": [
       "array([ True,  True, False,  True,  True,  True,  True,  True, False,\n",
       "        True,  True,  True,  True, False,  True,  True,  True,  True,\n",
       "        True,  True])"
      ]
     },
     "execution_count": 61,
     "metadata": {},
     "output_type": "execute_result"
    }
   ],
   "source": [
    "liste>25"
   ]
  },
  {
   "cell_type": "code",
   "execution_count": 65,
   "id": "9e7bac92",
   "metadata": {},
   "outputs": [
    {
     "data": {
      "text/plain": [
       "array([68, 98, 37, 52, 73, 58, 57, 80, 73, 99, 89, 85, 57, 71, 99, 66, 56])"
      ]
     },
     "execution_count": 65,
     "metadata": {},
     "output_type": "execute_result"
    }
   ],
   "source": [
    "sonListe=liste>25\n",
    "liste[sonListe]"
   ]
  },
  {
   "cell_type": "code",
   "execution_count": 67,
   "id": "c64ec842",
   "metadata": {},
   "outputs": [
    {
     "data": {
      "text/plain": [
       "array([136, 196,  34,  74, 104, 146, 116, 114,  36, 160, 146, 198, 178,\n",
       "        32, 170, 114, 142, 198, 132, 112])"
      ]
     },
     "execution_count": 67,
     "metadata": {},
     "output_type": "execute_result"
    }
   ],
   "source": [
    "liste+liste # diğer işlemler de yapılabilir"
   ]
  },
  {
   "cell_type": "code",
   "execution_count": 68,
   "id": "c3b1a85c",
   "metadata": {},
   "outputs": [
    {
     "data": {
      "text/plain": [
       "array([8.24621125, 9.89949494, 4.12310563, 6.08276253, 7.21110255,\n",
       "       8.54400375, 7.61577311, 7.54983444, 4.24264069, 8.94427191,\n",
       "       8.54400375, 9.94987437, 9.43398113, 4.        , 9.21954446,\n",
       "       7.54983444, 8.42614977, 9.94987437, 8.1240384 , 7.48331477])"
      ]
     },
     "execution_count": 68,
     "metadata": {},
     "output_type": "execute_result"
    }
   ],
   "source": [
    "np.sqrt(liste)"
   ]
  }
 ],
 "metadata": {
  "kernelspec": {
   "display_name": "Python 3",
   "language": "python",
   "name": "python3"
  },
  "language_info": {
   "codemirror_mode": {
    "name": "ipython",
    "version": 3
   },
   "file_extension": ".py",
   "mimetype": "text/x-python",
   "name": "python",
   "nbconvert_exporter": "python",
   "pygments_lexer": "ipython3",
   "version": "3.8.8"
  }
 },
 "nbformat": 4,
 "nbformat_minor": 5
}
